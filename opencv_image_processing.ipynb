{
  "nbformat": 4,
  "nbformat_minor": 0,
  "metadata": {
    "colab": {
      "name": "opencv-image_processing.ipynb",
      "provenance": [],
      "authorship_tag": "ABX9TyN2sZFmMK0m9NOS/nTKY2oY",
      "include_colab_link": true
    },
    "kernelspec": {
      "name": "python3",
      "display_name": "Python 3"
    },
    "language_info": {
      "name": "python"
    }
  },
  "cells": [
    {
      "cell_type": "markdown",
      "metadata": {
        "id": "view-in-github",
        "colab_type": "text"
      },
      "source": [
        "<a href=\"https://colab.research.google.com/github/anjalinagel12/Google-colab-notebook/blob/master/opencv_image_processing.ipynb\" target=\"_parent\"><img src=\"https://colab.research.google.com/assets/colab-badge.svg\" alt=\"Open In Colab\"/></a>"
      ]
    },
    {
      "cell_type": "code",
      "metadata": {
        "id": "7vCDnvWBgXnb"
      },
      "source": [
        ""
      ],
      "execution_count": 2,
      "outputs": []
    },
    {
      "cell_type": "markdown",
      "metadata": {
        "id": "CJoK-eSveSth"
      },
      "source": [
        "# *OPENCV* convert image to black and white"
      ]
    },
    {
      "cell_type": "code",
      "metadata": {
        "id": "tlq63i0Gegyl"
      },
      "source": [
        "import cv2\n",
        "im_gray = cv2.imread('/content/MYdecentPic.jpg', cv2.IMREAD_GRAYSCALE)"
      ],
      "execution_count": 23,
      "outputs": []
    },
    {
      "cell_type": "code",
      "metadata": {
        "id": "JL2ozYVgekBM"
      },
      "source": [
        "(thresh, im_bw) = cv2.threshold(im_gray, 128, 255, cv2.THRESH_BINARY | cv2.THRESH_OTSU)\n"
      ],
      "execution_count": 24,
      "outputs": []
    },
    {
      "cell_type": "code",
      "metadata": {
        "id": "L2r9iV_BenuH"
      },
      "source": [
        "thresh = 127\n",
        "im_bw = cv2.threshold(im_gray, thresh, 255, cv2.THRESH_BINARY)[1]"
      ],
      "execution_count": 25,
      "outputs": []
    },
    {
      "cell_type": "code",
      "metadata": {
        "colab": {
          "base_uri": "https://localhost:8080/"
        },
        "id": "314oN_Exeq1c",
        "outputId": "ce8e4d3c-98c1-40db-a974-58ff0c424ad2"
      },
      "source": [
        "cv2.imwrite('bw_image.png', im_bw)\n"
      ],
      "execution_count": 26,
      "outputs": [
        {
          "output_type": "execute_result",
          "data": {
            "text/plain": [
              "True"
            ]
          },
          "metadata": {},
          "execution_count": 26
        }
      ]
    },
    {
      "cell_type": "code",
      "metadata": {
        "colab": {
          "base_uri": "https://localhost:8080/"
        },
        "id": "Y8gBSXvVeuHS",
        "outputId": "2e4a7de3-edd6-4445-df64-c674b1bc5eb1"
      },
      "source": [
        "print('Original Dimensions : ',im_gray.shape)\n",
        "print('New Dimensions : ',im_bw.shape)\n"
      ],
      "execution_count": 27,
      "outputs": [
        {
          "output_type": "stream",
          "name": "stdout",
          "text": [
            "Original Dimensions :  (992, 773)\n",
            "New Dimensions :  (992, 773)\n"
          ]
        }
      ]
    },
    {
      "cell_type": "code",
      "metadata": {
        "colab": {
          "base_uri": "https://localhost:8080/"
        },
        "id": "lH2VOI3NfsxR",
        "outputId": "e25106fc-710d-40a3-fd92-908a1b83d82f"
      },
      "source": [
        "width = 350\n",
        "height = 450\n",
        "dim = (width, height)\n",
        " \n",
        "# resize image\n",
        "resized = cv2.resize(im_bw, dim, interpolation = cv2.INTER_AREA)\n",
        " \n",
        "print('Resized Dimensions : ',resized.shape)"
      ],
      "execution_count": 28,
      "outputs": [
        {
          "output_type": "stream",
          "name": "stdout",
          "text": [
            "Resized Dimensions :  (450, 350)\n"
          ]
        }
      ]
    },
    {
      "cell_type": "code",
      "metadata": {
        "id": "_Ao3sAargQlS",
        "colab": {
          "base_uri": "https://localhost:8080/"
        },
        "outputId": "e320b1de-108c-4954-8c36-454dc950f5d8"
      },
      "source": [
        "cv2.imwrite('bw_image_resize.png', resized)\n"
      ],
      "execution_count": 29,
      "outputs": [
        {
          "output_type": "execute_result",
          "data": {
            "text/plain": [
              "True"
            ]
          },
          "metadata": {},
          "execution_count": 29
        }
      ]
    },
    {
      "cell_type": "code",
      "metadata": {
        "id": "7wNO4QPkghIr"
      },
      "source": [
        ""
      ],
      "execution_count": 29,
      "outputs": []
    }
  ]
}