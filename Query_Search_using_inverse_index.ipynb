{
  "nbformat": 4,
  "nbformat_minor": 0,
  "metadata": {
    "kernelspec": {
      "name": "python3",
      "display_name": "Python 3"
    },
    "language_info": {
      "codemirror_mode": {
        "name": "ipython",
        "version": 3
      },
      "file_extension": ".py",
      "mimetype": "text/x-python",
      "name": "python",
      "nbconvert_exporter": "python",
      "pygments_lexer": "ipython3",
      "version": "3.7.4"
    },
    "colab": {
      "name": "QuerySearch.ipynb",
      "provenance": [],
      "collapsed_sections": [],
      "include_colab_link": true
    },
    "accelerator": "GPU"
  },
  "cells": [
    {
      "cell_type": "markdown",
      "metadata": {
        "id": "view-in-github",
        "colab_type": "text"
      },
      "source": [
        "<a href=\"https://colab.research.google.com/github/anjalinagel12/Google-colab-notebook/blob/master/Query_Search_using_inverse_index.ipynb\" target=\"_parent\"><img src=\"https://colab.research.google.com/assets/colab-badge.svg\" alt=\"Open In Colab\"/></a>"
      ]
    },
    {
      "cell_type": "markdown",
      "metadata": {
        "id": "nnGyplrCv2x5",
        "colab_type": "text"
      },
      "source": [
        "###Import all the required libraries."
      ]
    },
    {
      "cell_type": "code",
      "metadata": {
        "id": "rkmCOMn6E2RL",
        "colab_type": "code",
        "colab": {}
      },
      "source": [
        "import pandas as pd\n",
        "from nltk.tokenize import word_tokenize\n",
        "from nltk import FreqDist\n",
        "import math\n",
        "from sklearn.feature_extraction.text import TfidfVectorizer\n",
        "from sklearn.metrics.pairwise import cosine_similarity\n",
        "import numpy as np\n",
        "from nltk.corpus import stopwords\n",
        "from nltk.stem import PorterStemmer\n",
        "from nltk.stem import WordNetLemmatizer\n",
        "import re"
      ],
      "execution_count": 0,
      "outputs": []
    },
    {
      "cell_type": "markdown",
      "metadata": {
        "id": "W-HbGFITE7LQ",
        "colab_type": "text"
      },
      "source": [
        "###Loading the data"
      ]
    },
    {
      "cell_type": "code",
      "metadata": {
        "id": "uW0fPdC75_Zw",
        "colab_type": "code",
        "colab": {}
      },
      "source": [
        "df = pd.read_csv('nlp_hackathon_search.csv')"
      ],
      "execution_count": 0,
      "outputs": []
    },
    {
      "cell_type": "code",
      "metadata": {
        "id": "Sz14ymmoE9Bj",
        "colab_type": "code",
        "colab": {
          "base_uri": "https://localhost:8080/",
          "height": 408
        },
        "outputId": "97937b1a-6ba3-42f4-c5d3-1f9a45458762"
      },
      "source": [
        "df.head()"
      ],
      "execution_count": 33,
      "outputs": [
        {
          "output_type": "execute_result",
          "data": {
            "text/html": [
              "<div>\n",
              "<style scoped>\n",
              "    .dataframe tbody tr th:only-of-type {\n",
              "        vertical-align: middle;\n",
              "    }\n",
              "\n",
              "    .dataframe tbody tr th {\n",
              "        vertical-align: top;\n",
              "    }\n",
              "\n",
              "    .dataframe thead th {\n",
              "        text-align: right;\n",
              "    }\n",
              "</style>\n",
              "<table border=\"1\" class=\"dataframe\">\n",
              "  <thead>\n",
              "    <tr style=\"text-align: right;\">\n",
              "      <th></th>\n",
              "      <th>document</th>\n",
              "      <th>question</th>\n",
              "      <th>title</th>\n",
              "      <th>document_id</th>\n",
              "    </tr>\n",
              "  </thead>\n",
              "  <tbody>\n",
              "    <tr>\n",
              "      <th>0</th>\n",
              "      <td>Twilight Princess was released to universal cr...</td>\n",
              "      <td>What kind of scores did Twilight Princess rece...</td>\n",
              "      <td>The_Legend_of_Zelda:_Twilight_Princess</td>\n",
              "      <td>4296602a1bfe11ea8f2b656571b1b549</td>\n",
              "    </tr>\n",
              "    <tr>\n",
              "      <th>1</th>\n",
              "      <td>On 16 August 1960, Cyprus attained independenc...</td>\n",
              "      <td>What is the date that Cyrpus attained independ...</td>\n",
              "      <td>Cyprus</td>\n",
              "      <td>42840a9c1bfe11ea8f2b656571b1b549</td>\n",
              "    </tr>\n",
              "    <tr>\n",
              "      <th>2</th>\n",
              "      <td>Gladstone returned to power after the 1892 gen...</td>\n",
              "      <td>How long did Lord Salisbury remain as Prime Mi...</td>\n",
              "      <td>Queen_Victoria</td>\n",
              "      <td>4277df561bfe11ea8f2b656571b1b549</td>\n",
              "    </tr>\n",
              "    <tr>\n",
              "      <th>3</th>\n",
              "      <td>The emergence of resistance of bacteria to ant...</td>\n",
              "      <td>What is the purpose of antibiotic treatment?</td>\n",
              "      <td>Antibiotics</td>\n",
              "      <td>42902d7c1bfe11ea8f2b656571b1b549</td>\n",
              "    </tr>\n",
              "    <tr>\n",
              "      <th>4</th>\n",
              "      <td>Cetaceans were historically abundant around th...</td>\n",
              "      <td>What other species can be seen close to the sh...</td>\n",
              "      <td>Norfolk_Island</td>\n",
              "      <td>4272a11c1bfe11ea8f2b656571b1b549</td>\n",
              "    </tr>\n",
              "  </tbody>\n",
              "</table>\n",
              "</div>"
            ],
            "text/plain": [
              "                                            document  ...                       document_id\n",
              "0  Twilight Princess was released to universal cr...  ...  4296602a1bfe11ea8f2b656571b1b549\n",
              "1  On 16 August 1960, Cyprus attained independenc...  ...  42840a9c1bfe11ea8f2b656571b1b549\n",
              "2  Gladstone returned to power after the 1892 gen...  ...  4277df561bfe11ea8f2b656571b1b549\n",
              "3  The emergence of resistance of bacteria to ant...  ...  42902d7c1bfe11ea8f2b656571b1b549\n",
              "4  Cetaceans were historically abundant around th...  ...  4272a11c1bfe11ea8f2b656571b1b549\n",
              "\n",
              "[5 rows x 4 columns]"
            ]
          },
          "metadata": {
            "tags": []
          },
          "execution_count": 33
        }
      ]
    },
    {
      "cell_type": "code",
      "metadata": {
        "id": "i-SLfXv6E2T5",
        "colab_type": "code",
        "colab": {
          "base_uri": "https://localhost:8080/",
          "height": 170
        },
        "outputId": "e7f2f0a1-100d-4e99-e72b-94c85570dd11"
      },
      "source": [
        "df.info()\n"
      ],
      "execution_count": 39,
      "outputs": [
        {
          "output_type": "stream",
          "text": [
            "<class 'pandas.core.frame.DataFrame'>\n",
            "RangeIndex: 62399 entries, 0 to 62398\n",
            "Data columns (total 4 columns):\n",
            "document       62394 non-null object\n",
            "question       62352 non-null object\n",
            "title          62352 non-null object\n",
            "document_id    62352 non-null object\n",
            "dtypes: object(4)\n",
            "memory usage: 1.9+ MB\n"
          ],
          "name": "stdout"
        }
      ]
    },
    {
      "cell_type": "markdown",
      "metadata": {
        "id": "GXib0AAKFZ5Z",
        "colab_type": "text"
      },
      "source": [
        "###Check for Null Values"
      ]
    },
    {
      "cell_type": "code",
      "metadata": {
        "id": "07XZ5_iME2Wl",
        "colab_type": "code",
        "colab": {
          "base_uri": "https://localhost:8080/",
          "height": 102
        },
        "outputId": "969289b1-eb4f-4d2b-e4b1-37a086f37b6a"
      },
      "source": [
        "df.isnull().sum()\n"
      ],
      "execution_count": 35,
      "outputs": [
        {
          "output_type": "execute_result",
          "data": {
            "text/plain": [
              "document        5\n",
              "question       47\n",
              "title          47\n",
              "document_id    47\n",
              "dtype: int64"
            ]
          },
          "metadata": {
            "tags": []
          },
          "execution_count": 35
        }
      ]
    },
    {
      "cell_type": "code",
      "metadata": {
        "id": "cbhcSRHSGKR5",
        "colab_type": "code",
        "colab": {
          "base_uri": "https://localhost:8080/",
          "height": 34
        },
        "outputId": "1629ef11-40d2-4059-f79e-e6015d475f66"
      },
      "source": [
        "print(\"Total Data:\",len(df))\n"
      ],
      "execution_count": 40,
      "outputs": [
        {
          "output_type": "stream",
          "text": [
            "Total Data: 62399\n"
          ],
          "name": "stdout"
        }
      ]
    },
    {
      "cell_type": "code",
      "metadata": {
        "id": "aZj-A1CAE2Zi",
        "colab_type": "code",
        "colab": {}
      },
      "source": [
        "#NUll values are very less 47/62399"
      ],
      "execution_count": 0,
      "outputs": []
    },
    {
      "cell_type": "code",
      "metadata": {
        "id": "nd9tSWGQ7Lji",
        "colab_type": "code",
        "colab": {}
      },
      "source": [
        "df1=df.dropna()"
      ],
      "execution_count": 0,
      "outputs": []
    },
    {
      "cell_type": "code",
      "metadata": {
        "id": "OcPo3fEeGatR",
        "colab_type": "code",
        "colab": {
          "base_uri": "https://localhost:8080/",
          "height": 34
        },
        "outputId": "ff550529-43b7-4f32-e228-7c6483b53de7"
      },
      "source": [
        "len(df1)"
      ],
      "execution_count": 45,
      "outputs": [
        {
          "output_type": "execute_result",
          "data": {
            "text/plain": [
              "62352"
            ]
          },
          "metadata": {
            "tags": []
          },
          "execution_count": 45
        }
      ]
    },
    {
      "cell_type": "markdown",
      "metadata": {
        "id": "TTbSH0swNgTN",
        "colab_type": "text"
      },
      "source": [
        "###lemmatization"
      ]
    },
    {
      "cell_type": "code",
      "metadata": {
        "id": "Ap0qGcmYNUbA",
        "colab_type": "code",
        "colab": {
          "base_uri": "https://localhost:8080/",
          "height": 68
        },
        "outputId": "831525fb-4433-4d1e-9eaa-ac28c1c9236a"
      },
      "source": [
        "import nltk\n",
        "nltk.download('punkt')"
      ],
      "execution_count": 49,
      "outputs": [
        {
          "output_type": "stream",
          "text": [
            "[nltk_data] Downloading package punkt to /root/nltk_data...\n",
            "[nltk_data]   Unzipping tokenizers/punkt.zip.\n"
          ],
          "name": "stdout"
        },
        {
          "output_type": "execute_result",
          "data": {
            "text/plain": [
              "True"
            ]
          },
          "metadata": {
            "tags": []
          },
          "execution_count": 49
        }
      ]
    },
    {
      "cell_type": "code",
      "metadata": {
        "id": "CcKxLuZvNUd5",
        "colab_type": "code",
        "colab": {
          "base_uri": "https://localhost:8080/",
          "height": 68
        },
        "outputId": "73b0a5f1-1dcc-4f85-bae2-e69164d2a0c9"
      },
      "source": [
        "import nltk\n",
        "nltk.download('stopwords')"
      ],
      "execution_count": 48,
      "outputs": [
        {
          "output_type": "stream",
          "text": [
            "[nltk_data] Downloading package stopwords to /root/nltk_data...\n",
            "[nltk_data]   Unzipping corpora/stopwords.zip.\n"
          ],
          "name": "stdout"
        },
        {
          "output_type": "execute_result",
          "data": {
            "text/plain": [
              "True"
            ]
          },
          "metadata": {
            "tags": []
          },
          "execution_count": 48
        }
      ]
    },
    {
      "cell_type": "code",
      "metadata": {
        "id": "jGsjq4ZVOGeQ",
        "colab_type": "code",
        "colab": {
          "base_uri": "https://localhost:8080/",
          "height": 68
        },
        "outputId": "1fdd5c9c-a9bc-4782-a6d9-fa2048ea221a"
      },
      "source": [
        "import nltk\n",
        "nltk.download('wordnet')"
      ],
      "execution_count": 54,
      "outputs": [
        {
          "output_type": "stream",
          "text": [
            "[nltk_data] Downloading package wordnet to /root/nltk_data...\n",
            "[nltk_data]   Unzipping corpora/wordnet.zip.\n"
          ],
          "name": "stdout"
        },
        {
          "output_type": "execute_result",
          "data": {
            "text/plain": [
              "True"
            ]
          },
          "metadata": {
            "tags": []
          },
          "execution_count": 54
        }
      ]
    },
    {
      "cell_type": "code",
      "metadata": {
        "id": "C6OC2R8wGk6c",
        "colab_type": "code",
        "colab": {}
      },
      "source": [
        "text = tuple(df1['document'])\n",
        "i_d = tuple(df1['document_id'])\n",
        "questions = tuple(df1['question'])"
      ],
      "execution_count": 0,
      "outputs": []
    },
    {
      "cell_type": "code",
      "metadata": {
        "id": "DNrwwiOdIA_w",
        "colab_type": "code",
        "colab": {}
      },
      "source": [
        "lemmatizer = WordNetLemmatizer()\n",
        "stopw = stopwords.words('english')"
      ],
      "execution_count": 0,
      "outputs": []
    },
    {
      "cell_type": "markdown",
      "metadata": {
        "id": "NET5tkmMNq1L",
        "colab_type": "text"
      },
      "source": [
        "###Tokenizing the data and removing stop words"
      ]
    },
    {
      "cell_type": "code",
      "metadata": {
        "id": "pvs-drnWIIPm",
        "colab_type": "code",
        "colab": {}
      },
      "source": [
        "def process_doc(doc_list, doc_id):\n",
        "    doc_to_terms = {} \n",
        "    for doc, id1  in zip(doc_list, doc_id):\n",
        "        pattern = re.compile('[\\W_]+')\n",
        "        doc = pattern.sub(' ',doc)\n",
        "        re.sub(r'[\\W_]+','', doc)\n",
        "        tokens = doc.lower().split()\n",
        "        #stopw = stopwords.words('english')\n",
        "        clean_tokens = [] #tokens[:]\n",
        "        for token in tokens:\n",
        "            if token not in stopw:\n",
        "                token = token.replace(',','')\n",
        "                token = token.strip('.')                \n",
        "                clean_tokens.append(lemmatizer.lemmatize(token))\n",
        "        if id1 in doc_to_terms.keys():\n",
        "            doc_to_terms[id1].extend(clean_tokens)\n",
        "        else:\n",
        "            doc_to_terms[id1] = clean_tokens\n",
        "        #if(id1 == '42840a9c1bfe11ea8f2b656571b1b549'):\n",
        "        #    print(\"printing doc: \")\n",
        "        #    print(doc)\n",
        "        #    print(\"printing tokens: \")\n",
        "        #    print(clean_tokens)\n",
        "        #    print(\"printing total terms: \")\n",
        "        #    print(doc_to_terms[id1])\n",
        "    return doc_to_terms"
      ],
      "execution_count": 0,
      "outputs": []
    },
    {
      "cell_type": "code",
      "metadata": {
        "id": "GA-J1XA8Nw5d",
        "colab_type": "code",
        "colab": {}
      },
      "source": [
        "terms = process_doc(text, i_d)\n",
        "question_terms = process_doc(questions, i_d)\n"
      ],
      "execution_count": 0,
      "outputs": []
    },
    {
      "cell_type": "markdown",
      "metadata": {
        "id": "qhauFq9ZOBM5",
        "colab_type": "text"
      },
      "source": [
        "###Indexing a single document."
      ]
    },
    {
      "cell_type": "code",
      "metadata": {
        "id": "1hYwYz_2PJwE",
        "colab_type": "code",
        "colab": {}
      },
      "source": [
        "def index_to_doc(termlist):\n",
        "    docIndex = {}\n",
        "    for index, word in enumerate(termlist):\n",
        "        if word in docIndex.keys():\n",
        "            docIndex[word].append(index)\n",
        "        else:\n",
        "            docIndex[word] = [index]\n",
        "    return docIndex"
      ],
      "execution_count": 0,
      "outputs": []
    },
    {
      "cell_type": "markdown",
      "metadata": {
        "id": "JlKjNecmPWTW",
        "colab_type": "text"
      },
      "source": [
        "###Indexing all the documents"
      ]
    },
    {
      "cell_type": "code",
      "metadata": {
        "id": "QOmeqL9sPVTn",
        "colab_type": "code",
        "colab": {}
      },
      "source": [
        "def make_indices(termlists):\n",
        "    total = {}\n",
        "    for doc in termlists.keys():\n",
        "        total[doc] = index_to_doc(termlists[doc])\n",
        "    return total"
      ],
      "execution_count": 0,
      "outputs": []
    },
    {
      "cell_type": "code",
      "metadata": {
        "id": "966K0XngPKfy",
        "colab_type": "code",
        "colab": {}
      },
      "source": [
        "index = make_indices(terms)\n",
        "question_index = make_indices(question_terms)"
      ],
      "execution_count": 0,
      "outputs": []
    },
    {
      "cell_type": "markdown",
      "metadata": {
        "id": "Le4wg_bvPqrN",
        "colab_type": "text"
      },
      "source": [
        "###Inverting the index"
      ]
    },
    {
      "cell_type": "code",
      "metadata": {
        "id": "9KzUg1LEPerL",
        "colab_type": "code",
        "colab": {}
      },
      "source": [
        "def fullIndex(regdex):\n",
        "    total_index = {}\n",
        "    for docId in regdex.keys():\n",
        "        #print(docId)\n",
        "        for word in regdex[docId].keys():\n",
        "            #print(word)\n",
        "            if word in total_index.keys():\n",
        "                if docId in total_index[word].keys():\n",
        "                    total_index[word][docId].extend(regdex[docId][word][:])\n",
        "                else:\n",
        "                    total_index[word][docId] = regdex[docId][word]\n",
        "            else:\n",
        "                total_index[word] = {docId: regdex[docId][word]}\n",
        "    return total_index"
      ],
      "execution_count": 0,
      "outputs": []
    },
    {
      "cell_type": "markdown",
      "metadata": {
        "id": "yz888yHvPy30",
        "colab_type": "text"
      },
      "source": [
        "###Indexing both documents and questions"
      ]
    },
    {
      "cell_type": "code",
      "metadata": {
        "id": "81u3m9I7PuLV",
        "colab_type": "code",
        "colab": {}
      },
      "source": [
        "f_index = fullIndex(index)\n",
        "q_index = fullIndex(question_index)"
      ],
      "execution_count": 0,
      "outputs": []
    },
    {
      "cell_type": "markdown",
      "metadata": {
        "id": "3RuZ07hEP9RS",
        "colab_type": "text"
      },
      "source": [
        "###Querying the index for a single word"
      ]
    },
    {
      "cell_type": "code",
      "metadata": {
        "id": "dLQA4lXXP2uh",
        "colab_type": "code",
        "colab": {}
      },
      "source": [
        "def one_word_query(word, invertedIndex):\n",
        "    pattern = re.compile('[\\W_]+')\n",
        "    word = pattern.sub(' ',word)\n",
        "    word = word.lower()\n",
        "    word = lemmatizer.lemmatize(word)\n",
        "    if word in invertedIndex.keys():\n",
        "        return [filename for filename in invertedIndex[word].keys()]\n",
        "    else:\n",
        "        return []"
      ],
      "execution_count": 0,
      "outputs": []
    },
    {
      "cell_type": "markdown",
      "metadata": {
        "id": "j8atBE2wQG1F",
        "colab_type": "text"
      },
      "source": [
        "###Querying the index for multiple words"
      ]
    },
    {
      "cell_type": "code",
      "metadata": {
        "id": "wSv505HuQCIb",
        "colab_type": "code",
        "colab": {}
      },
      "source": [
        "def free_text_query(string, index):\n",
        "    result = set(df1['document_id'])\n",
        "    #stopw = stopwords.words('english')\n",
        "    for word in string.split():\n",
        "        word = word.lower()\n",
        "        if word not in stopw:\n",
        "            temp = set(one_word_query(word, index))\n",
        "            result = result.intersection(temp)\n",
        "    return set(result)"
      ],
      "execution_count": 0,
      "outputs": []
    },
    {
      "cell_type": "markdown",
      "metadata": {
        "id": "c0WNXC0eQTtQ",
        "colab_type": "text"
      },
      "source": [
        "###The search utility to search for a perticular query"
      ]
    },
    {
      "cell_type": "code",
      "metadata": {
        "id": "HQt3uhRQQKpy",
        "colab_type": "code",
        "colab": {}
      },
      "source": [
        "def search(string):\n",
        "    stopw = stopwords.words('english')\n",
        "    pattern = re.compile('[\\W_]+')\n",
        "    string = pattern.sub(' ',string)    \n",
        "    result = set()\n",
        "    result.update(free_text_query(string, q_index))\n",
        "    result.update(free_text_query(string, f_index))\n",
        "    #result = {*temp}\n",
        "    return list(result)"
      ],
      "execution_count": 0,
      "outputs": []
    },
    {
      "cell_type": "code",
      "metadata": {
        "id": "C9ZnVOnSQYhz",
        "colab_type": "code",
        "colab": {
          "base_uri": "https://localhost:8080/",
          "height": 34
        },
        "outputId": "e5e88750-dbc7-4ca8-8de3-5f89d96b3c24"
      },
      "source": [
        "search('What other species can be seen close to the shores of Norfolk Island?')\n"
      ],
      "execution_count": 69,
      "outputs": [
        {
          "output_type": "execute_result",
          "data": {
            "text/plain": [
              "['4272a11c1bfe11ea8f2b656571b1b549']"
            ]
          },
          "metadata": {
            "tags": []
          },
          "execution_count": 69
        }
      ]
    },
    {
      "cell_type": "code",
      "metadata": {
        "id": "ugQcq661Qf84",
        "colab_type": "code",
        "colab": {}
      },
      "source": [
        ""
      ],
      "execution_count": 0,
      "outputs": []
    }
  ]
}