{
  "nbformat": 4,
  "nbformat_minor": 0,
  "metadata": {
    "kernelspec": {
      "name": "python3",
      "display_name": "Python 3"
    },
    "language_info": {
      "codemirror_mode": {
        "name": "ipython",
        "version": 3
      },
      "file_extension": ".py",
      "mimetype": "text/x-python",
      "name": "python",
      "nbconvert_exporter": "python",
      "pygments_lexer": "ipython3",
      "version": "3.6.6"
    },
    "colab": {
      "name": "similar_QA_from_different_docs_using_Glove_and_ANNOY.ipynb",
      "provenance": [],
      "collapsed_sections": [],
      "include_colab_link": true
    },
    "accelerator": "GPU"
  },
  "cells": [
    {
      "cell_type": "markdown",
      "metadata": {
        "id": "view-in-github",
        "colab_type": "text"
      },
      "source": [
        "<a href=\"https://colab.research.google.com/github/anjalinagel12/Google-colab-notebook/blob/master/similar_QA_from_different_docs_using_Glove_and_ANNOY.ipynb\" target=\"_parent\"><img src=\"https://colab.research.google.com/assets/colab-badge.svg\" alt=\"Open In Colab\"/></a>"
      ]
    },
    {
      "cell_type": "markdown",
      "metadata": {
        "id": "2GQJ7vn9IDMD",
        "colab_type": "text"
      },
      "source": [
        "# Imports"
      ]
    },
    {
      "cell_type": "code",
      "metadata": {
        "colab_type": "code",
        "id": "fpcDeLzTMZBA",
        "colab": {
          "base_uri": "https://localhost:8080/",
          "height": 122
        },
        "outputId": "2aed78b8-60dd-4e7b-ca8a-910ec085bddf"
      },
      "source": [
        "from google.colab import drive\n",
        "drive.mount('/content/drive')"
      ],
      "execution_count": 1,
      "outputs": [
        {
          "output_type": "stream",
          "text": [
            "Go to this URL in a browser: https://accounts.google.com/o/oauth2/auth?client_id=947318989803-6bn6qk8qdgf4n4g3pfee6491hc0brc4i.apps.googleusercontent.com&redirect_uri=urn%3aietf%3awg%3aoauth%3a2.0%3aoob&response_type=code&scope=email%20https%3a%2f%2fwww.googleapis.com%2fauth%2fdocs.test%20https%3a%2f%2fwww.googleapis.com%2fauth%2fdrive%20https%3a%2f%2fwww.googleapis.com%2fauth%2fdrive.photos.readonly%20https%3a%2f%2fwww.googleapis.com%2fauth%2fpeopleapi.readonly\n",
            "\n",
            "Enter your authorization code:\n",
            "··········\n",
            "Mounted at /content/drive\n"
          ],
          "name": "stdout"
        }
      ]
    },
    {
      "cell_type": "code",
      "metadata": {
        "id": "jN0Zs3IIIVOO",
        "colab_type": "code",
        "outputId": "23c565f5-7bee-4522-eeb6-fb495cf5107a",
        "colab": {
          "base_uri": "https://localhost:8080/",
          "height": 119
        }
      },
      "source": [
        "!git clone https://github.com/faysal887/semantic_text_similarity.git"
      ],
      "execution_count": 2,
      "outputs": [
        {
          "output_type": "stream",
          "text": [
            "Cloning into 'semantic_text_similarity'...\n",
            "remote: Enumerating objects: 49, done.\u001b[K\n",
            "remote: Counting objects:   2% (1/49)\u001b[K\rremote: Counting objects:   4% (2/49)\u001b[K\rremote: Counting objects:   6% (3/49)\u001b[K\rremote: Counting objects:   8% (4/49)\u001b[K\rremote: Counting objects:  10% (5/49)\u001b[K\rremote: Counting objects:  12% (6/49)\u001b[K\rremote: Counting objects:  14% (7/49)\u001b[K\rremote: Counting objects:  16% (8/49)\u001b[K\rremote: Counting objects:  18% (9/49)\u001b[K\rremote: Counting objects:  20% (10/49)\u001b[K\rremote: Counting objects:  22% (11/49)\u001b[K\rremote: Counting objects:  24% (12/49)\u001b[K\rremote: Counting objects:  26% (13/49)\u001b[K\rremote: Counting objects:  28% (14/49)\u001b[K\rremote: Counting objects:  30% (15/49)\u001b[K\rremote: Counting objects:  32% (16/49)\u001b[K\rremote: Counting objects:  34% (17/49)\u001b[K\rremote: Counting objects:  36% (18/49)\u001b[K\rremote: Counting objects:  38% (19/49)\u001b[K\rremote: Counting objects:  40% (20/49)\u001b[K\rremote: Counting objects:  42% (21/49)\u001b[K\rremote: Counting objects:  44% (22/49)\u001b[K\rremote: Counting objects:  46% (23/49)\u001b[K\rremote: Counting objects:  48% (24/49)\u001b[K\rremote: Counting objects:  51% (25/49)\u001b[K\rremote: Counting objects:  53% (26/49)\u001b[K\rremote: Counting objects:  55% (27/49)\u001b[K\rremote: Counting objects:  57% (28/49)\u001b[K\rremote: Counting objects:  59% (29/49)\u001b[K\rremote: Counting objects:  61% (30/49)\u001b[K\rremote: Counting objects:  63% (31/49)\u001b[K\rremote: Counting objects:  65% (32/49)\u001b[K\rremote: Counting objects:  67% (33/49)\u001b[K\rremote: Counting objects:  69% (34/49)\u001b[K\rremote: Counting objects:  71% (35/49)\u001b[K\rremote: Counting objects:  73% (36/49)\u001b[K\rremote: Counting objects:  75% (37/49)\u001b[K\rremote: Counting objects:  77% (38/49)\u001b[K\rremote: Counting objects:  79% (39/49)\u001b[K\rremote: Counting objects:  81% (40/49)\u001b[K\rremote: Counting objects:  83% (41/49)\u001b[K\rremote: Counting objects:  85% (42/49)\u001b[K\rremote: Counting objects:  87% (43/49)\u001b[K\rremote: Counting objects:  89% (44/49)\u001b[K\rremote: Counting objects:  91% (45/49)\u001b[K\rremote: Counting objects:  93% (46/49)\u001b[K\rremote: Counting objects:  95% (47/49)\u001b[K\rremote: Counting objects:  97% (48/49)\u001b[K\rremote: Counting objects: 100% (49/49)\u001b[K\rremote: Counting objects: 100% (49/49), done.\u001b[K\n",
            "remote: Compressing objects:   2% (1/41)\u001b[K\rremote: Compressing objects:   4% (2/41)\u001b[K\rremote: Compressing objects:   7% (3/41)\u001b[K\rremote: Compressing objects:   9% (4/41)\u001b[K\rremote: Compressing objects:  12% (5/41)\u001b[K\rremote: Compressing objects:  14% (6/41)\u001b[K\rremote: Compressing objects:  17% (7/41)\u001b[K\rremote: Compressing objects:  19% (8/41)\u001b[K\rremote: Compressing objects:  21% (9/41)\u001b[K\rremote: Compressing objects:  24% (10/41)\u001b[K\rremote: Compressing objects:  26% (11/41)\u001b[K\rremote: Compressing objects:  29% (12/41)\u001b[K\rremote: Compressing objects:  31% (13/41)\u001b[K\rremote: Compressing objects:  34% (14/41)\u001b[K\rremote: Compressing objects:  36% (15/41)\u001b[K\rremote: Compressing objects:  39% (16/41)\u001b[K\rremote: Compressing objects:  41% (17/41)\u001b[K\rremote: Compressing objects:  43% (18/41)\u001b[K\rremote: Compressing objects:  46% (19/41)\u001b[K\rremote: Compressing objects:  48% (20/41)\u001b[K\rremote: Compressing objects:  51% (21/41)\u001b[K\rremote: Compressing objects:  53% (22/41)\u001b[K\rremote: Compressing objects:  56% (23/41)\u001b[K\rremote: Compressing objects:  58% (24/41)\u001b[K\rremote: Compressing objects:  60% (25/41)\u001b[K\rremote: Compressing objects:  63% (26/41)\u001b[K\rremote: Compressing objects:  65% (27/41)\u001b[K\rremote: Compressing objects:  68% (28/41)\u001b[K\rremote: Compressing objects:  70% (29/41)\u001b[K\rremote: Compressing objects:  73% (30/41)\u001b[K\rremote: Compressing objects:  75% (31/41)\u001b[K\rremote: Compressing objects:  78% (32/41)\u001b[K\rremote: Compressing objects:  80% (33/41)\u001b[K\rremote: Compressing objects:  82% (34/41)\u001b[K\rremote: Compressing objects:  85% (35/41)\u001b[K\rremote: Compressing objects:  87% (36/41)\u001b[K\rremote: Compressing objects:  90% (37/41)\u001b[K\rremote: Compressing objects:  92% (38/41)\u001b[K\rremote: Compressing objects:  95% (39/41)\u001b[K\rremote: Compressing objects:  97% (40/41)\u001b[K\rremote: Compressing objects: 100% (41/41)\u001b[K\rremote: Compressing objects: 100% (41/41), done.\u001b[K\n",
            "Unpacking objects:   2% (1/49)   \rUnpacking objects:   4% (2/49)   \rUnpacking objects:   6% (3/49)   \rUnpacking objects:   8% (4/49)   \rUnpacking objects:  10% (5/49)   \rUnpacking objects:  12% (6/49)   \rUnpacking objects:  14% (7/49)   \rUnpacking objects:  16% (8/49)   \rUnpacking objects:  18% (9/49)   \rUnpacking objects:  20% (10/49)   \rUnpacking objects:  22% (11/49)   \rUnpacking objects:  24% (12/49)   \rUnpacking objects:  26% (13/49)   \rUnpacking objects:  28% (14/49)   \rUnpacking objects:  30% (15/49)   \rUnpacking objects:  32% (16/49)   \rUnpacking objects:  34% (17/49)   \rUnpacking objects:  36% (18/49)   \rUnpacking objects:  38% (19/49)   \rUnpacking objects:  40% (20/49)   \rUnpacking objects:  42% (21/49)   \rUnpacking objects:  44% (22/49)   \rUnpacking objects:  46% (23/49)   \rUnpacking objects:  48% (24/49)   \rUnpacking objects:  51% (25/49)   \rUnpacking objects:  53% (26/49)   \rUnpacking objects:  55% (27/49)   \rUnpacking objects:  57% (28/49)   \rUnpacking objects:  59% (29/49)   \rUnpacking objects:  61% (30/49)   \rUnpacking objects:  63% (31/49)   \rUnpacking objects:  65% (32/49)   \rUnpacking objects:  67% (33/49)   \rUnpacking objects:  69% (34/49)   \rUnpacking objects:  71% (35/49)   \rUnpacking objects:  73% (36/49)   \rremote: Total 49 (delta 18), reused 25 (delta 6), pack-reused 0\u001b[K\n",
            "Unpacking objects:  75% (37/49)   \rUnpacking objects:  77% (38/49)   \rUnpacking objects:  79% (39/49)   \rUnpacking objects:  81% (40/49)   \rUnpacking objects:  83% (41/49)   \rUnpacking objects:  85% (42/49)   \rUnpacking objects:  87% (43/49)   \rUnpacking objects:  89% (44/49)   \rUnpacking objects:  91% (45/49)   \rUnpacking objects:  93% (46/49)   \rUnpacking objects:  95% (47/49)   \rUnpacking objects:  97% (48/49)   \rUnpacking objects: 100% (49/49)   \rUnpacking objects: 100% (49/49), done.\n"
          ],
          "name": "stdout"
        }
      ]
    },
    {
      "cell_type": "code",
      "metadata": {
        "id": "RQW8cvRSIqej",
        "colab_type": "code",
        "outputId": "d943528a-a53a-4ac6-baf9-8befe0f03bc1",
        "colab": {
          "base_uri": "https://localhost:8080/",
          "height": 34
        }
      },
      "source": [
        "cd semantic_text_similarity"
      ],
      "execution_count": 3,
      "outputs": [
        {
          "output_type": "stream",
          "text": [
            "/content/semantic_text_similarity\n"
          ],
          "name": "stdout"
        }
      ]
    },
    {
      "cell_type": "code",
      "metadata": {
        "id": "soaBvHDcI6sL",
        "colab_type": "code",
        "outputId": "398cd98d-9714-4283-dc8b-f754333521ac",
        "colab": {
          "base_uri": "https://localhost:8080/",
          "height": 34
        }
      },
      "source": [
        "pwd"
      ],
      "execution_count": 4,
      "outputs": [
        {
          "output_type": "execute_result",
          "data": {
            "text/plain": [
              "'/content/semantic_text_similarity'"
            ]
          },
          "metadata": {
            "tags": []
          },
          "execution_count": 4
        }
      ]
    },
    {
      "cell_type": "code",
      "metadata": {
        "id": "xo03d68QJAwX",
        "colab_type": "code",
        "colab": {
          "base_uri": "https://localhost:8080/",
          "height": 139
        },
        "outputId": "15be350d-9fe9-44bb-ff79-89b19c5d8594"
      },
      "source": [
        "pip install faiss-cpu "
      ],
      "execution_count": 5,
      "outputs": [
        {
          "output_type": "stream",
          "text": [
            "Collecting faiss-cpu\n",
            "\u001b[?25l  Downloading https://files.pythonhosted.org/packages/c0/99/be4fe3f21363ac20aeaee9c8c25190a17564a44c15a1f3ddad4bc91a91f1/faiss_cpu-1.6.1-cp36-cp36m-manylinux2010_x86_64.whl (7.1MB)\n",
            "\u001b[K     |████████████████████████████████| 7.1MB 13.4MB/s \n",
            "\u001b[?25hRequirement already satisfied: numpy in /usr/local/lib/python3.6/dist-packages (from faiss-cpu) (1.17.5)\n",
            "Installing collected packages: faiss-cpu\n",
            "Successfully installed faiss-cpu-1.6.1\n"
          ],
          "name": "stdout"
        }
      ]
    },
    {
      "cell_type": "code",
      "metadata": {
        "id": "KcLiXYWGIDMI",
        "colab_type": "code",
        "outputId": "02eeef6f-60ef-4d4d-bb6e-4f806557b981",
        "colab": {
          "base_uri": "https://localhost:8080/",
          "height": 17
        }
      },
      "source": [
        "# to prevent to restart kernel when any changes are made to any imported file\n",
        "%reload_ext autoreload\n",
        "%autoreload 2\n",
        "\n",
        "# to import any file from some other directory\n",
        "\n",
        "# to stop printing warnings\n",
        "import warnings\n",
        "warnings.filterwarnings('ignore')\n",
        "def warn(*args, **kwargs):\n",
        "    pass\n",
        "warnings.warn = warn\n",
        "    \n",
        "import pandas as pd\n",
        "import numpy as np\n",
        "pd.set_option('display.max_columns', 100)\n",
        "pd.set_option('display.max_rows', 10000)\n",
        "pd.set_option('display.max_colwidth', -1)\n",
        "\n",
        "# to increase cells width\n",
        "from IPython.core.display import display, HTML\n",
        "display(HTML(\"<style>.container { width:80% !important; }</style>\"))\n",
        "\n",
        "# to enable collapsible Headings and Functions\n",
        "# !pip install jupyter_contrib_nbextensions\n",
        "# !jupyter contrib nbextension install --user\n",
        "# !jupyter nbextensions_configurator enable --user\n",
        "# !jupyter nbextension enable codefolding/main\n",
        "# search collapsible to enable\n",
        "\n",
        "# enable dark theme\n",
        "# !pip install jupyterthemes\n",
        "# !jt -t monokai\n",
        "\n",
        "# monokai\n",
        "# solarizedd\n",
        "# !jt -r\n",
        "import numpy as np\n",
        "import faiss\n",
        "from faiss import normalize_L2\n",
        "import pandas as pd\n",
        "import sys, os\n",
        "from datetime import datetime, timedelta\n",
        "import requests\n",
        "import json\n",
        "import timeit\n",
        "from datetime import datetime\n",
        "import os.path, time\n",
        "from datetime import datetime, timedelta\n",
        "from threading import Timer\n",
        "import pdb, random"
      ],
      "execution_count": 6,
      "outputs": [
        {
          "output_type": "display_data",
          "data": {
            "text/html": [
              "<style>.container { width:80% !important; }</style>"
            ],
            "text/plain": [
              "<IPython.core.display.HTML object>"
            ]
          },
          "metadata": {
            "tags": []
          }
        }
      ]
    },
    {
      "cell_type": "code",
      "metadata": {
        "id": "iVL_B5cAKc9d",
        "colab_type": "code",
        "outputId": "ad35b64e-4c0c-4eeb-e731-4154fe28c83e",
        "colab": {
          "base_uri": "https://localhost:8080/",
          "height": 224
        }
      },
      "source": [
        "!wget --header=\"Host: storage.googleapis.com\" --header=\"User-Agent: Mozilla/5.0 (Macintosh; Intel Mac OS X 10_15_3) AppleWebKit/537.36 (KHTML, like Gecko) Chrome/80.0.3987.122 Safari/537.36\" --header=\"Accept: text/html,application/xhtml+xml,application/xml;q=0.9,image/webp,image/apng,*/*;q=0.8,application/signed-exchange;v=b3;q=0.9\" --header=\"Accept-Language: en-GB,en-US;q=0.9,en;q=0.8\" --header=\"Referer: https://www.kaggle.com/\" \"https://storage.googleapis.com/kaggle-data-sets/167266/380554/compressed/glove.840B.300d.pkl.zip?GoogleAccessId=web-data@kaggle-161607.iam.gserviceaccount.com&Expires=1584047928&Signature=m%2F3yG0XnG2JqrN0p4Vega4hC7orGA6GoE%2FB2ujx%2Fb33OTvoX8OOvAfavfcOv%2B6THU4isxr3HKiyE4EFW8ILDXhd4oLZpfQmZT9xfyZ1pvS05D4mcEdTHbepAlrikWuy8GFRHQ6S7iqHRc60w2g%2BmJIshA%2BFc2eYWxMMSeQLV%2BqPBMm3lLQHolSewi2UJlN5Xfvn5dY5dhaxpcwtPu5hosnaINlN1e5QegtxnnMu4xWRLijqxZ4QbjxC3eOmmErRMZQjHX8oP4vhrgPUchU%2BIVqw%2FX5FoGO601rYtLwLeHV9d4IHN67z8fwmItR%2Fcf7TU5V%2BDlFnK5aUFjxt06a3faA%3D%3D&response-content-disposition=attachment%3B+filename%3Dglove.840B.300d.pkl.zip\" -O \"glove.840B.300d.pkl.zip\" -c"
      ],
      "execution_count": 7,
      "outputs": [
        {
          "output_type": "stream",
          "text": [
            "--2020-03-10 23:01:03--  https://storage.googleapis.com/kaggle-data-sets/167266/380554/compressed/glove.840B.300d.pkl.zip?GoogleAccessId=web-data@kaggle-161607.iam.gserviceaccount.com&Expires=1584047928&Signature=m%2F3yG0XnG2JqrN0p4Vega4hC7orGA6GoE%2FB2ujx%2Fb33OTvoX8OOvAfavfcOv%2B6THU4isxr3HKiyE4EFW8ILDXhd4oLZpfQmZT9xfyZ1pvS05D4mcEdTHbepAlrikWuy8GFRHQ6S7iqHRc60w2g%2BmJIshA%2BFc2eYWxMMSeQLV%2BqPBMm3lLQHolSewi2UJlN5Xfvn5dY5dhaxpcwtPu5hosnaINlN1e5QegtxnnMu4xWRLijqxZ4QbjxC3eOmmErRMZQjHX8oP4vhrgPUchU%2BIVqw%2FX5FoGO601rYtLwLeHV9d4IHN67z8fwmItR%2Fcf7TU5V%2BDlFnK5aUFjxt06a3faA%3D%3D&response-content-disposition=attachment%3B+filename%3Dglove.840B.300d.pkl.zip\n",
            "Resolving storage.googleapis.com (storage.googleapis.com)... 172.217.11.176, 2607:f8b0:4007:80c::2010\n",
            "Connecting to storage.googleapis.com (storage.googleapis.com)|172.217.11.176|:443... connected.\n",
            "HTTP request sent, awaiting response... 200 OK\n",
            "Length: 2505925996 (2.3G) [application/zip]\n",
            "Saving to: ‘glove.840B.300d.pkl.zip’\n",
            "\n",
            "glove.840B.300d.pkl 100%[===================>]   2.33G  64.6MB/s    in 42s     \n",
            "\n",
            "2020-03-10 23:01:45 (57.1 MB/s) - ‘glove.840B.300d.pkl.zip’ saved [2505925996/2505925996]\n",
            "\n"
          ],
          "name": "stdout"
        }
      ]
    },
    {
      "cell_type": "code",
      "metadata": {
        "id": "6g7_i9DqLnol",
        "colab_type": "code",
        "outputId": "5f49e9e8-3403-4fbb-9057-39fc46f82844",
        "colab": {
          "base_uri": "https://localhost:8080/",
          "height": 51
        }
      },
      "source": [
        "!unzip /content/semantic_text_similarity/glove.840B.300d.pkl.zip"
      ],
      "execution_count": 11,
      "outputs": [
        {
          "output_type": "stream",
          "text": [
            "Archive:  /content/semantic_text_similarity/glove.840B.300d.pkl.zip\n",
            "  inflating: glove.840B.300d.pkl     \n"
          ],
          "name": "stdout"
        }
      ]
    },
    {
      "cell_type": "code",
      "metadata": {
        "id": "ITFLGUXyLNoY",
        "colab_type": "code",
        "colab": {}
      },
      "source": [
        "!mv '/content/semantic_text_similarity/glove.840B.300d.pkl' '/content/semantic_text_similarity/data/'"
      ],
      "execution_count": 0,
      "outputs": []
    },
    {
      "cell_type": "markdown",
      "metadata": {
        "id": "jgtIl_9y9Mo2",
        "colab_type": "text"
      },
      "source": [
        "Update get_glove_emb.py for test_df"
      ]
    },
    {
      "cell_type": "code",
      "metadata": {
        "id": "5gB2qP4Q8pAj",
        "colab_type": "code",
        "colab": {}
      },
      "source": [
        "!cp '/content/drive/My Drive/data/get_glove_emb.py' '/content/semantic_text_similarity/utils/'"
      ],
      "execution_count": 0,
      "outputs": []
    },
    {
      "cell_type": "code",
      "metadata": {
        "id": "SwF5hDCvIDMR",
        "colab_type": "code",
        "colab": {}
      },
      "source": [
        "sys.path.append(\"utils/\")\n",
        "from get_glove_emb import get_glove_embeddings\n",
        "from get_glove_emb import get_glove_embeddings_test\n",
        "from similar_git import get_similar_tickets\n"
      ],
      "execution_count": 0,
      "outputs": []
    },
    {
      "cell_type": "markdown",
      "metadata": {
        "colab_type": "text",
        "id": "Trgg8XRIMZAp"
      },
      "source": [
        "#QA"
      ]
    },
    {
      "cell_type": "markdown",
      "metadata": {
        "colab_type": "text",
        "id": "_t2G9wabMZAs"
      },
      "source": [
        "## Get Data"
      ]
    },
    {
      "cell_type": "code",
      "metadata": {
        "id": "1gXwUWFuMflQ",
        "colab_type": "code",
        "outputId": "55ca7af4-f9c4-4a43-a5b2-926c9291e223",
        "colab": {
          "base_uri": "https://localhost:8080/",
          "height": 51
        }
      },
      "source": [
        "!unzip '/content/drive/My Drive/data/nlp_hackathon_search.zip'"
      ],
      "execution_count": 15,
      "outputs": [
        {
          "output_type": "stream",
          "text": [
            "Archive:  /content/drive/My Drive/data/nlp_hackathon_search.zip\n",
            "  inflating: nlp_hackathon_search.csv  \n"
          ],
          "name": "stdout"
        }
      ]
    },
    {
      "cell_type": "code",
      "metadata": {
        "id": "QzP-ljtru9mZ",
        "colab_type": "code",
        "colab": {}
      },
      "source": [
        ""
      ],
      "execution_count": 0,
      "outputs": []
    },
    {
      "cell_type": "code",
      "metadata": {
        "id": "wlFcBORGM9aI",
        "colab_type": "code",
        "outputId": "24e8115a-5794-4b82-fd4a-2ea91b89babf",
        "colab": {
          "base_uri": "https://localhost:8080/",
          "height": 468
        }
      },
      "source": [
        "train_df=pd.read_csv(\"/content/semantic_text_similarity/nlp_hackathon_search.csv\").reset_index(drop=True)\n",
        "train_df.dropna(inplace=True)\n",
        "train_df.head(2)"
      ],
      "execution_count": 16,
      "outputs": [
        {
          "output_type": "execute_result",
          "data": {
            "text/html": [
              "<div>\n",
              "<style scoped>\n",
              "    .dataframe tbody tr th:only-of-type {\n",
              "        vertical-align: middle;\n",
              "    }\n",
              "\n",
              "    .dataframe tbody tr th {\n",
              "        vertical-align: top;\n",
              "    }\n",
              "\n",
              "    .dataframe thead th {\n",
              "        text-align: right;\n",
              "    }\n",
              "</style>\n",
              "<table border=\"1\" class=\"dataframe\">\n",
              "  <thead>\n",
              "    <tr style=\"text-align: right;\">\n",
              "      <th></th>\n",
              "      <th>document</th>\n",
              "      <th>question</th>\n",
              "      <th>title</th>\n",
              "      <th>document_id</th>\n",
              "    </tr>\n",
              "  </thead>\n",
              "  <tbody>\n",
              "    <tr>\n",
              "      <th>0</th>\n",
              "      <td>Twilight Princess was released to universal critical acclaim and commercial success. It received perfect scores from major publications such as 1UP.com, Computer and Video Games, Electronic Gaming Monthly, Game Informer, GamesRadar, and GameSpy. On the review aggregators GameRankings and Metacritic, Twilight Princess has average scores of 95% and 95 for the Wii version and scores of 95% and 96 for the GameCube version. GameTrailers in their review called it one of the greatest games ever created.</td>\n",
              "      <td>What kind of scores did Twilight Princess receive from many video game review sources?</td>\n",
              "      <td>The_Legend_of_Zelda:_Twilight_Princess</td>\n",
              "      <td>4296602a1bfe11ea8f2b656571b1b549</td>\n",
              "    </tr>\n",
              "    <tr>\n",
              "      <th>1</th>\n",
              "      <td>On 16 August 1960, Cyprus attained independence after the Zürich and London Agreement between the United Kingdom, Greece and Turkey. Cyprus had a total population of 573,566; of whom 442,138 (77.1%) were Greeks, 104,320 (18.2%) Turks, and 27,108 (4.7%) others  The UK retained the two Sovereign Base Areas of Akrotiri and Dhekelia, while government posts and public offices were allocated by ethnic quotas, giving the minority Turkish Cypriots a permanent veto, 30% in parliament and administration, and granting the three mother-states guarantor rights.</td>\n",
              "      <td>What is the date that Cyrpus attained independence?</td>\n",
              "      <td>Cyprus</td>\n",
              "      <td>42840a9c1bfe11ea8f2b656571b1b549</td>\n",
              "    </tr>\n",
              "  </tbody>\n",
              "</table>\n",
              "</div>"
            ],
            "text/plain": [
              "                                                                                                                                                                                                                                                                                                                                                                                                                                                                                                                                                                     document  \\\n",
              "0  Twilight Princess was released to universal critical acclaim and commercial success. It received perfect scores from major publications such as 1UP.com, Computer and Video Games, Electronic Gaming Monthly, Game Informer, GamesRadar, and GameSpy. On the review aggregators GameRankings and Metacritic, Twilight Princess has average scores of 95% and 95 for the Wii version and scores of 95% and 96 for the GameCube version. GameTrailers in their review called it one of the greatest games ever created.                                                        \n",
              "1  On 16 August 1960, Cyprus attained independence after the Zürich and London Agreement between the United Kingdom, Greece and Turkey. Cyprus had a total population of 573,566; of whom 442,138 (77.1%) were Greeks, 104,320 (18.2%) Turks, and 27,108 (4.7%) others  The UK retained the two Sovereign Base Areas of Akrotiri and Dhekelia, while government posts and public offices were allocated by ethnic quotas, giving the minority Turkish Cypriots a permanent veto, 30% in parliament and administration, and granting the three mother-states guarantor rights.   \n",
              "\n",
              "                                                                                 question  \\\n",
              "0  What kind of scores did Twilight Princess receive from many video game review sources?   \n",
              "1  What is the date that Cyrpus attained independence?                                      \n",
              "\n",
              "                                    title                       document_id  \n",
              "0  The_Legend_of_Zelda:_Twilight_Princess  4296602a1bfe11ea8f2b656571b1b549  \n",
              "1  Cyprus                                  42840a9c1bfe11ea8f2b656571b1b549  "
            ]
          },
          "metadata": {
            "tags": []
          },
          "execution_count": 16
        }
      ]
    },
    {
      "cell_type": "code",
      "metadata": {
        "id": "hB75dyT_PgHH",
        "colab_type": "code",
        "outputId": "8d06c7ba-8c8c-4669-bcc3-4012a62cdbee",
        "colab": {
          "base_uri": "https://localhost:8080/",
          "height": 111
        }
      },
      "source": [
        "test_df=train_df[['document_id','question']]\n",
        "test_df.head(2)"
      ],
      "execution_count": 17,
      "outputs": [
        {
          "output_type": "execute_result",
          "data": {
            "text/html": [
              "<div>\n",
              "<style scoped>\n",
              "    .dataframe tbody tr th:only-of-type {\n",
              "        vertical-align: middle;\n",
              "    }\n",
              "\n",
              "    .dataframe tbody tr th {\n",
              "        vertical-align: top;\n",
              "    }\n",
              "\n",
              "    .dataframe thead th {\n",
              "        text-align: right;\n",
              "    }\n",
              "</style>\n",
              "<table border=\"1\" class=\"dataframe\">\n",
              "  <thead>\n",
              "    <tr style=\"text-align: right;\">\n",
              "      <th></th>\n",
              "      <th>document_id</th>\n",
              "      <th>question</th>\n",
              "    </tr>\n",
              "  </thead>\n",
              "  <tbody>\n",
              "    <tr>\n",
              "      <th>0</th>\n",
              "      <td>4296602a1bfe11ea8f2b656571b1b549</td>\n",
              "      <td>What kind of scores did Twilight Princess receive from many video game review sources?</td>\n",
              "    </tr>\n",
              "    <tr>\n",
              "      <th>1</th>\n",
              "      <td>42840a9c1bfe11ea8f2b656571b1b549</td>\n",
              "      <td>What is the date that Cyrpus attained independence?</td>\n",
              "    </tr>\n",
              "  </tbody>\n",
              "</table>\n",
              "</div>"
            ],
            "text/plain": [
              "                        document_id  \\\n",
              "0  4296602a1bfe11ea8f2b656571b1b549   \n",
              "1  42840a9c1bfe11ea8f2b656571b1b549   \n",
              "\n",
              "                                                                                 question  \n",
              "0  What kind of scores did Twilight Princess receive from many video game review sources?  \n",
              "1  What is the date that Cyrpus attained independence?                                     "
            ]
          },
          "metadata": {
            "tags": []
          },
          "execution_count": 17
        }
      ]
    },
    {
      "cell_type": "markdown",
      "metadata": {
        "colab_type": "text",
        "id": "fAIcj9YVMZA3"
      },
      "source": [
        "## Get GloVe Embeddings"
      ]
    },
    {
      "cell_type": "code",
      "metadata": {
        "colab_type": "code",
        "outputId": "747b66e2-9a46-46b7-dd0d-9f68212c1a3c",
        "id": "tIkfl8w7MZA4",
        "colab": {
          "base_uri": "https://localhost:8080/",
          "height": 34
        }
      },
      "source": [
        "train_emb=get_glove_embeddings(train_df)\n",
        "\n",
        "train_emb.shape"
      ],
      "execution_count": 18,
      "outputs": [
        {
          "output_type": "execute_result",
          "data": {
            "text/plain": [
              "(62352, 5)"
            ]
          },
          "metadata": {
            "tags": []
          },
          "execution_count": 18
        }
      ]
    },
    {
      "cell_type": "code",
      "metadata": {
        "id": "89-E4vNGObGH",
        "colab_type": "code",
        "outputId": "bec7834b-13e9-4aec-ee2a-8bf1e1b15724",
        "colab": {
          "base_uri": "https://localhost:8080/",
          "height": 1000
        }
      },
      "source": [
        "train_emb.head(2)"
      ],
      "execution_count": 19,
      "outputs": [
        {
          "output_type": "execute_result",
          "data": {
            "text/html": [
              "<div>\n",
              "<style scoped>\n",
              "    .dataframe tbody tr th:only-of-type {\n",
              "        vertical-align: middle;\n",
              "    }\n",
              "\n",
              "    .dataframe tbody tr th {\n",
              "        vertical-align: top;\n",
              "    }\n",
              "\n",
              "    .dataframe thead th {\n",
              "        text-align: right;\n",
              "    }\n",
              "</style>\n",
              "<table border=\"1\" class=\"dataframe\">\n",
              "  <thead>\n",
              "    <tr style=\"text-align: right;\">\n",
              "      <th></th>\n",
              "      <th>document</th>\n",
              "      <th>question</th>\n",
              "      <th>title</th>\n",
              "      <th>document_id</th>\n",
              "      <th>emb</th>\n",
              "    </tr>\n",
              "  </thead>\n",
              "  <tbody>\n",
              "    <tr>\n",
              "      <th>0</th>\n",
              "      <td>Twilight Princess was released to universal critical acclaim and commercial success. It received perfect scores from major publications such as 1UP.com, Computer and Video Games, Electronic Gaming Monthly, Game Informer, GamesRadar, and GameSpy. On the review aggregators GameRankings and Metacritic, Twilight Princess has average scores of 95% and 95 for the Wii version and scores of 95% and 96 for the GameCube version. GameTrailers in their review called it one of the greatest games ever created.</td>\n",
              "      <td>What kind of scores did Twilight Princess receive from many video game review sources?</td>\n",
              "      <td>The_Legend_of_Zelda:_Twilight_Princess</td>\n",
              "      <td>4296602a1bfe11ea8f2b656571b1b549</td>\n",
              "      <td>[-0.12435985, 0.09063007, -0.06865408, -0.07698657, 0.019617965, -0.07067314, 0.053861473, -0.077947825, 0.09486775, 1.586427, -0.09448531, 0.011176823, 0.07252148, -0.046109542, -0.010350919, -0.06978779, 0.07179812, 0.7698663, -0.20494068, -0.05015289, -0.050578304, -0.13776053, -0.04937045, -0.08292333, 0.0657674, 0.12391974, -0.0394005, -0.02586116, -0.03520419, 0.020299207, 0.013997431, 0.09757924, -0.059949085, 0.11708098, -0.0237229, -0.08605811, -0.219797, 0.041055057, -0.03476698, 0.022127314, 0.076565504, 0.21509744, -0.035628133, -0.055127822, 0.056082476, -0.024079314, -0.23523532, 0.1949255, -0.07249981, 0.0022651579, -0.08061729, -0.017432412, -0.019294564, 0.03199939, -0.070703305, -0.098792166, 0.020197438, -0.06865078, -0.10815368, -0.040042907, 0.19558017, 0.033884168, -0.06073758, 0.23037437, 0.06563953, 0.078804456, 0.04734129, -0.062149722, 0.0020995673, -0.031442452, 0.14571387, 0.05900946, 0.068691455, 0.0297156, 0.061799567, -0.025541117, 0.077492386, 0.09640684, 0.08101099, 0.32155442, -0.038990915, 0.14992093, -0.013792858, 0.011257799, 0.14446409, -0.15209346, -0.47396585, 0.061050665, 0.116435274, 0.081937, -0.05352641, -0.045463298, -0.1319363, 0.07081722, 0.101621345, -0.08626659, 0.024408367, -0.053662304, -0.06708916, -0.022741029, ...]</td>\n",
              "    </tr>\n",
              "    <tr>\n",
              "      <th>1</th>\n",
              "      <td>On 16 August 1960, Cyprus attained independence after the Zürich and London Agreement between the United Kingdom, Greece and Turkey. Cyprus had a total population of 573,566; of whom 442,138 (77.1%) were Greeks, 104,320 (18.2%) Turks, and 27,108 (4.7%) others  The UK retained the two Sovereign Base Areas of Akrotiri and Dhekelia, while government posts and public offices were allocated by ethnic quotas, giving the minority Turkish Cypriots a permanent veto, 30% in parliament and administration, and granting the three mother-states guarantor rights.</td>\n",
              "      <td>What is the date that Cyrpus attained independence?</td>\n",
              "      <td>Cyprus</td>\n",
              "      <td>42840a9c1bfe11ea8f2b656571b1b549</td>\n",
              "      <td>[0.08572231, 0.020553177, -0.00085321814, 0.009458392, 0.028233647, -0.131186, -0.06623276, -0.028872496, 0.040880036, 2.1015618, -0.15607043, 0.038624685, -0.044094555, -0.11530935, -0.0350319, -0.006722535, -0.11270531, 0.7145463, -0.13331133, 0.0058482597, -0.030841196, -0.02059424, -0.024051577, 0.08512782, 0.07090376, -0.15774748, -0.009457122, 0.0026763787, -0.049571227, 0.098733045, 0.03083828, 0.13943815, -0.039198983, 0.03339976, 0.11169081, -0.11833666, -0.09299632, -0.110650554, 0.013600787, 0.010447213, 0.037491813, 0.06894312, 0.030489491, 0.109443985, 0.049040988, -0.046394173, -0.007880686, 0.10424743, 0.04878044, 0.007510861, -0.015123877, 0.047559492, -0.11633277, -0.081270136, 0.029020632, 0.030139463, 0.0018956824, -0.0928164, 0.023317795, -0.04203257, 0.02627173, -0.038290694, -0.10445391, 0.08783102, -0.114780486, 0.08416709, -0.004475886, 0.06512924, -0.028710825, 0.07831474, 0.08260418, 0.17496401, 0.054685462, 0.054319482, 0.17239654, -0.077519886, 0.0010892604, 0.0065057254, -0.013846318, 0.07981811, 0.10182226, 0.13802901, -0.09814166, -0.061072487, 0.02113963, -0.05616797, -0.37437883, -0.046131488, 0.12025392, 0.07801285, -0.069793105, -0.0708251, 0.07491746, -0.016913913, 0.19751295, 0.021201603, -0.0102839805, 0.083714984, -0.07443152, -0.050097536, ...]</td>\n",
              "    </tr>\n",
              "  </tbody>\n",
              "</table>\n",
              "</div>"
            ],
            "text/plain": [
              "                                                                                                                                                                                                                                                                                                                                                                                                                                                                                                                                                                     document  \\\n",
              "0  Twilight Princess was released to universal critical acclaim and commercial success. It received perfect scores from major publications such as 1UP.com, Computer and Video Games, Electronic Gaming Monthly, Game Informer, GamesRadar, and GameSpy. On the review aggregators GameRankings and Metacritic, Twilight Princess has average scores of 95% and 95 for the Wii version and scores of 95% and 96 for the GameCube version. GameTrailers in their review called it one of the greatest games ever created.                                                        \n",
              "1  On 16 August 1960, Cyprus attained independence after the Zürich and London Agreement between the United Kingdom, Greece and Turkey. Cyprus had a total population of 573,566; of whom 442,138 (77.1%) were Greeks, 104,320 (18.2%) Turks, and 27,108 (4.7%) others  The UK retained the two Sovereign Base Areas of Akrotiri and Dhekelia, while government posts and public offices were allocated by ethnic quotas, giving the minority Turkish Cypriots a permanent veto, 30% in parliament and administration, and granting the three mother-states guarantor rights.   \n",
              "\n",
              "                                                                                 question  \\\n",
              "0  What kind of scores did Twilight Princess receive from many video game review sources?   \n",
              "1  What is the date that Cyrpus attained independence?                                      \n",
              "\n",
              "                                    title                       document_id  \\\n",
              "0  The_Legend_of_Zelda:_Twilight_Princess  4296602a1bfe11ea8f2b656571b1b549   \n",
              "1  Cyprus                                  42840a9c1bfe11ea8f2b656571b1b549   \n",
              "\n",
              "                                                                                                                                                                                                                                                                                                                                                                                                                                                                                                                                                                                                                                                                                                                                                                                                                                                                                                                                                                                                                                                                                                                                                                                                                                                                                                                                                        emb  \n",
              "0  [-0.12435985, 0.09063007, -0.06865408, -0.07698657, 0.019617965, -0.07067314, 0.053861473, -0.077947825, 0.09486775, 1.586427, -0.09448531, 0.011176823, 0.07252148, -0.046109542, -0.010350919, -0.06978779, 0.07179812, 0.7698663, -0.20494068, -0.05015289, -0.050578304, -0.13776053, -0.04937045, -0.08292333, 0.0657674, 0.12391974, -0.0394005, -0.02586116, -0.03520419, 0.020299207, 0.013997431, 0.09757924, -0.059949085, 0.11708098, -0.0237229, -0.08605811, -0.219797, 0.041055057, -0.03476698, 0.022127314, 0.076565504, 0.21509744, -0.035628133, -0.055127822, 0.056082476, -0.024079314, -0.23523532, 0.1949255, -0.07249981, 0.0022651579, -0.08061729, -0.017432412, -0.019294564, 0.03199939, -0.070703305, -0.098792166, 0.020197438, -0.06865078, -0.10815368, -0.040042907, 0.19558017, 0.033884168, -0.06073758, 0.23037437, 0.06563953, 0.078804456, 0.04734129, -0.062149722, 0.0020995673, -0.031442452, 0.14571387, 0.05900946, 0.068691455, 0.0297156, 0.061799567, -0.025541117, 0.077492386, 0.09640684, 0.08101099, 0.32155442, -0.038990915, 0.14992093, -0.013792858, 0.011257799, 0.14446409, -0.15209346, -0.47396585, 0.061050665, 0.116435274, 0.081937, -0.05352641, -0.045463298, -0.1319363, 0.07081722, 0.101621345, -0.08626659, 0.024408367, -0.053662304, -0.06708916, -0.022741029, ...]                  \n",
              "1  [0.08572231, 0.020553177, -0.00085321814, 0.009458392, 0.028233647, -0.131186, -0.06623276, -0.028872496, 0.040880036, 2.1015618, -0.15607043, 0.038624685, -0.044094555, -0.11530935, -0.0350319, -0.006722535, -0.11270531, 0.7145463, -0.13331133, 0.0058482597, -0.030841196, -0.02059424, -0.024051577, 0.08512782, 0.07090376, -0.15774748, -0.009457122, 0.0026763787, -0.049571227, 0.098733045, 0.03083828, 0.13943815, -0.039198983, 0.03339976, 0.11169081, -0.11833666, -0.09299632, -0.110650554, 0.013600787, 0.010447213, 0.037491813, 0.06894312, 0.030489491, 0.109443985, 0.049040988, -0.046394173, -0.007880686, 0.10424743, 0.04878044, 0.007510861, -0.015123877, 0.047559492, -0.11633277, -0.081270136, 0.029020632, 0.030139463, 0.0018956824, -0.0928164, 0.023317795, -0.04203257, 0.02627173, -0.038290694, -0.10445391, 0.08783102, -0.114780486, 0.08416709, -0.004475886, 0.06512924, -0.028710825, 0.07831474, 0.08260418, 0.17496401, 0.054685462, 0.054319482, 0.17239654, -0.077519886, 0.0010892604, 0.0065057254, -0.013846318, 0.07981811, 0.10182226, 0.13802901, -0.09814166, -0.061072487, 0.02113963, -0.05616797, -0.37437883, -0.046131488, 0.12025392, 0.07801285, -0.069793105, -0.0708251, 0.07491746, -0.016913913, 0.19751295, 0.021201603, -0.0102839805, 0.083714984, -0.07443152, -0.050097536, ...]  "
            ]
          },
          "metadata": {
            "tags": []
          },
          "execution_count": 19
        }
      ]
    },
    {
      "cell_type": "code",
      "metadata": {
        "id": "wdnrG7ltQmtw",
        "colab_type": "code",
        "outputId": "08deead6-9c1a-49f2-ce20-352c3e8e4cd8",
        "colab": {
          "base_uri": "https://localhost:8080/",
          "height": 34
        }
      },
      "source": [
        "test_emb=get_glove_embeddings_test(test_df)\n",
        "\n",
        "test_emb.shape"
      ],
      "execution_count": 20,
      "outputs": [
        {
          "output_type": "execute_result",
          "data": {
            "text/plain": [
              "(62352, 3)"
            ]
          },
          "metadata": {
            "tags": []
          },
          "execution_count": 20
        }
      ]
    },
    {
      "cell_type": "code",
      "metadata": {
        "id": "k9E44zaXRhK-",
        "colab_type": "code",
        "outputId": "762cd39d-b908-4880-ad81-db3599a942c5",
        "colab": {
          "base_uri": "https://localhost:8080/",
          "height": 587
        }
      },
      "source": [
        "test_emb.head(2)"
      ],
      "execution_count": 23,
      "outputs": [
        {
          "output_type": "execute_result",
          "data": {
            "text/html": [
              "<div>\n",
              "<style scoped>\n",
              "    .dataframe tbody tr th:only-of-type {\n",
              "        vertical-align: middle;\n",
              "    }\n",
              "\n",
              "    .dataframe tbody tr th {\n",
              "        vertical-align: top;\n",
              "    }\n",
              "\n",
              "    .dataframe thead th {\n",
              "        text-align: right;\n",
              "    }\n",
              "</style>\n",
              "<table border=\"1\" class=\"dataframe\">\n",
              "  <thead>\n",
              "    <tr style=\"text-align: right;\">\n",
              "      <th></th>\n",
              "      <th>document_id</th>\n",
              "      <th>question</th>\n",
              "      <th>emb</th>\n",
              "    </tr>\n",
              "  </thead>\n",
              "  <tbody>\n",
              "    <tr>\n",
              "      <th>0</th>\n",
              "      <td>4296602a1bfe11ea8f2b656571b1b549</td>\n",
              "      <td>What kind of scores did Twilight Princess receive from many video game review sources?</td>\n",
              "      <td>[-0.13844892, 0.12604885, -0.16776636, -0.06972023, -0.024181576, -0.080060534, 0.081996284, -0.14579868, 0.112354025, 1.9972562, -0.1704398, 0.03799216, 0.1633527, -0.0008523854, -0.10560329, -0.13607469, 0.029186301, 0.80843544, -0.2632518, -0.15588784, 0.09768525, -0.21409692, -0.086206235, -0.07188206, -0.021341076, 0.24883977, 0.035503235, -0.07255989, 0.016591383, 0.019266149, 0.01933461, 0.15115137, -0.088011, 0.13630585, -0.070973, 0.050176542, -0.225991, 0.057269625, -0.12765387, -0.08804193, 0.09291869, 0.19940224, -0.049224176, -0.12167077, 0.11870014, 0.014506542, -0.3193812, 0.3092636, -0.104355924, -0.047720764, -0.10864821, -0.044374146, 0.09226599, -0.0031526159, -0.1413742, -0.076656766, -0.034225777, -0.06431877, -0.15839434, -0.01995331, 0.16825332, 0.10844992, 0.009637409, 0.21393508, 0.09059046, 0.045120616, 0.15282398, 0.06170315, 0.07089131, 0.06762088, 0.18452977, 0.043322776, 0.14985, -0.06362632, 0.20750692, 0.031442463, 0.034099303, 0.1147707, 0.08117294, 0.34820268, 0.049012262, 0.049636457, 0.00903235, 0.051584803, 0.14828092, -0.10451423, -0.44511157, -0.029510621, 0.104768485, -0.10926208, -0.12397161, 0.043030612, -0.2401912, -0.048176534, 0.10003739, -0.07272447, -0.010803463, -0.058860846, -0.08649138, 0.085884936, ...]</td>\n",
              "    </tr>\n",
              "    <tr>\n",
              "      <th>1</th>\n",
              "      <td>42840a9c1bfe11ea8f2b656571b1b549</td>\n",
              "      <td>What is the date that Cyrpus attained independence?</td>\n",
              "      <td>[0.15812215, 0.12201713, -0.12852696, -0.10256786, -0.06612493, -0.047272976, -0.05064068, -0.053378705, 0.07506471, 1.8265787, -0.12125795, 0.06593486, 0.03944728, 0.029755142, 0.030007286, -0.13163628, 0.017168859, 0.7449629, -0.019588431, 0.037432294, -0.0347516, -0.16790669, -0.05232243, 0.058641758, -0.099156, -0.017717153, 0.029955281, -0.042981427, -0.27946702, 0.103036284, 0.014840471, 0.08429528, 0.082733974, 0.12671028, 0.069071, 0.116886094, -0.055451572, 0.095991194, -0.03468113, 0.019183276, 0.07399943, 0.13624671, -0.02559014, -0.04277355, 0.09444857, 0.047439713, -0.17555428, -0.07399373, -0.09500928, 0.094579, 0.028075, 0.03624285, -0.09902172, -0.11964486, 0.127359, 0.003420569, 0.17583643, -0.1561373, 0.07287758, -0.16797957, 0.094128035, -0.22965503, 0.04637829, 0.11108285, -0.02612214, 0.07261586, -0.149925, 0.03371986, 0.004611718, -0.07381714, -0.044331543, -0.10875871, 0.061574288, -0.051586572, 0.009338719, 0.061245285, -0.10258114, -0.014926859, -0.15788329, 0.178589, 0.15038785, 0.1687427, -0.141982, 0.18706407, 0.165305, -0.19335784, -0.13641156, -0.17240915, 0.16975673, 0.054332, -0.10444243, 0.088072464, -0.108672276, 0.21072385, 0.186408, 0.08885572, -0.02002974, -0.18862985, 0.14092001, 0.1737837, ...]</td>\n",
              "    </tr>\n",
              "  </tbody>\n",
              "</table>\n",
              "</div>"
            ],
            "text/plain": [
              "                        document_id  \\\n",
              "0  4296602a1bfe11ea8f2b656571b1b549   \n",
              "1  42840a9c1bfe11ea8f2b656571b1b549   \n",
              "\n",
              "                                                                                 question  \\\n",
              "0  What kind of scores did Twilight Princess receive from many video game review sources?   \n",
              "1  What is the date that Cyrpus attained independence?                                      \n",
              "\n",
              "                                                                                                                                                                                                                                                                                                                                                                                                                                                                                                                                                                                                                                                                                                                                                                                                                                                                                                                                                                                                                                                                                                                                                                                                                                                                                                                         emb  \n",
              "0  [-0.13844892, 0.12604885, -0.16776636, -0.06972023, -0.024181576, -0.080060534, 0.081996284, -0.14579868, 0.112354025, 1.9972562, -0.1704398, 0.03799216, 0.1633527, -0.0008523854, -0.10560329, -0.13607469, 0.029186301, 0.80843544, -0.2632518, -0.15588784, 0.09768525, -0.21409692, -0.086206235, -0.07188206, -0.021341076, 0.24883977, 0.035503235, -0.07255989, 0.016591383, 0.019266149, 0.01933461, 0.15115137, -0.088011, 0.13630585, -0.070973, 0.050176542, -0.225991, 0.057269625, -0.12765387, -0.08804193, 0.09291869, 0.19940224, -0.049224176, -0.12167077, 0.11870014, 0.014506542, -0.3193812, 0.3092636, -0.104355924, -0.047720764, -0.10864821, -0.044374146, 0.09226599, -0.0031526159, -0.1413742, -0.076656766, -0.034225777, -0.06431877, -0.15839434, -0.01995331, 0.16825332, 0.10844992, 0.009637409, 0.21393508, 0.09059046, 0.045120616, 0.15282398, 0.06170315, 0.07089131, 0.06762088, 0.18452977, 0.043322776, 0.14985, -0.06362632, 0.20750692, 0.031442463, 0.034099303, 0.1147707, 0.08117294, 0.34820268, 0.049012262, 0.049636457, 0.00903235, 0.051584803, 0.14828092, -0.10451423, -0.44511157, -0.029510621, 0.104768485, -0.10926208, -0.12397161, 0.043030612, -0.2401912, -0.048176534, 0.10003739, -0.07272447, -0.010803463, -0.058860846, -0.08649138, 0.085884936, ...]  \n",
              "1  [0.15812215, 0.12201713, -0.12852696, -0.10256786, -0.06612493, -0.047272976, -0.05064068, -0.053378705, 0.07506471, 1.8265787, -0.12125795, 0.06593486, 0.03944728, 0.029755142, 0.030007286, -0.13163628, 0.017168859, 0.7449629, -0.019588431, 0.037432294, -0.0347516, -0.16790669, -0.05232243, 0.058641758, -0.099156, -0.017717153, 0.029955281, -0.042981427, -0.27946702, 0.103036284, 0.014840471, 0.08429528, 0.082733974, 0.12671028, 0.069071, 0.116886094, -0.055451572, 0.095991194, -0.03468113, 0.019183276, 0.07399943, 0.13624671, -0.02559014, -0.04277355, 0.09444857, 0.047439713, -0.17555428, -0.07399373, -0.09500928, 0.094579, 0.028075, 0.03624285, -0.09902172, -0.11964486, 0.127359, 0.003420569, 0.17583643, -0.1561373, 0.07287758, -0.16797957, 0.094128035, -0.22965503, 0.04637829, 0.11108285, -0.02612214, 0.07261586, -0.149925, 0.03371986, 0.004611718, -0.07381714, -0.044331543, -0.10875871, 0.061574288, -0.051586572, 0.009338719, 0.061245285, -0.10258114, -0.014926859, -0.15788329, 0.178589, 0.15038785, 0.1687427, -0.141982, 0.18706407, 0.165305, -0.19335784, -0.13641156, -0.17240915, 0.16975673, 0.054332, -0.10444243, 0.088072464, -0.108672276, 0.21072385, 0.186408, 0.08885572, -0.02002974, -0.18862985, 0.14092001, 0.1737837, ...]                       "
            ]
          },
          "metadata": {
            "tags": []
          },
          "execution_count": 23
        }
      ]
    },
    {
      "cell_type": "markdown",
      "metadata": {
        "id": "PijRkWxNkT6z",
        "colab_type": "text"
      },
      "source": [
        "##doc_repr_df"
      ]
    },
    {
      "cell_type": "code",
      "metadata": {
        "id": "vm7HaSsVi2yS",
        "colab_type": "code",
        "colab": {}
      },
      "source": [
        "doc_repr_df=train_emb[['title', 'document_id','document','emb']]"
      ],
      "execution_count": 0,
      "outputs": []
    },
    {
      "cell_type": "code",
      "metadata": {
        "id": "adGDUp2ojfYz",
        "colab_type": "code",
        "colab": {}
      },
      "source": [
        "doc_repr_df.rename(columns={'document_id':'doc_id'}, inplace=True)\n",
        "doc_repr_df.rename(columns={'emb':'doc_repr'}, inplace=True)\n"
      ],
      "execution_count": 0,
      "outputs": []
    },
    {
      "cell_type": "code",
      "metadata": {
        "id": "ZbsMluDpjFro",
        "colab_type": "code",
        "outputId": "18a55a38-3e8a-4be6-c886-07d519031eab",
        "colab": {
          "base_uri": "https://localhost:8080/",
          "height": 1000
        }
      },
      "source": [
        "doc_repr_df.head(2)"
      ],
      "execution_count": 24,
      "outputs": [
        {
          "output_type": "execute_result",
          "data": {
            "text/html": [
              "<div>\n",
              "<style scoped>\n",
              "    .dataframe tbody tr th:only-of-type {\n",
              "        vertical-align: middle;\n",
              "    }\n",
              "\n",
              "    .dataframe tbody tr th {\n",
              "        vertical-align: top;\n",
              "    }\n",
              "\n",
              "    .dataframe thead th {\n",
              "        text-align: right;\n",
              "    }\n",
              "</style>\n",
              "<table border=\"1\" class=\"dataframe\">\n",
              "  <thead>\n",
              "    <tr style=\"text-align: right;\">\n",
              "      <th></th>\n",
              "      <th>title</th>\n",
              "      <th>doc_id</th>\n",
              "      <th>document</th>\n",
              "      <th>doc_repr</th>\n",
              "    </tr>\n",
              "  </thead>\n",
              "  <tbody>\n",
              "    <tr>\n",
              "      <th>0</th>\n",
              "      <td>The_Legend_of_Zelda:_Twilight_Princess</td>\n",
              "      <td>4296602a1bfe11ea8f2b656571b1b549</td>\n",
              "      <td>Twilight Princess was released to universal critical acclaim and commercial success. It received perfect scores from major publications such as 1UP.com, Computer and Video Games, Electronic Gaming Monthly, Game Informer, GamesRadar, and GameSpy. On the review aggregators GameRankings and Metacritic, Twilight Princess has average scores of 95% and 95 for the Wii version and scores of 95% and 96 for the GameCube version. GameTrailers in their review called it one of the greatest games ever created.</td>\n",
              "      <td>[-0.12435985, 0.09063007, -0.06865408, -0.07698657, 0.019617965, -0.07067314, 0.053861473, -0.077947825, 0.09486775, 1.586427, -0.09448531, 0.011176823, 0.07252148, -0.046109542, -0.010350919, -0.06978779, 0.07179812, 0.7698663, -0.20494068, -0.05015289, -0.050578304, -0.13776053, -0.04937045, -0.08292333, 0.0657674, 0.12391974, -0.0394005, -0.02586116, -0.03520419, 0.020299207, 0.013997431, 0.09757924, -0.059949085, 0.11708098, -0.0237229, -0.08605811, -0.219797, 0.041055057, -0.03476698, 0.022127314, 0.076565504, 0.21509744, -0.035628133, -0.055127822, 0.056082476, -0.024079314, -0.23523532, 0.1949255, -0.07249981, 0.0022651579, -0.08061729, -0.017432412, -0.019294564, 0.03199939, -0.070703305, -0.098792166, 0.020197438, -0.06865078, -0.10815368, -0.040042907, 0.19558017, 0.033884168, -0.06073758, 0.23037437, 0.06563953, 0.078804456, 0.04734129, -0.062149722, 0.0020995673, -0.031442452, 0.14571387, 0.05900946, 0.068691455, 0.0297156, 0.061799567, -0.025541117, 0.077492386, 0.09640684, 0.08101099, 0.32155442, -0.038990915, 0.14992093, -0.013792858, 0.011257799, 0.14446409, -0.15209346, -0.47396585, 0.061050665, 0.116435274, 0.081937, -0.05352641, -0.045463298, -0.1319363, 0.07081722, 0.101621345, -0.08626659, 0.024408367, -0.053662304, -0.06708916, -0.022741029, ...]</td>\n",
              "    </tr>\n",
              "    <tr>\n",
              "      <th>1</th>\n",
              "      <td>Cyprus</td>\n",
              "      <td>42840a9c1bfe11ea8f2b656571b1b549</td>\n",
              "      <td>On 16 August 1960, Cyprus attained independence after the Zürich and London Agreement between the United Kingdom, Greece and Turkey. Cyprus had a total population of 573,566; of whom 442,138 (77.1%) were Greeks, 104,320 (18.2%) Turks, and 27,108 (4.7%) others  The UK retained the two Sovereign Base Areas of Akrotiri and Dhekelia, while government posts and public offices were allocated by ethnic quotas, giving the minority Turkish Cypriots a permanent veto, 30% in parliament and administration, and granting the three mother-states guarantor rights.</td>\n",
              "      <td>[0.08572231, 0.020553177, -0.00085321814, 0.009458392, 0.028233647, -0.131186, -0.06623276, -0.028872496, 0.040880036, 2.1015618, -0.15607043, 0.038624685, -0.044094555, -0.11530935, -0.0350319, -0.006722535, -0.11270531, 0.7145463, -0.13331133, 0.0058482597, -0.030841196, -0.02059424, -0.024051577, 0.08512782, 0.07090376, -0.15774748, -0.009457122, 0.0026763787, -0.049571227, 0.098733045, 0.03083828, 0.13943815, -0.039198983, 0.03339976, 0.11169081, -0.11833666, -0.09299632, -0.110650554, 0.013600787, 0.010447213, 0.037491813, 0.06894312, 0.030489491, 0.109443985, 0.049040988, -0.046394173, -0.007880686, 0.10424743, 0.04878044, 0.007510861, -0.015123877, 0.047559492, -0.11633277, -0.081270136, 0.029020632, 0.030139463, 0.0018956824, -0.0928164, 0.023317795, -0.04203257, 0.02627173, -0.038290694, -0.10445391, 0.08783102, -0.114780486, 0.08416709, -0.004475886, 0.06512924, -0.028710825, 0.07831474, 0.08260418, 0.17496401, 0.054685462, 0.054319482, 0.17239654, -0.077519886, 0.0010892604, 0.0065057254, -0.013846318, 0.07981811, 0.10182226, 0.13802901, -0.09814166, -0.061072487, 0.02113963, -0.05616797, -0.37437883, -0.046131488, 0.12025392, 0.07801285, -0.069793105, -0.0708251, 0.07491746, -0.016913913, 0.19751295, 0.021201603, -0.0102839805, 0.083714984, -0.07443152, -0.050097536, ...]</td>\n",
              "    </tr>\n",
              "  </tbody>\n",
              "</table>\n",
              "</div>"
            ],
            "text/plain": [
              "                                    title                            doc_id  \\\n",
              "0  The_Legend_of_Zelda:_Twilight_Princess  4296602a1bfe11ea8f2b656571b1b549   \n",
              "1  Cyprus                                  42840a9c1bfe11ea8f2b656571b1b549   \n",
              "\n",
              "                                                                                                                                                                                                                                                                                                                                                                                                                                                                                                                                                                     document  \\\n",
              "0  Twilight Princess was released to universal critical acclaim and commercial success. It received perfect scores from major publications such as 1UP.com, Computer and Video Games, Electronic Gaming Monthly, Game Informer, GamesRadar, and GameSpy. On the review aggregators GameRankings and Metacritic, Twilight Princess has average scores of 95% and 95 for the Wii version and scores of 95% and 96 for the GameCube version. GameTrailers in their review called it one of the greatest games ever created.                                                        \n",
              "1  On 16 August 1960, Cyprus attained independence after the Zürich and London Agreement between the United Kingdom, Greece and Turkey. Cyprus had a total population of 573,566; of whom 442,138 (77.1%) were Greeks, 104,320 (18.2%) Turks, and 27,108 (4.7%) others  The UK retained the two Sovereign Base Areas of Akrotiri and Dhekelia, while government posts and public offices were allocated by ethnic quotas, giving the minority Turkish Cypriots a permanent veto, 30% in parliament and administration, and granting the three mother-states guarantor rights.   \n",
              "\n",
              "                                                                                                                                                                                                                                                                                                                                                                                                                                                                                                                                                                                                                                                                                                                                                                                                                                                                                                                                                                                                                                                                                                                                                                                                                                                                                                                                                   doc_repr  \n",
              "0  [-0.12435985, 0.09063007, -0.06865408, -0.07698657, 0.019617965, -0.07067314, 0.053861473, -0.077947825, 0.09486775, 1.586427, -0.09448531, 0.011176823, 0.07252148, -0.046109542, -0.010350919, -0.06978779, 0.07179812, 0.7698663, -0.20494068, -0.05015289, -0.050578304, -0.13776053, -0.04937045, -0.08292333, 0.0657674, 0.12391974, -0.0394005, -0.02586116, -0.03520419, 0.020299207, 0.013997431, 0.09757924, -0.059949085, 0.11708098, -0.0237229, -0.08605811, -0.219797, 0.041055057, -0.03476698, 0.022127314, 0.076565504, 0.21509744, -0.035628133, -0.055127822, 0.056082476, -0.024079314, -0.23523532, 0.1949255, -0.07249981, 0.0022651579, -0.08061729, -0.017432412, -0.019294564, 0.03199939, -0.070703305, -0.098792166, 0.020197438, -0.06865078, -0.10815368, -0.040042907, 0.19558017, 0.033884168, -0.06073758, 0.23037437, 0.06563953, 0.078804456, 0.04734129, -0.062149722, 0.0020995673, -0.031442452, 0.14571387, 0.05900946, 0.068691455, 0.0297156, 0.061799567, -0.025541117, 0.077492386, 0.09640684, 0.08101099, 0.32155442, -0.038990915, 0.14992093, -0.013792858, 0.011257799, 0.14446409, -0.15209346, -0.47396585, 0.061050665, 0.116435274, 0.081937, -0.05352641, -0.045463298, -0.1319363, 0.07081722, 0.101621345, -0.08626659, 0.024408367, -0.053662304, -0.06708916, -0.022741029, ...]                  \n",
              "1  [0.08572231, 0.020553177, -0.00085321814, 0.009458392, 0.028233647, -0.131186, -0.06623276, -0.028872496, 0.040880036, 2.1015618, -0.15607043, 0.038624685, -0.044094555, -0.11530935, -0.0350319, -0.006722535, -0.11270531, 0.7145463, -0.13331133, 0.0058482597, -0.030841196, -0.02059424, -0.024051577, 0.08512782, 0.07090376, -0.15774748, -0.009457122, 0.0026763787, -0.049571227, 0.098733045, 0.03083828, 0.13943815, -0.039198983, 0.03339976, 0.11169081, -0.11833666, -0.09299632, -0.110650554, 0.013600787, 0.010447213, 0.037491813, 0.06894312, 0.030489491, 0.109443985, 0.049040988, -0.046394173, -0.007880686, 0.10424743, 0.04878044, 0.007510861, -0.015123877, 0.047559492, -0.11633277, -0.081270136, 0.029020632, 0.030139463, 0.0018956824, -0.0928164, 0.023317795, -0.04203257, 0.02627173, -0.038290694, -0.10445391, 0.08783102, -0.114780486, 0.08416709, -0.004475886, 0.06512924, -0.028710825, 0.07831474, 0.08260418, 0.17496401, 0.054685462, 0.054319482, 0.17239654, -0.077519886, 0.0010892604, 0.0065057254, -0.013846318, 0.07981811, 0.10182226, 0.13802901, -0.09814166, -0.061072487, 0.02113963, -0.05616797, -0.37437883, -0.046131488, 0.12025392, 0.07801285, -0.069793105, -0.0708251, 0.07491746, -0.016913913, 0.19751295, 0.021201603, -0.0102839805, 0.083714984, -0.07443152, -0.050097536, ...]  "
            ]
          },
          "metadata": {
            "tags": []
          },
          "execution_count": 24
        }
      ]
    },
    {
      "cell_type": "markdown",
      "metadata": {
        "id": "DxPoqeYYauRs",
        "colab_type": "text"
      },
      "source": [
        "##ANNOY \n",
        "\n",
        "https://rdrr.io/cran/RcppAnnoy/man/AnnoyIndex.html\n",
        "\n",
        "(ANNOY Index Details explained well)\n"
      ]
    },
    {
      "cell_type": "markdown",
      "metadata": {
        "id": "cvQ4f8dL0W3B",
        "colab_type": "text"
      },
      "source": [
        "###searching document on basis of ID\n"
      ]
    },
    {
      "cell_type": "code",
      "metadata": {
        "id": "3WSpln0LY6LC",
        "colab_type": "code",
        "outputId": "614d12ab-5674-4298-8a99-88144ccdcb25",
        "colab": {
          "base_uri": "https://localhost:8080/",
          "height": 207
        }
      },
      "source": [
        "!pip install annoy"
      ],
      "execution_count": 25,
      "outputs": [
        {
          "output_type": "stream",
          "text": [
            "Collecting annoy\n",
            "\u001b[?25l  Downloading https://files.pythonhosted.org/packages/00/15/5a9db225ebda93a235aebd5e42bbf83ab7035e7e4783c6cb528c635c9afb/annoy-1.16.3.tar.gz (644kB)\n",
            "\r\u001b[K     |▌                               | 10kB 23.5MB/s eta 0:00:01\r\u001b[K     |█                               | 20kB 28.9MB/s eta 0:00:01\r\u001b[K     |█▌                              | 30kB 32.3MB/s eta 0:00:01\r\u001b[K     |██                              | 40kB 12.7MB/s eta 0:00:01\r\u001b[K     |██▌                             | 51kB 13.4MB/s eta 0:00:01\r\u001b[K     |███                             | 61kB 13.9MB/s eta 0:00:01\r\u001b[K     |███▋                            | 71kB 13.8MB/s eta 0:00:01\r\u001b[K     |████                            | 81kB 14.0MB/s eta 0:00:01\r\u001b[K     |████▋                           | 92kB 14.6MB/s eta 0:00:01\r\u001b[K     |█████                           | 102kB 15.1MB/s eta 0:00:01\r\u001b[K     |█████▋                          | 112kB 15.1MB/s eta 0:00:01\r\u001b[K     |██████                          | 122kB 15.1MB/s eta 0:00:01\r\u001b[K     |██████▋                         | 133kB 15.1MB/s eta 0:00:01\r\u001b[K     |███████▏                        | 143kB 15.1MB/s eta 0:00:01\r\u001b[K     |███████▋                        | 153kB 15.1MB/s eta 0:00:01\r\u001b[K     |████████▏                       | 163kB 15.1MB/s eta 0:00:01\r\u001b[K     |████████▋                       | 174kB 15.1MB/s eta 0:00:01\r\u001b[K     |█████████▏                      | 184kB 15.1MB/s eta 0:00:01\r\u001b[K     |█████████▋                      | 194kB 15.1MB/s eta 0:00:01\r\u001b[K     |██████████▏                     | 204kB 15.1MB/s eta 0:00:01\r\u001b[K     |██████████▊                     | 215kB 15.1MB/s eta 0:00:01\r\u001b[K     |███████████▏                    | 225kB 15.1MB/s eta 0:00:01\r\u001b[K     |███████████▊                    | 235kB 15.1MB/s eta 0:00:01\r\u001b[K     |████████████▏                   | 245kB 15.1MB/s eta 0:00:01\r\u001b[K     |████████████▊                   | 256kB 15.1MB/s eta 0:00:01\r\u001b[K     |█████████████▎                  | 266kB 15.1MB/s eta 0:00:01\r\u001b[K     |█████████████▊                  | 276kB 15.1MB/s eta 0:00:01\r\u001b[K     |██████████████▎                 | 286kB 15.1MB/s eta 0:00:01\r\u001b[K     |██████████████▊                 | 296kB 15.1MB/s eta 0:00:01\r\u001b[K     |███████████████▎                | 307kB 15.1MB/s eta 0:00:01\r\u001b[K     |███████████████▊                | 317kB 15.1MB/s eta 0:00:01\r\u001b[K     |████████████████▎               | 327kB 15.1MB/s eta 0:00:01\r\u001b[K     |████████████████▉               | 337kB 15.1MB/s eta 0:00:01\r\u001b[K     |█████████████████▎              | 348kB 15.1MB/s eta 0:00:01\r\u001b[K     |█████████████████▉              | 358kB 15.1MB/s eta 0:00:01\r\u001b[K     |██████████████████▎             | 368kB 15.1MB/s eta 0:00:01\r\u001b[K     |██████████████████▉             | 378kB 15.1MB/s eta 0:00:01\r\u001b[K     |███████████████████▎            | 389kB 15.1MB/s eta 0:00:01\r\u001b[K     |███████████████████▉            | 399kB 15.1MB/s eta 0:00:01\r\u001b[K     |████████████████████▍           | 409kB 15.1MB/s eta 0:00:01\r\u001b[K     |████████████████████▉           | 419kB 15.1MB/s eta 0:00:01\r\u001b[K     |█████████████████████▍          | 430kB 15.1MB/s eta 0:00:01\r\u001b[K     |█████████████████████▉          | 440kB 15.1MB/s eta 0:00:01\r\u001b[K     |██████████████████████▍         | 450kB 15.1MB/s eta 0:00:01\r\u001b[K     |██████████████████████▉         | 460kB 15.1MB/s eta 0:00:01\r\u001b[K     |███████████████████████▍        | 471kB 15.1MB/s eta 0:00:01\r\u001b[K     |████████████████████████        | 481kB 15.1MB/s eta 0:00:01\r\u001b[K     |████████████████████████▍       | 491kB 15.1MB/s eta 0:00:01\r\u001b[K     |█████████████████████████       | 501kB 15.1MB/s eta 0:00:01\r\u001b[K     |█████████████████████████▍      | 512kB 15.1MB/s eta 0:00:01\r\u001b[K     |██████████████████████████      | 522kB 15.1MB/s eta 0:00:01\r\u001b[K     |██████████████████████████▌     | 532kB 15.1MB/s eta 0:00:01\r\u001b[K     |███████████████████████████     | 542kB 15.1MB/s eta 0:00:01\r\u001b[K     |███████████████████████████▌    | 552kB 15.1MB/s eta 0:00:01\r\u001b[K     |████████████████████████████    | 563kB 15.1MB/s eta 0:00:01\r\u001b[K     |████████████████████████████▌   | 573kB 15.1MB/s eta 0:00:01\r\u001b[K     |█████████████████████████████   | 583kB 15.1MB/s eta 0:00:01\r\u001b[K     |█████████████████████████████▌  | 593kB 15.1MB/s eta 0:00:01\r\u001b[K     |██████████████████████████████  | 604kB 15.1MB/s eta 0:00:01\r\u001b[K     |██████████████████████████████▌ | 614kB 15.1MB/s eta 0:00:01\r\u001b[K     |███████████████████████████████ | 624kB 15.1MB/s eta 0:00:01\r\u001b[K     |███████████████████████████████▌| 634kB 15.1MB/s eta 0:00:01\r\u001b[K     |████████████████████████████████| 645kB 15.1MB/s \n",
            "\u001b[?25hBuilding wheels for collected packages: annoy\n",
            "  Building wheel for annoy (setup.py) ... \u001b[?25l\u001b[?25hdone\n",
            "  Created wheel for annoy: filename=annoy-1.16.3-cp36-cp36m-linux_x86_64.whl size=301863 sha256=65cc24526470ede274eedd6cb907b710647c4bab5287eef0d96bf999d76a48d2\n",
            "  Stored in directory: /root/.cache/pip/wheels/f3/01/54/6ef760fe9f9fc6ba8c19cebbe6358212b5f3b5b0195c0b813f\n",
            "Successfully built annoy\n",
            "Installing collected packages: annoy\n",
            "Successfully installed annoy-1.16.3\n"
          ],
          "name": "stdout"
        }
      ]
    },
    {
      "cell_type": "code",
      "metadata": {
        "id": "P6Oy_AAha-Zk",
        "colab_type": "code",
        "colab": {}
      },
      "source": [
        "from annoy import AnnoyIndex"
      ],
      "execution_count": 0,
      "outputs": []
    },
    {
      "cell_type": "code",
      "metadata": {
        "id": "5qCycgcUbNP8",
        "colab_type": "code",
        "colab": {}
      },
      "source": [
        "f = len(doc_repr_df['doc_repr'][0])\n",
        "t = AnnoyIndex(f, metric='euclidean')"
      ],
      "execution_count": 0,
      "outputs": []
    },
    {
      "cell_type": "code",
      "metadata": {
        "id": "WcvtvypKdT4n",
        "colab_type": "code",
        "outputId": "7d023938-c84e-4350-a0fd-05bcf5541157",
        "colab": {
          "base_uri": "https://localhost:8080/",
          "height": 34
        }
      },
      "source": [
        "f"
      ],
      "execution_count": 31,
      "outputs": [
        {
          "output_type": "execute_result",
          "data": {
            "text/plain": [
              "300"
            ]
          },
          "metadata": {
            "tags": []
          },
          "execution_count": 31
        }
      ]
    },
    {
      "cell_type": "code",
      "metadata": {
        "id": "3EYscyrQdT16",
        "colab_type": "code",
        "outputId": "53f8eae2-2a95-4016-a21e-83f6f0210203",
        "colab": {
          "base_uri": "https://localhost:8080/",
          "height": 34
        }
      },
      "source": [
        "t"
      ],
      "execution_count": 32,
      "outputs": [
        {
          "output_type": "execute_result",
          "data": {
            "text/plain": [
              "<annoy.Annoy at 0x7f5fac14ec10>"
            ]
          },
          "metadata": {
            "tags": []
          },
          "execution_count": 32
        }
      ]
    },
    {
      "cell_type": "code",
      "metadata": {
        "id": "xXZMc4mBm_HP",
        "colab_type": "code",
        "colab": {}
      },
      "source": [
        "for i, vector in enumerate(doc_repr_df['doc_repr']):\n",
        "    t.add_item(i, vector)\n",
        "_  = t.build(10)"
      ],
      "execution_count": 0,
      "outputs": []
    },
    {
      "cell_type": "code",
      "metadata": {
        "id": "TYMSiObZc6f5",
        "colab_type": "code",
        "colab": {}
      },
      "source": [
        "def get_similar_docs_annoy(doc_index):\n",
        "    start = time.time()\n",
        "    base_doc_id, base_vector  = doc_repr_df.iloc[doc_index, [1, 3]]\n",
        "    similar_doc_ids = t.get_nns_by_item(doc_index, 16)\n",
        "    end = time.time()\n",
        "    print(f'{(end - start) * 1000} ms')\n",
        "    return base_doc_id, doc_repr_df.iloc[similar_doc_ids[1:]]"
      ],
      "execution_count": 0,
      "outputs": []
    },
    {
      "cell_type": "code",
      "metadata": {
        "id": "5LQyxwzgUn3x",
        "colab_type": "code",
        "colab": {
          "base_uri": "https://localhost:8080/",
          "height": 289
        },
        "outputId": "fc61077f-f0b0-4406-c3c1-5b375aad9265"
      },
      "source": [
        "#t.get_nns_by_item(doc_index, number_of_similar_docs)\n",
        "t.get_nns_by_item(20, 16)"
      ],
      "execution_count": 67,
      "outputs": [
        {
          "output_type": "execute_result",
          "data": {
            "text/plain": [
              "[20,\n",
              " 17611,\n",
              " 45192,\n",
              " 1490,\n",
              " 6508,\n",
              " 22800,\n",
              " 25703,\n",
              " 49380,\n",
              " 46020,\n",
              " 55688,\n",
              " 57410,\n",
              " 60363,\n",
              " 29917,\n",
              " 31883,\n",
              " 47251,\n",
              " 56349]"
            ]
          },
          "metadata": {
            "tags": []
          },
          "execution_count": 67
        }
      ]
    },
    {
      "cell_type": "code",
      "metadata": {
        "id": "zldt9dMGedMv",
        "colab_type": "code",
        "outputId": "9c237b4f-e7bc-4064-a746-e1709b6f1903",
        "colab": {
          "base_uri": "https://localhost:8080/",
          "height": 34
        }
      },
      "source": [
        "base_doc, similar_docs_df = get_similar_docs_annoy(20)"
      ],
      "execution_count": 68,
      "outputs": [
        {
          "output_type": "stream",
          "text": [
            "1.3210773468017578 ms\n"
          ],
          "name": "stdout"
        }
      ]
    },
    {
      "cell_type": "code",
      "metadata": {
        "id": "cSGEcRFnogen",
        "colab_type": "code",
        "outputId": "5593bf73-f1a2-49e3-fec8-f44a234cbab1",
        "colab": {
          "base_uri": "https://localhost:8080/",
          "height": 1000
        }
      },
      "source": [
        "similar_docs_df"
      ],
      "execution_count": 66,
      "outputs": [
        {
          "output_type": "execute_result",
          "data": {
            "text/html": [
              "<div>\n",
              "<style scoped>\n",
              "    .dataframe tbody tr th:only-of-type {\n",
              "        vertical-align: middle;\n",
              "    }\n",
              "\n",
              "    .dataframe tbody tr th {\n",
              "        vertical-align: top;\n",
              "    }\n",
              "\n",
              "    .dataframe thead th {\n",
              "        text-align: right;\n",
              "    }\n",
              "</style>\n",
              "<table border=\"1\" class=\"dataframe\">\n",
              "  <thead>\n",
              "    <tr style=\"text-align: right;\">\n",
              "      <th></th>\n",
              "      <th>title</th>\n",
              "      <th>doc_id</th>\n",
              "      <th>document</th>\n",
              "      <th>doc_repr</th>\n",
              "    </tr>\n",
              "  </thead>\n",
              "  <tbody>\n",
              "    <tr>\n",
              "      <th>17611</th>\n",
              "      <td>Philadelphia</td>\n",
              "      <td>427cd2901bfe11ea8f2b656571b1b549</td>\n",
              "      <td>In comparison, the 2010 Census Redistricting Data indicated that the racial makeup of the city was 661,839 (43.4%) African American, 626,221 (41.0%) White, 6,996 (0.5%) Native American, 96,405 (6.3%) Asian (2.0% Chinese, 1.2% Indian, 0.9% Vietnamese, 0.6% Cambodian, 0.4% Korean, 0.3% Filipino, 0.2% Pakistani, 0.1% Indonesian), 744 (0.0%) Pacific Islander, 90,731 (5.9%) from other races, and 43,070 (2.8%) from two or more races. Hispanic or Latino of any race were 187,611 persons (12.3%); 8.0% of Philadelphia is Puerto Rican, 1.0% Dominican, 1.0% Mexican, 0.3% Cuban, and 0.3% Colombian. The racial breakdown of Philadelphia's Hispanic/Latino population was 63,636 (33.9%) White, 17,552 (9.4%) African American, 3,498 (1.9%) Native American, 884 (0.47%) Asian, 287 (0.15%) Pacific Islander, 86,626 (46.2%) from other races, and 15,128 (8.1%) from two or more races. The five largest European ancestries reported in the 2010 United States Census Census included Irish (12.5%), Italian (8.4%), German (8.1%), Polish (3.6%), and English (3.0%).</td>\n",
              "      <td>[-0.046753623, 0.0009021554, -0.03459303, -0.00054097624, 0.054820146, -0.018480249, -0.070262745, 0.103020005, -0.06682473, 1.8961647, -0.22133306, 0.015223763, 0.023459136, -0.11930235, 0.03822785, -0.022885589, -0.0048888475, 0.7277284, -0.023508003, -0.13509381, -0.038719974, -0.09215187, -0.04331398, 0.07354124, 0.123856716, -0.09322577, -0.08220322, 0.058962528, -0.0043003503, 0.07755996, 0.05623469, 0.16421552, 0.08002025, -0.17508332, 0.050949216, -0.054607116, -0.13390258, -0.11422177, 0.013324873, 0.12792009, 0.0128757935, 0.14791517, 0.01787927, 0.079362504, 0.15925807, 0.0076399087, 0.05391194, 0.09852011, 0.09097947, -0.011866041, -0.14483368, -0.016868543, -0.1420437, -0.10710521, 0.0057898033, 0.11394755, 0.04702847, 0.015198623, -0.06915523, -0.16047724, 0.13013712, 0.01372245, -0.25941527, 0.2812043, -0.21215326, 0.024158627, 0.05687065, 0.11124308, 0.045040324, 0.12381276, 0.08082479, 0.14757611, 0.14197887, -0.0106988065, 0.17457654, -0.03978336, -0.13969958, 0.0551747, 0.0893772, 0.096541144, 0.10122547, 0.05931154, -0.0074639786, -0.13633066, 0.06064065, -0.12779614, -0.5379964, 0.006247295, -0.043765534, -0.0055689714, -0.09952439, -0.08319427, -0.012755612, -0.052353967, 0.073877856, -0.12901714, -0.10810998, 0.15624039, 0.026111322, -0.016195314, ...]</td>\n",
              "    </tr>\n",
              "    <tr>\n",
              "      <th>45192</th>\n",
              "      <td>Philadelphia</td>\n",
              "      <td>427cd2901bfe11ea8f2b656571b1b549</td>\n",
              "      <td>In comparison, the 2010 Census Redistricting Data indicated that the racial makeup of the city was 661,839 (43.4%) African American, 626,221 (41.0%) White, 6,996 (0.5%) Native American, 96,405 (6.3%) Asian (2.0% Chinese, 1.2% Indian, 0.9% Vietnamese, 0.6% Cambodian, 0.4% Korean, 0.3% Filipino, 0.2% Pakistani, 0.1% Indonesian), 744 (0.0%) Pacific Islander, 90,731 (5.9%) from other races, and 43,070 (2.8%) from two or more races. Hispanic or Latino of any race were 187,611 persons (12.3%); 8.0% of Philadelphia is Puerto Rican, 1.0% Dominican, 1.0% Mexican, 0.3% Cuban, and 0.3% Colombian. The racial breakdown of Philadelphia's Hispanic/Latino population was 63,636 (33.9%) White, 17,552 (9.4%) African American, 3,498 (1.9%) Native American, 884 (0.47%) Asian, 287 (0.15%) Pacific Islander, 86,626 (46.2%) from other races, and 15,128 (8.1%) from two or more races. The five largest European ancestries reported in the 2010 United States Census Census included Irish (12.5%), Italian (8.4%), German (8.1%), Polish (3.6%), and English (3.0%).</td>\n",
              "      <td>[-0.046753623, 0.0009021554, -0.03459303, -0.00054097624, 0.054820146, -0.018480249, -0.070262745, 0.103020005, -0.06682473, 1.8961647, -0.22133306, 0.015223763, 0.023459136, -0.11930235, 0.03822785, -0.022885589, -0.0048888475, 0.7277284, -0.023508003, -0.13509381, -0.038719974, -0.09215187, -0.04331398, 0.07354124, 0.123856716, -0.09322577, -0.08220322, 0.058962528, -0.0043003503, 0.07755996, 0.05623469, 0.16421552, 0.08002025, -0.17508332, 0.050949216, -0.054607116, -0.13390258, -0.11422177, 0.013324873, 0.12792009, 0.0128757935, 0.14791517, 0.01787927, 0.079362504, 0.15925807, 0.0076399087, 0.05391194, 0.09852011, 0.09097947, -0.011866041, -0.14483368, -0.016868543, -0.1420437, -0.10710521, 0.0057898033, 0.11394755, 0.04702847, 0.015198623, -0.06915523, -0.16047724, 0.13013712, 0.01372245, -0.25941527, 0.2812043, -0.21215326, 0.024158627, 0.05687065, 0.11124308, 0.045040324, 0.12381276, 0.08082479, 0.14757611, 0.14197887, -0.0106988065, 0.17457654, -0.03978336, -0.13969958, 0.0551747, 0.0893772, 0.096541144, 0.10122547, 0.05931154, -0.0074639786, -0.13633066, 0.06064065, -0.12779614, -0.5379964, 0.006247295, -0.043765534, -0.0055689714, -0.09952439, -0.08319427, -0.012755612, -0.052353967, 0.073877856, -0.12901714, -0.10810998, 0.15624039, 0.026111322, -0.016195314, ...]</td>\n",
              "    </tr>\n",
              "    <tr>\n",
              "      <th>1490</th>\n",
              "      <td>New_York_City</td>\n",
              "      <td>42832e561bfe11ea8f2b656571b1b549</td>\n",
              "      <td>New York City has the largest European and non-Hispanic white population of any American city. At 2.7 million in 2012, New York's non-Hispanic white population is larger than the non-Hispanic white populations of Los Angeles (1.1 million), Chicago (865,000), and Houston (550,000) combined. The European diaspora residing in the city is very diverse. According to 2012 Census estimates, there were roughly 560,000 Italian Americans, 385,000 Irish Americans, 253,000 German Americans, 223,000 Russian Americans, 201,000 Polish Americans, and 137,000 English Americans. Additionally, Greek and French Americans numbered 65,000 each, with those of Hungarian descent estimated at 60,000 people. Ukrainian and Scottish Americans numbered 55,000 and 35,000, respectively. People identifying ancestry from Spain numbered 30,838 total in 2010. People of Norwegian and Swedish descent both stood at about 20,000 each, while people of Czech, Lithuanian, Portuguese, Scotch-Irish, and Welsh descent all numbered between 12,000–14,000 people. Arab Americans number over 160,000 in New York City, with the highest concentration in Brooklyn. Central Asians, primarily Uzbek Americans, are a rapidly growing segment of the city's non-Hispanic white population, enumerating over 30,000, and including over half of all Central Asian immigrants to the United States, most settling in Queens or Brooklyn. Albanian Americans are most highly concentrated in the Bronx.</td>\n",
              "      <td>[0.0059459475, -0.024230087, -0.0236974, -0.027654331, 0.088908404, -0.08185559, -0.057446197, 0.14132003, -0.011702029, 1.8890789, -0.22007647, 0.085759975, 0.027809, -0.112625554, 0.057688225, -0.0016199131, -0.0057336926, 0.72181284, -0.051865768, -0.15806226, -0.039672934, -0.06598448, -0.0015298816, 0.07487336, 0.028076421, -0.17867975, -0.077746674, 0.03807373, 0.06470073, 0.048270408, 0.097415976, 0.17333661, 0.032077253, -0.12950702, 0.13772832, -0.0556987, -0.1429763, -0.060391564, 0.07772454, 0.15917744, 0.048809156, 0.20580238, 0.0054908353, 0.029153228, 0.1331797, -0.020741127, 0.033112347, 0.035499357, 0.14131804, 0.049315996, -0.2154065, 0.039735377, -0.17840898, -0.20240287, 0.02996427, 0.09300997, 0.042551402, -0.01132431, -0.10021721, -0.074013576, 0.11006038, -0.059889372, -0.20602211, 0.11575688, -0.17448658, -0.0041747484, 0.025578393, 0.08983505, 0.014418679, 0.112753965, 0.013560408, 0.08221759, 0.11740138, -0.013842646, 0.09006788, -0.07624841, -0.03709764, 0.029758295, 0.09112889, 0.10299335, 0.06386409, 0.081051946, 0.043510042, -0.074174635, 0.12623689, -0.12203425, -0.47939616, 0.04521432, 0.0072543398, 0.03566299, -0.17265573, -0.0663778, 0.022427373, 0.04405359, 0.024968244, -0.09703631, -0.112056285, 0.054897614, 0.042865958, -0.04938353, ...]</td>\n",
              "    </tr>\n",
              "    <tr>\n",
              "      <th>6508</th>\n",
              "      <td>New_York_City</td>\n",
              "      <td>42832e561bfe11ea8f2b656571b1b549</td>\n",
              "      <td>New York City has the largest European and non-Hispanic white population of any American city. At 2.7 million in 2012, New York's non-Hispanic white population is larger than the non-Hispanic white populations of Los Angeles (1.1 million), Chicago (865,000), and Houston (550,000) combined. The European diaspora residing in the city is very diverse. According to 2012 Census estimates, there were roughly 560,000 Italian Americans, 385,000 Irish Americans, 253,000 German Americans, 223,000 Russian Americans, 201,000 Polish Americans, and 137,000 English Americans. Additionally, Greek and French Americans numbered 65,000 each, with those of Hungarian descent estimated at 60,000 people. Ukrainian and Scottish Americans numbered 55,000 and 35,000, respectively. People identifying ancestry from Spain numbered 30,838 total in 2010. People of Norwegian and Swedish descent both stood at about 20,000 each, while people of Czech, Lithuanian, Portuguese, Scotch-Irish, and Welsh descent all numbered between 12,000–14,000 people. Arab Americans number over 160,000 in New York City, with the highest concentration in Brooklyn. Central Asians, primarily Uzbek Americans, are a rapidly growing segment of the city's non-Hispanic white population, enumerating over 30,000, and including over half of all Central Asian immigrants to the United States, most settling in Queens or Brooklyn. Albanian Americans are most highly concentrated in the Bronx.</td>\n",
              "      <td>[0.0059459475, -0.024230087, -0.0236974, -0.027654331, 0.088908404, -0.08185559, -0.057446197, 0.14132003, -0.011702029, 1.8890789, -0.22007647, 0.085759975, 0.027809, -0.112625554, 0.057688225, -0.0016199131, -0.0057336926, 0.72181284, -0.051865768, -0.15806226, -0.039672934, -0.06598448, -0.0015298816, 0.07487336, 0.028076421, -0.17867975, -0.077746674, 0.03807373, 0.06470073, 0.048270408, 0.097415976, 0.17333661, 0.032077253, -0.12950702, 0.13772832, -0.0556987, -0.1429763, -0.060391564, 0.07772454, 0.15917744, 0.048809156, 0.20580238, 0.0054908353, 0.029153228, 0.1331797, -0.020741127, 0.033112347, 0.035499357, 0.14131804, 0.049315996, -0.2154065, 0.039735377, -0.17840898, -0.20240287, 0.02996427, 0.09300997, 0.042551402, -0.01132431, -0.10021721, -0.074013576, 0.11006038, -0.059889372, -0.20602211, 0.11575688, -0.17448658, -0.0041747484, 0.025578393, 0.08983505, 0.014418679, 0.112753965, 0.013560408, 0.08221759, 0.11740138, -0.013842646, 0.09006788, -0.07624841, -0.03709764, 0.029758295, 0.09112889, 0.10299335, 0.06386409, 0.081051946, 0.043510042, -0.074174635, 0.12623689, -0.12203425, -0.47939616, 0.04521432, 0.0072543398, 0.03566299, -0.17265573, -0.0663778, 0.022427373, 0.04405359, 0.024968244, -0.09703631, -0.112056285, 0.054897614, 0.042865958, -0.04938353, ...]</td>\n",
              "    </tr>\n",
              "    <tr>\n",
              "      <th>22800</th>\n",
              "      <td>New_York_City</td>\n",
              "      <td>42832e561bfe11ea8f2b656571b1b549</td>\n",
              "      <td>New York City has the largest European and non-Hispanic white population of any American city. At 2.7 million in 2012, New York's non-Hispanic white population is larger than the non-Hispanic white populations of Los Angeles (1.1 million), Chicago (865,000), and Houston (550,000) combined. The European diaspora residing in the city is very diverse. According to 2012 Census estimates, there were roughly 560,000 Italian Americans, 385,000 Irish Americans, 253,000 German Americans, 223,000 Russian Americans, 201,000 Polish Americans, and 137,000 English Americans. Additionally, Greek and French Americans numbered 65,000 each, with those of Hungarian descent estimated at 60,000 people. Ukrainian and Scottish Americans numbered 55,000 and 35,000, respectively. People identifying ancestry from Spain numbered 30,838 total in 2010. People of Norwegian and Swedish descent both stood at about 20,000 each, while people of Czech, Lithuanian, Portuguese, Scotch-Irish, and Welsh descent all numbered between 12,000–14,000 people. Arab Americans number over 160,000 in New York City, with the highest concentration in Brooklyn. Central Asians, primarily Uzbek Americans, are a rapidly growing segment of the city's non-Hispanic white population, enumerating over 30,000, and including over half of all Central Asian immigrants to the United States, most settling in Queens or Brooklyn. Albanian Americans are most highly concentrated in the Bronx.</td>\n",
              "      <td>[0.0059459475, -0.024230087, -0.0236974, -0.027654331, 0.088908404, -0.08185559, -0.057446197, 0.14132003, -0.011702029, 1.8890789, -0.22007647, 0.085759975, 0.027809, -0.112625554, 0.057688225, -0.0016199131, -0.0057336926, 0.72181284, -0.051865768, -0.15806226, -0.039672934, -0.06598448, -0.0015298816, 0.07487336, 0.028076421, -0.17867975, -0.077746674, 0.03807373, 0.06470073, 0.048270408, 0.097415976, 0.17333661, 0.032077253, -0.12950702, 0.13772832, -0.0556987, -0.1429763, -0.060391564, 0.07772454, 0.15917744, 0.048809156, 0.20580238, 0.0054908353, 0.029153228, 0.1331797, -0.020741127, 0.033112347, 0.035499357, 0.14131804, 0.049315996, -0.2154065, 0.039735377, -0.17840898, -0.20240287, 0.02996427, 0.09300997, 0.042551402, -0.01132431, -0.10021721, -0.074013576, 0.11006038, -0.059889372, -0.20602211, 0.11575688, -0.17448658, -0.0041747484, 0.025578393, 0.08983505, 0.014418679, 0.112753965, 0.013560408, 0.08221759, 0.11740138, -0.013842646, 0.09006788, -0.07624841, -0.03709764, 0.029758295, 0.09112889, 0.10299335, 0.06386409, 0.081051946, 0.043510042, -0.074174635, 0.12623689, -0.12203425, -0.47939616, 0.04521432, 0.0072543398, 0.03566299, -0.17265573, -0.0663778, 0.022427373, 0.04405359, 0.024968244, -0.09703631, -0.112056285, 0.054897614, 0.042865958, -0.04938353, ...]</td>\n",
              "    </tr>\n",
              "    <tr>\n",
              "      <th>25703</th>\n",
              "      <td>New_York_City</td>\n",
              "      <td>42832e561bfe11ea8f2b656571b1b549</td>\n",
              "      <td>New York City has the largest European and non-Hispanic white population of any American city. At 2.7 million in 2012, New York's non-Hispanic white population is larger than the non-Hispanic white populations of Los Angeles (1.1 million), Chicago (865,000), and Houston (550,000) combined. The European diaspora residing in the city is very diverse. According to 2012 Census estimates, there were roughly 560,000 Italian Americans, 385,000 Irish Americans, 253,000 German Americans, 223,000 Russian Americans, 201,000 Polish Americans, and 137,000 English Americans. Additionally, Greek and French Americans numbered 65,000 each, with those of Hungarian descent estimated at 60,000 people. Ukrainian and Scottish Americans numbered 55,000 and 35,000, respectively. People identifying ancestry from Spain numbered 30,838 total in 2010. People of Norwegian and Swedish descent both stood at about 20,000 each, while people of Czech, Lithuanian, Portuguese, Scotch-Irish, and Welsh descent all numbered between 12,000–14,000 people. Arab Americans number over 160,000 in New York City, with the highest concentration in Brooklyn. Central Asians, primarily Uzbek Americans, are a rapidly growing segment of the city's non-Hispanic white population, enumerating over 30,000, and including over half of all Central Asian immigrants to the United States, most settling in Queens or Brooklyn. Albanian Americans are most highly concentrated in the Bronx.</td>\n",
              "      <td>[0.0059459475, -0.024230087, -0.0236974, -0.027654331, 0.088908404, -0.08185559, -0.057446197, 0.14132003, -0.011702029, 1.8890789, -0.22007647, 0.085759975, 0.027809, -0.112625554, 0.057688225, -0.0016199131, -0.0057336926, 0.72181284, -0.051865768, -0.15806226, -0.039672934, -0.06598448, -0.0015298816, 0.07487336, 0.028076421, -0.17867975, -0.077746674, 0.03807373, 0.06470073, 0.048270408, 0.097415976, 0.17333661, 0.032077253, -0.12950702, 0.13772832, -0.0556987, -0.1429763, -0.060391564, 0.07772454, 0.15917744, 0.048809156, 0.20580238, 0.0054908353, 0.029153228, 0.1331797, -0.020741127, 0.033112347, 0.035499357, 0.14131804, 0.049315996, -0.2154065, 0.039735377, -0.17840898, -0.20240287, 0.02996427, 0.09300997, 0.042551402, -0.01132431, -0.10021721, -0.074013576, 0.11006038, -0.059889372, -0.20602211, 0.11575688, -0.17448658, -0.0041747484, 0.025578393, 0.08983505, 0.014418679, 0.112753965, 0.013560408, 0.08221759, 0.11740138, -0.013842646, 0.09006788, -0.07624841, -0.03709764, 0.029758295, 0.09112889, 0.10299335, 0.06386409, 0.081051946, 0.043510042, -0.074174635, 0.12623689, -0.12203425, -0.47939616, 0.04521432, 0.0072543398, 0.03566299, -0.17265573, -0.0663778, 0.022427373, 0.04405359, 0.024968244, -0.09703631, -0.112056285, 0.054897614, 0.042865958, -0.04938353, ...]</td>\n",
              "    </tr>\n",
              "    <tr>\n",
              "      <th>49380</th>\n",
              "      <td>New_York_City</td>\n",
              "      <td>42832e561bfe11ea8f2b656571b1b549</td>\n",
              "      <td>New York City has the largest European and non-Hispanic white population of any American city. At 2.7 million in 2012, New York's non-Hispanic white population is larger than the non-Hispanic white populations of Los Angeles (1.1 million), Chicago (865,000), and Houston (550,000) combined. The European diaspora residing in the city is very diverse. According to 2012 Census estimates, there were roughly 560,000 Italian Americans, 385,000 Irish Americans, 253,000 German Americans, 223,000 Russian Americans, 201,000 Polish Americans, and 137,000 English Americans. Additionally, Greek and French Americans numbered 65,000 each, with those of Hungarian descent estimated at 60,000 people. Ukrainian and Scottish Americans numbered 55,000 and 35,000, respectively. People identifying ancestry from Spain numbered 30,838 total in 2010. People of Norwegian and Swedish descent both stood at about 20,000 each, while people of Czech, Lithuanian, Portuguese, Scotch-Irish, and Welsh descent all numbered between 12,000–14,000 people. Arab Americans number over 160,000 in New York City, with the highest concentration in Brooklyn. Central Asians, primarily Uzbek Americans, are a rapidly growing segment of the city's non-Hispanic white population, enumerating over 30,000, and including over half of all Central Asian immigrants to the United States, most settling in Queens or Brooklyn. Albanian Americans are most highly concentrated in the Bronx.</td>\n",
              "      <td>[0.0059459475, -0.024230087, -0.0236974, -0.027654331, 0.088908404, -0.08185559, -0.057446197, 0.14132003, -0.011702029, 1.8890789, -0.22007647, 0.085759975, 0.027809, -0.112625554, 0.057688225, -0.0016199131, -0.0057336926, 0.72181284, -0.051865768, -0.15806226, -0.039672934, -0.06598448, -0.0015298816, 0.07487336, 0.028076421, -0.17867975, -0.077746674, 0.03807373, 0.06470073, 0.048270408, 0.097415976, 0.17333661, 0.032077253, -0.12950702, 0.13772832, -0.0556987, -0.1429763, -0.060391564, 0.07772454, 0.15917744, 0.048809156, 0.20580238, 0.0054908353, 0.029153228, 0.1331797, -0.020741127, 0.033112347, 0.035499357, 0.14131804, 0.049315996, -0.2154065, 0.039735377, -0.17840898, -0.20240287, 0.02996427, 0.09300997, 0.042551402, -0.01132431, -0.10021721, -0.074013576, 0.11006038, -0.059889372, -0.20602211, 0.11575688, -0.17448658, -0.0041747484, 0.025578393, 0.08983505, 0.014418679, 0.112753965, 0.013560408, 0.08221759, 0.11740138, -0.013842646, 0.09006788, -0.07624841, -0.03709764, 0.029758295, 0.09112889, 0.10299335, 0.06386409, 0.081051946, 0.043510042, -0.074174635, 0.12623689, -0.12203425, -0.47939616, 0.04521432, 0.0072543398, 0.03566299, -0.17265573, -0.0663778, 0.022427373, 0.04405359, 0.024968244, -0.09703631, -0.112056285, 0.054897614, 0.042865958, -0.04938353, ...]</td>\n",
              "    </tr>\n",
              "    <tr>\n",
              "      <th>46020</th>\n",
              "      <td>Montana</td>\n",
              "      <td>4275d35a1bfe11ea8f2b656571b1b549</td>\n",
              "      <td>English is the official language in the state of Montana, as it is in many U.S. states. English is also the language of the majority. According to the 2000 U.S. Census, 94.8 percent of the population aged 5 and older speak English at home. Spanish is the language most commonly spoken at home other than English. There were about 13,040 Spanish-language speakers in the state (1.4 percent of the population) in 2011. There were also 15,438 (1.7 percent of the state population) speakers of Indo-European languages other than English or Spanish, 10,154 (1.1 percent) speakers of a Native American language, and 4,052 (0.4 percent) speakers of an Asian or Pacific Islander language. Other languages spoken in Montana (as of 2013) include Assiniboine (about 150 speakers in the Montana and Canada), Blackfoot (about 100 speakers), Cheyenne (about 1,700 speakers), Plains Cree (about 100 speakers), Crow (about 3,000 speakers), Dakota (about 18,800 speakers in Minnesota, Montana, Nebraska, North Dakota, and South Dakota), German Hutterite (about 5,600 speakers), Gros Ventre (about 10 speakers), Kalispel-Pend d'Oreille (about 64 speakers), Kutenai (about 6 speakers), and Lakota (about 6,000 speakers in Minnesota, Montana, Nebraska, North Dakota, South Dakota). The United States Department of Education estimated in 2009 that 5,274 students in Montana spoke a language at home other than English. These included a Native American language (64 percent), German (4 percent), Spanish (3 percent), Russian (1 percent), and Chinese (less than 0.5 percent).</td>\n",
              "      <td>[-0.043899786, 0.046657804, -0.018435983, 0.00027517093, 0.11761673, -0.049097084, -0.026828118, 0.043179497, -0.044437002, 1.7853785, -0.107076995, 0.02510105, 0.031298313, -0.1692128, -0.008811898, -0.027604569, 0.038170047, 0.7620943, -0.09314727, -0.18951796, -0.15272354, -0.05327061, 0.011605505, 0.06519894, 0.060736276, -0.12486969, -0.09155489, 0.05811555, 0.018746031, 0.06463315, 0.040125523, 0.0769625, 0.06216802, -0.07772344, 0.08338715, -0.057581015, -0.06938908, -0.010090071, -0.0379612, 0.08818589, 0.03816488, 0.091017716, 0.060283165, -0.012339168, 0.14346704, 0.040724147, 0.032774117, -0.034447476, 0.15549871, -0.044325776, -0.22439902, 0.07272257, -0.11049128, -0.13731946, -0.013570102, 0.043533824, 0.004625799, 0.06795738, -0.1020274, -0.060102593, 0.10458097, 0.016337262, -0.18254924, 0.29498154, -0.12749563, 0.03109913, 0.034877494, 0.09377497, 0.021981942, 0.12543198, -0.02990705, -0.0015856515, 0.090757415, -0.015390351, 0.03617657, 0.019035405, -0.07148097, 0.12197652, -0.012680915, 0.17406173, 0.052157342, 0.087790936, 0.002715982, -0.06976301, 0.05433901, -0.1914274, -0.55441135, 0.035096344, 0.0783571, -0.0038121957, -0.112908445, -0.14185764, -0.04621668, 0.007740238, 0.10656451, -0.101696365, 0.00795071, 0.024551436, 0.09530894, -0.087068066, ...]</td>\n",
              "    </tr>\n",
              "    <tr>\n",
              "      <th>55688</th>\n",
              "      <td>Montana</td>\n",
              "      <td>4275d35a1bfe11ea8f2b656571b1b549</td>\n",
              "      <td>English is the official language in the state of Montana, as it is in many U.S. states. English is also the language of the majority. According to the 2000 U.S. Census, 94.8 percent of the population aged 5 and older speak English at home. Spanish is the language most commonly spoken at home other than English. There were about 13,040 Spanish-language speakers in the state (1.4 percent of the population) in 2011. There were also 15,438 (1.7 percent of the state population) speakers of Indo-European languages other than English or Spanish, 10,154 (1.1 percent) speakers of a Native American language, and 4,052 (0.4 percent) speakers of an Asian or Pacific Islander language. Other languages spoken in Montana (as of 2013) include Assiniboine (about 150 speakers in the Montana and Canada), Blackfoot (about 100 speakers), Cheyenne (about 1,700 speakers), Plains Cree (about 100 speakers), Crow (about 3,000 speakers), Dakota (about 18,800 speakers in Minnesota, Montana, Nebraska, North Dakota, and South Dakota), German Hutterite (about 5,600 speakers), Gros Ventre (about 10 speakers), Kalispel-Pend d'Oreille (about 64 speakers), Kutenai (about 6 speakers), and Lakota (about 6,000 speakers in Minnesota, Montana, Nebraska, North Dakota, South Dakota). The United States Department of Education estimated in 2009 that 5,274 students in Montana spoke a language at home other than English. These included a Native American language (64 percent), German (4 percent), Spanish (3 percent), Russian (1 percent), and Chinese (less than 0.5 percent).</td>\n",
              "      <td>[-0.043899786, 0.046657804, -0.018435983, 0.00027517093, 0.11761673, -0.049097084, -0.026828118, 0.043179497, -0.044437002, 1.7853785, -0.107076995, 0.02510105, 0.031298313, -0.1692128, -0.008811898, -0.027604569, 0.038170047, 0.7620943, -0.09314727, -0.18951796, -0.15272354, -0.05327061, 0.011605505, 0.06519894, 0.060736276, -0.12486969, -0.09155489, 0.05811555, 0.018746031, 0.06463315, 0.040125523, 0.0769625, 0.06216802, -0.07772344, 0.08338715, -0.057581015, -0.06938908, -0.010090071, -0.0379612, 0.08818589, 0.03816488, 0.091017716, 0.060283165, -0.012339168, 0.14346704, 0.040724147, 0.032774117, -0.034447476, 0.15549871, -0.044325776, -0.22439902, 0.07272257, -0.11049128, -0.13731946, -0.013570102, 0.043533824, 0.004625799, 0.06795738, -0.1020274, -0.060102593, 0.10458097, 0.016337262, -0.18254924, 0.29498154, -0.12749563, 0.03109913, 0.034877494, 0.09377497, 0.021981942, 0.12543198, -0.02990705, -0.0015856515, 0.090757415, -0.015390351, 0.03617657, 0.019035405, -0.07148097, 0.12197652, -0.012680915, 0.17406173, 0.052157342, 0.087790936, 0.002715982, -0.06976301, 0.05433901, -0.1914274, -0.55441135, 0.035096344, 0.0783571, -0.0038121957, -0.112908445, -0.14185764, -0.04621668, 0.007740238, 0.10656451, -0.101696365, 0.00795071, 0.024551436, 0.09530894, -0.087068066, ...]</td>\n",
              "    </tr>\n",
              "    <tr>\n",
              "      <th>57410</th>\n",
              "      <td>Montana</td>\n",
              "      <td>4275d35a1bfe11ea8f2b656571b1b549</td>\n",
              "      <td>English is the official language in the state of Montana, as it is in many U.S. states. English is also the language of the majority. According to the 2000 U.S. Census, 94.8 percent of the population aged 5 and older speak English at home. Spanish is the language most commonly spoken at home other than English. There were about 13,040 Spanish-language speakers in the state (1.4 percent of the population) in 2011. There were also 15,438 (1.7 percent of the state population) speakers of Indo-European languages other than English or Spanish, 10,154 (1.1 percent) speakers of a Native American language, and 4,052 (0.4 percent) speakers of an Asian or Pacific Islander language. Other languages spoken in Montana (as of 2013) include Assiniboine (about 150 speakers in the Montana and Canada), Blackfoot (about 100 speakers), Cheyenne (about 1,700 speakers), Plains Cree (about 100 speakers), Crow (about 3,000 speakers), Dakota (about 18,800 speakers in Minnesota, Montana, Nebraska, North Dakota, and South Dakota), German Hutterite (about 5,600 speakers), Gros Ventre (about 10 speakers), Kalispel-Pend d'Oreille (about 64 speakers), Kutenai (about 6 speakers), and Lakota (about 6,000 speakers in Minnesota, Montana, Nebraska, North Dakota, South Dakota). The United States Department of Education estimated in 2009 that 5,274 students in Montana spoke a language at home other than English. These included a Native American language (64 percent), German (4 percent), Spanish (3 percent), Russian (1 percent), and Chinese (less than 0.5 percent).</td>\n",
              "      <td>[-0.043899786, 0.046657804, -0.018435983, 0.00027517093, 0.11761673, -0.049097084, -0.026828118, 0.043179497, -0.044437002, 1.7853785, -0.107076995, 0.02510105, 0.031298313, -0.1692128, -0.008811898, -0.027604569, 0.038170047, 0.7620943, -0.09314727, -0.18951796, -0.15272354, -0.05327061, 0.011605505, 0.06519894, 0.060736276, -0.12486969, -0.09155489, 0.05811555, 0.018746031, 0.06463315, 0.040125523, 0.0769625, 0.06216802, -0.07772344, 0.08338715, -0.057581015, -0.06938908, -0.010090071, -0.0379612, 0.08818589, 0.03816488, 0.091017716, 0.060283165, -0.012339168, 0.14346704, 0.040724147, 0.032774117, -0.034447476, 0.15549871, -0.044325776, -0.22439902, 0.07272257, -0.11049128, -0.13731946, -0.013570102, 0.043533824, 0.004625799, 0.06795738, -0.1020274, -0.060102593, 0.10458097, 0.016337262, -0.18254924, 0.29498154, -0.12749563, 0.03109913, 0.034877494, 0.09377497, 0.021981942, 0.12543198, -0.02990705, -0.0015856515, 0.090757415, -0.015390351, 0.03617657, 0.019035405, -0.07148097, 0.12197652, -0.012680915, 0.17406173, 0.052157342, 0.087790936, 0.002715982, -0.06976301, 0.05433901, -0.1914274, -0.55441135, 0.035096344, 0.0783571, -0.0038121957, -0.112908445, -0.14185764, -0.04621668, 0.007740238, 0.10656451, -0.101696365, 0.00795071, 0.024551436, 0.09530894, -0.087068066, ...]</td>\n",
              "    </tr>\n",
              "  </tbody>\n",
              "</table>\n",
              "</div>"
            ],
            "text/plain": [
              "               title                            doc_id  \\\n",
              "17611  Philadelphia   427cd2901bfe11ea8f2b656571b1b549   \n",
              "45192  Philadelphia   427cd2901bfe11ea8f2b656571b1b549   \n",
              "1490   New_York_City  42832e561bfe11ea8f2b656571b1b549   \n",
              "6508   New_York_City  42832e561bfe11ea8f2b656571b1b549   \n",
              "22800  New_York_City  42832e561bfe11ea8f2b656571b1b549   \n",
              "25703  New_York_City  42832e561bfe11ea8f2b656571b1b549   \n",
              "49380  New_York_City  42832e561bfe11ea8f2b656571b1b549   \n",
              "46020  Montana        4275d35a1bfe11ea8f2b656571b1b549   \n",
              "55688  Montana        4275d35a1bfe11ea8f2b656571b1b549   \n",
              "57410  Montana        4275d35a1bfe11ea8f2b656571b1b549   \n",
              "\n",
              "                                                                                                                                                                                                                                                                                                                                                                                                                                                                                                                                                                                                                                                                                                                                                                                                                                                                                                                                                                                                                                                                                                                                                                                                                                                                                                                                                                                                                                                                                                                                                                                                               document  \\\n",
              "17611  In comparison, the 2010 Census Redistricting Data indicated that the racial makeup of the city was 661,839 (43.4%) African American, 626,221 (41.0%) White, 6,996 (0.5%) Native American, 96,405 (6.3%) Asian (2.0% Chinese, 1.2% Indian, 0.9% Vietnamese, 0.6% Cambodian, 0.4% Korean, 0.3% Filipino, 0.2% Pakistani, 0.1% Indonesian), 744 (0.0%) Pacific Islander, 90,731 (5.9%) from other races, and 43,070 (2.8%) from two or more races. Hispanic or Latino of any race were 187,611 persons (12.3%); 8.0% of Philadelphia is Puerto Rican, 1.0% Dominican, 1.0% Mexican, 0.3% Cuban, and 0.3% Colombian. The racial breakdown of Philadelphia's Hispanic/Latino population was 63,636 (33.9%) White, 17,552 (9.4%) African American, 3,498 (1.9%) Native American, 884 (0.47%) Asian, 287 (0.15%) Pacific Islander, 86,626 (46.2%) from other races, and 15,128 (8.1%) from two or more races. The five largest European ancestries reported in the 2010 United States Census Census included Irish (12.5%), Italian (8.4%), German (8.1%), Polish (3.6%), and English (3.0%).                                                                                                                                                                                                                                                                                                                                                                                                                                                                                                                             \n",
              "45192  In comparison, the 2010 Census Redistricting Data indicated that the racial makeup of the city was 661,839 (43.4%) African American, 626,221 (41.0%) White, 6,996 (0.5%) Native American, 96,405 (6.3%) Asian (2.0% Chinese, 1.2% Indian, 0.9% Vietnamese, 0.6% Cambodian, 0.4% Korean, 0.3% Filipino, 0.2% Pakistani, 0.1% Indonesian), 744 (0.0%) Pacific Islander, 90,731 (5.9%) from other races, and 43,070 (2.8%) from two or more races. Hispanic or Latino of any race were 187,611 persons (12.3%); 8.0% of Philadelphia is Puerto Rican, 1.0% Dominican, 1.0% Mexican, 0.3% Cuban, and 0.3% Colombian. The racial breakdown of Philadelphia's Hispanic/Latino population was 63,636 (33.9%) White, 17,552 (9.4%) African American, 3,498 (1.9%) Native American, 884 (0.47%) Asian, 287 (0.15%) Pacific Islander, 86,626 (46.2%) from other races, and 15,128 (8.1%) from two or more races. The five largest European ancestries reported in the 2010 United States Census Census included Irish (12.5%), Italian (8.4%), German (8.1%), Polish (3.6%), and English (3.0%).                                                                                                                                                                                                                                                                                                                                                                                                                                                                                                                             \n",
              "1490   New York City has the largest European and non-Hispanic white population of any American city. At 2.7 million in 2012, New York's non-Hispanic white population is larger than the non-Hispanic white populations of Los Angeles (1.1 million), Chicago (865,000), and Houston (550,000) combined. The European diaspora residing in the city is very diverse. According to 2012 Census estimates, there were roughly 560,000 Italian Americans, 385,000 Irish Americans, 253,000 German Americans, 223,000 Russian Americans, 201,000 Polish Americans, and 137,000 English Americans. Additionally, Greek and French Americans numbered 65,000 each, with those of Hungarian descent estimated at 60,000 people. Ukrainian and Scottish Americans numbered 55,000 and 35,000, respectively. People identifying ancestry from Spain numbered 30,838 total in 2010. People of Norwegian and Swedish descent both stood at about 20,000 each, while people of Czech, Lithuanian, Portuguese, Scotch-Irish, and Welsh descent all numbered between 12,000–14,000 people. Arab Americans number over 160,000 in New York City, with the highest concentration in Brooklyn. Central Asians, primarily Uzbek Americans, are a rapidly growing segment of the city's non-Hispanic white population, enumerating over 30,000, and including over half of all Central Asian immigrants to the United States, most settling in Queens or Brooklyn. Albanian Americans are most highly concentrated in the Bronx.                                                                                                            \n",
              "6508   New York City has the largest European and non-Hispanic white population of any American city. At 2.7 million in 2012, New York's non-Hispanic white population is larger than the non-Hispanic white populations of Los Angeles (1.1 million), Chicago (865,000), and Houston (550,000) combined. The European diaspora residing in the city is very diverse. According to 2012 Census estimates, there were roughly 560,000 Italian Americans, 385,000 Irish Americans, 253,000 German Americans, 223,000 Russian Americans, 201,000 Polish Americans, and 137,000 English Americans. Additionally, Greek and French Americans numbered 65,000 each, with those of Hungarian descent estimated at 60,000 people. Ukrainian and Scottish Americans numbered 55,000 and 35,000, respectively. People identifying ancestry from Spain numbered 30,838 total in 2010. People of Norwegian and Swedish descent both stood at about 20,000 each, while people of Czech, Lithuanian, Portuguese, Scotch-Irish, and Welsh descent all numbered between 12,000–14,000 people. Arab Americans number over 160,000 in New York City, with the highest concentration in Brooklyn. Central Asians, primarily Uzbek Americans, are a rapidly growing segment of the city's non-Hispanic white population, enumerating over 30,000, and including over half of all Central Asian immigrants to the United States, most settling in Queens or Brooklyn. Albanian Americans are most highly concentrated in the Bronx.                                                                                                            \n",
              "22800  New York City has the largest European and non-Hispanic white population of any American city. At 2.7 million in 2012, New York's non-Hispanic white population is larger than the non-Hispanic white populations of Los Angeles (1.1 million), Chicago (865,000), and Houston (550,000) combined. The European diaspora residing in the city is very diverse. According to 2012 Census estimates, there were roughly 560,000 Italian Americans, 385,000 Irish Americans, 253,000 German Americans, 223,000 Russian Americans, 201,000 Polish Americans, and 137,000 English Americans. Additionally, Greek and French Americans numbered 65,000 each, with those of Hungarian descent estimated at 60,000 people. Ukrainian and Scottish Americans numbered 55,000 and 35,000, respectively. People identifying ancestry from Spain numbered 30,838 total in 2010. People of Norwegian and Swedish descent both stood at about 20,000 each, while people of Czech, Lithuanian, Portuguese, Scotch-Irish, and Welsh descent all numbered between 12,000–14,000 people. Arab Americans number over 160,000 in New York City, with the highest concentration in Brooklyn. Central Asians, primarily Uzbek Americans, are a rapidly growing segment of the city's non-Hispanic white population, enumerating over 30,000, and including over half of all Central Asian immigrants to the United States, most settling in Queens or Brooklyn. Albanian Americans are most highly concentrated in the Bronx.                                                                                                            \n",
              "25703  New York City has the largest European and non-Hispanic white population of any American city. At 2.7 million in 2012, New York's non-Hispanic white population is larger than the non-Hispanic white populations of Los Angeles (1.1 million), Chicago (865,000), and Houston (550,000) combined. The European diaspora residing in the city is very diverse. According to 2012 Census estimates, there were roughly 560,000 Italian Americans, 385,000 Irish Americans, 253,000 German Americans, 223,000 Russian Americans, 201,000 Polish Americans, and 137,000 English Americans. Additionally, Greek and French Americans numbered 65,000 each, with those of Hungarian descent estimated at 60,000 people. Ukrainian and Scottish Americans numbered 55,000 and 35,000, respectively. People identifying ancestry from Spain numbered 30,838 total in 2010. People of Norwegian and Swedish descent both stood at about 20,000 each, while people of Czech, Lithuanian, Portuguese, Scotch-Irish, and Welsh descent all numbered between 12,000–14,000 people. Arab Americans number over 160,000 in New York City, with the highest concentration in Brooklyn. Central Asians, primarily Uzbek Americans, are a rapidly growing segment of the city's non-Hispanic white population, enumerating over 30,000, and including over half of all Central Asian immigrants to the United States, most settling in Queens or Brooklyn. Albanian Americans are most highly concentrated in the Bronx.                                                                                                            \n",
              "49380  New York City has the largest European and non-Hispanic white population of any American city. At 2.7 million in 2012, New York's non-Hispanic white population is larger than the non-Hispanic white populations of Los Angeles (1.1 million), Chicago (865,000), and Houston (550,000) combined. The European diaspora residing in the city is very diverse. According to 2012 Census estimates, there were roughly 560,000 Italian Americans, 385,000 Irish Americans, 253,000 German Americans, 223,000 Russian Americans, 201,000 Polish Americans, and 137,000 English Americans. Additionally, Greek and French Americans numbered 65,000 each, with those of Hungarian descent estimated at 60,000 people. Ukrainian and Scottish Americans numbered 55,000 and 35,000, respectively. People identifying ancestry from Spain numbered 30,838 total in 2010. People of Norwegian and Swedish descent both stood at about 20,000 each, while people of Czech, Lithuanian, Portuguese, Scotch-Irish, and Welsh descent all numbered between 12,000–14,000 people. Arab Americans number over 160,000 in New York City, with the highest concentration in Brooklyn. Central Asians, primarily Uzbek Americans, are a rapidly growing segment of the city's non-Hispanic white population, enumerating over 30,000, and including over half of all Central Asian immigrants to the United States, most settling in Queens or Brooklyn. Albanian Americans are most highly concentrated in the Bronx.                                                                                                            \n",
              "46020  English is the official language in the state of Montana, as it is in many U.S. states. English is also the language of the majority. According to the 2000 U.S. Census, 94.8 percent of the population aged 5 and older speak English at home. Spanish is the language most commonly spoken at home other than English. There were about 13,040 Spanish-language speakers in the state (1.4 percent of the population) in 2011. There were also 15,438 (1.7 percent of the state population) speakers of Indo-European languages other than English or Spanish, 10,154 (1.1 percent) speakers of a Native American language, and 4,052 (0.4 percent) speakers of an Asian or Pacific Islander language. Other languages spoken in Montana (as of 2013) include Assiniboine (about 150 speakers in the Montana and Canada), Blackfoot (about 100 speakers), Cheyenne (about 1,700 speakers), Plains Cree (about 100 speakers), Crow (about 3,000 speakers), Dakota (about 18,800 speakers in Minnesota, Montana, Nebraska, North Dakota, and South Dakota), German Hutterite (about 5,600 speakers), Gros Ventre (about 10 speakers), Kalispel-Pend d'Oreille (about 64 speakers), Kutenai (about 6 speakers), and Lakota (about 6,000 speakers in Minnesota, Montana, Nebraska, North Dakota, South Dakota). The United States Department of Education estimated in 2009 that 5,274 students in Montana spoke a language at home other than English. These included a Native American language (64 percent), German (4 percent), Spanish (3 percent), Russian (1 percent), and Chinese (less than 0.5 percent).   \n",
              "55688  English is the official language in the state of Montana, as it is in many U.S. states. English is also the language of the majority. According to the 2000 U.S. Census, 94.8 percent of the population aged 5 and older speak English at home. Spanish is the language most commonly spoken at home other than English. There were about 13,040 Spanish-language speakers in the state (1.4 percent of the population) in 2011. There were also 15,438 (1.7 percent of the state population) speakers of Indo-European languages other than English or Spanish, 10,154 (1.1 percent) speakers of a Native American language, and 4,052 (0.4 percent) speakers of an Asian or Pacific Islander language. Other languages spoken in Montana (as of 2013) include Assiniboine (about 150 speakers in the Montana and Canada), Blackfoot (about 100 speakers), Cheyenne (about 1,700 speakers), Plains Cree (about 100 speakers), Crow (about 3,000 speakers), Dakota (about 18,800 speakers in Minnesota, Montana, Nebraska, North Dakota, and South Dakota), German Hutterite (about 5,600 speakers), Gros Ventre (about 10 speakers), Kalispel-Pend d'Oreille (about 64 speakers), Kutenai (about 6 speakers), and Lakota (about 6,000 speakers in Minnesota, Montana, Nebraska, North Dakota, South Dakota). The United States Department of Education estimated in 2009 that 5,274 students in Montana spoke a language at home other than English. These included a Native American language (64 percent), German (4 percent), Spanish (3 percent), Russian (1 percent), and Chinese (less than 0.5 percent).   \n",
              "57410  English is the official language in the state of Montana, as it is in many U.S. states. English is also the language of the majority. According to the 2000 U.S. Census, 94.8 percent of the population aged 5 and older speak English at home. Spanish is the language most commonly spoken at home other than English. There were about 13,040 Spanish-language speakers in the state (1.4 percent of the population) in 2011. There were also 15,438 (1.7 percent of the state population) speakers of Indo-European languages other than English or Spanish, 10,154 (1.1 percent) speakers of a Native American language, and 4,052 (0.4 percent) speakers of an Asian or Pacific Islander language. Other languages spoken in Montana (as of 2013) include Assiniboine (about 150 speakers in the Montana and Canada), Blackfoot (about 100 speakers), Cheyenne (about 1,700 speakers), Plains Cree (about 100 speakers), Crow (about 3,000 speakers), Dakota (about 18,800 speakers in Minnesota, Montana, Nebraska, North Dakota, and South Dakota), German Hutterite (about 5,600 speakers), Gros Ventre (about 10 speakers), Kalispel-Pend d'Oreille (about 64 speakers), Kutenai (about 6 speakers), and Lakota (about 6,000 speakers in Minnesota, Montana, Nebraska, North Dakota, South Dakota). The United States Department of Education estimated in 2009 that 5,274 students in Montana spoke a language at home other than English. These included a Native American language (64 percent), German (4 percent), Spanish (3 percent), Russian (1 percent), and Chinese (less than 0.5 percent).   \n",
              "\n",
              "                                                                                                                                                                                                                                                                                                                                                                                                                                                                                                                                                                                                                                                                                                                                                                                                                                                                                                                                                                                                                                                                                                                                                                                                                                                                                                                                              doc_repr  \n",
              "17611  [-0.046753623, 0.0009021554, -0.03459303, -0.00054097624, 0.054820146, -0.018480249, -0.070262745, 0.103020005, -0.06682473, 1.8961647, -0.22133306, 0.015223763, 0.023459136, -0.11930235, 0.03822785, -0.022885589, -0.0048888475, 0.7277284, -0.023508003, -0.13509381, -0.038719974, -0.09215187, -0.04331398, 0.07354124, 0.123856716, -0.09322577, -0.08220322, 0.058962528, -0.0043003503, 0.07755996, 0.05623469, 0.16421552, 0.08002025, -0.17508332, 0.050949216, -0.054607116, -0.13390258, -0.11422177, 0.013324873, 0.12792009, 0.0128757935, 0.14791517, 0.01787927, 0.079362504, 0.15925807, 0.0076399087, 0.05391194, 0.09852011, 0.09097947, -0.011866041, -0.14483368, -0.016868543, -0.1420437, -0.10710521, 0.0057898033, 0.11394755, 0.04702847, 0.015198623, -0.06915523, -0.16047724, 0.13013712, 0.01372245, -0.25941527, 0.2812043, -0.21215326, 0.024158627, 0.05687065, 0.11124308, 0.045040324, 0.12381276, 0.08082479, 0.14757611, 0.14197887, -0.0106988065, 0.17457654, -0.03978336, -0.13969958, 0.0551747, 0.0893772, 0.096541144, 0.10122547, 0.05931154, -0.0074639786, -0.13633066, 0.06064065, -0.12779614, -0.5379964, 0.006247295, -0.043765534, -0.0055689714, -0.09952439, -0.08319427, -0.012755612, -0.052353967, 0.073877856, -0.12901714, -0.10810998, 0.15624039, 0.026111322, -0.016195314, ...]  \n",
              "45192  [-0.046753623, 0.0009021554, -0.03459303, -0.00054097624, 0.054820146, -0.018480249, -0.070262745, 0.103020005, -0.06682473, 1.8961647, -0.22133306, 0.015223763, 0.023459136, -0.11930235, 0.03822785, -0.022885589, -0.0048888475, 0.7277284, -0.023508003, -0.13509381, -0.038719974, -0.09215187, -0.04331398, 0.07354124, 0.123856716, -0.09322577, -0.08220322, 0.058962528, -0.0043003503, 0.07755996, 0.05623469, 0.16421552, 0.08002025, -0.17508332, 0.050949216, -0.054607116, -0.13390258, -0.11422177, 0.013324873, 0.12792009, 0.0128757935, 0.14791517, 0.01787927, 0.079362504, 0.15925807, 0.0076399087, 0.05391194, 0.09852011, 0.09097947, -0.011866041, -0.14483368, -0.016868543, -0.1420437, -0.10710521, 0.0057898033, 0.11394755, 0.04702847, 0.015198623, -0.06915523, -0.16047724, 0.13013712, 0.01372245, -0.25941527, 0.2812043, -0.21215326, 0.024158627, 0.05687065, 0.11124308, 0.045040324, 0.12381276, 0.08082479, 0.14757611, 0.14197887, -0.0106988065, 0.17457654, -0.03978336, -0.13969958, 0.0551747, 0.0893772, 0.096541144, 0.10122547, 0.05931154, -0.0074639786, -0.13633066, 0.06064065, -0.12779614, -0.5379964, 0.006247295, -0.043765534, -0.0055689714, -0.09952439, -0.08319427, -0.012755612, -0.052353967, 0.073877856, -0.12901714, -0.10810998, 0.15624039, 0.026111322, -0.016195314, ...]  \n",
              "1490   [0.0059459475, -0.024230087, -0.0236974, -0.027654331, 0.088908404, -0.08185559, -0.057446197, 0.14132003, -0.011702029, 1.8890789, -0.22007647, 0.085759975, 0.027809, -0.112625554, 0.057688225, -0.0016199131, -0.0057336926, 0.72181284, -0.051865768, -0.15806226, -0.039672934, -0.06598448, -0.0015298816, 0.07487336, 0.028076421, -0.17867975, -0.077746674, 0.03807373, 0.06470073, 0.048270408, 0.097415976, 0.17333661, 0.032077253, -0.12950702, 0.13772832, -0.0556987, -0.1429763, -0.060391564, 0.07772454, 0.15917744, 0.048809156, 0.20580238, 0.0054908353, 0.029153228, 0.1331797, -0.020741127, 0.033112347, 0.035499357, 0.14131804, 0.049315996, -0.2154065, 0.039735377, -0.17840898, -0.20240287, 0.02996427, 0.09300997, 0.042551402, -0.01132431, -0.10021721, -0.074013576, 0.11006038, -0.059889372, -0.20602211, 0.11575688, -0.17448658, -0.0041747484, 0.025578393, 0.08983505, 0.014418679, 0.112753965, 0.013560408, 0.08221759, 0.11740138, -0.013842646, 0.09006788, -0.07624841, -0.03709764, 0.029758295, 0.09112889, 0.10299335, 0.06386409, 0.081051946, 0.043510042, -0.074174635, 0.12623689, -0.12203425, -0.47939616, 0.04521432, 0.0072543398, 0.03566299, -0.17265573, -0.0663778, 0.022427373, 0.04405359, 0.024968244, -0.09703631, -0.112056285, 0.054897614, 0.042865958, -0.04938353, ...]    \n",
              "6508   [0.0059459475, -0.024230087, -0.0236974, -0.027654331, 0.088908404, -0.08185559, -0.057446197, 0.14132003, -0.011702029, 1.8890789, -0.22007647, 0.085759975, 0.027809, -0.112625554, 0.057688225, -0.0016199131, -0.0057336926, 0.72181284, -0.051865768, -0.15806226, -0.039672934, -0.06598448, -0.0015298816, 0.07487336, 0.028076421, -0.17867975, -0.077746674, 0.03807373, 0.06470073, 0.048270408, 0.097415976, 0.17333661, 0.032077253, -0.12950702, 0.13772832, -0.0556987, -0.1429763, -0.060391564, 0.07772454, 0.15917744, 0.048809156, 0.20580238, 0.0054908353, 0.029153228, 0.1331797, -0.020741127, 0.033112347, 0.035499357, 0.14131804, 0.049315996, -0.2154065, 0.039735377, -0.17840898, -0.20240287, 0.02996427, 0.09300997, 0.042551402, -0.01132431, -0.10021721, -0.074013576, 0.11006038, -0.059889372, -0.20602211, 0.11575688, -0.17448658, -0.0041747484, 0.025578393, 0.08983505, 0.014418679, 0.112753965, 0.013560408, 0.08221759, 0.11740138, -0.013842646, 0.09006788, -0.07624841, -0.03709764, 0.029758295, 0.09112889, 0.10299335, 0.06386409, 0.081051946, 0.043510042, -0.074174635, 0.12623689, -0.12203425, -0.47939616, 0.04521432, 0.0072543398, 0.03566299, -0.17265573, -0.0663778, 0.022427373, 0.04405359, 0.024968244, -0.09703631, -0.112056285, 0.054897614, 0.042865958, -0.04938353, ...]    \n",
              "22800  [0.0059459475, -0.024230087, -0.0236974, -0.027654331, 0.088908404, -0.08185559, -0.057446197, 0.14132003, -0.011702029, 1.8890789, -0.22007647, 0.085759975, 0.027809, -0.112625554, 0.057688225, -0.0016199131, -0.0057336926, 0.72181284, -0.051865768, -0.15806226, -0.039672934, -0.06598448, -0.0015298816, 0.07487336, 0.028076421, -0.17867975, -0.077746674, 0.03807373, 0.06470073, 0.048270408, 0.097415976, 0.17333661, 0.032077253, -0.12950702, 0.13772832, -0.0556987, -0.1429763, -0.060391564, 0.07772454, 0.15917744, 0.048809156, 0.20580238, 0.0054908353, 0.029153228, 0.1331797, -0.020741127, 0.033112347, 0.035499357, 0.14131804, 0.049315996, -0.2154065, 0.039735377, -0.17840898, -0.20240287, 0.02996427, 0.09300997, 0.042551402, -0.01132431, -0.10021721, -0.074013576, 0.11006038, -0.059889372, -0.20602211, 0.11575688, -0.17448658, -0.0041747484, 0.025578393, 0.08983505, 0.014418679, 0.112753965, 0.013560408, 0.08221759, 0.11740138, -0.013842646, 0.09006788, -0.07624841, -0.03709764, 0.029758295, 0.09112889, 0.10299335, 0.06386409, 0.081051946, 0.043510042, -0.074174635, 0.12623689, -0.12203425, -0.47939616, 0.04521432, 0.0072543398, 0.03566299, -0.17265573, -0.0663778, 0.022427373, 0.04405359, 0.024968244, -0.09703631, -0.112056285, 0.054897614, 0.042865958, -0.04938353, ...]    \n",
              "25703  [0.0059459475, -0.024230087, -0.0236974, -0.027654331, 0.088908404, -0.08185559, -0.057446197, 0.14132003, -0.011702029, 1.8890789, -0.22007647, 0.085759975, 0.027809, -0.112625554, 0.057688225, -0.0016199131, -0.0057336926, 0.72181284, -0.051865768, -0.15806226, -0.039672934, -0.06598448, -0.0015298816, 0.07487336, 0.028076421, -0.17867975, -0.077746674, 0.03807373, 0.06470073, 0.048270408, 0.097415976, 0.17333661, 0.032077253, -0.12950702, 0.13772832, -0.0556987, -0.1429763, -0.060391564, 0.07772454, 0.15917744, 0.048809156, 0.20580238, 0.0054908353, 0.029153228, 0.1331797, -0.020741127, 0.033112347, 0.035499357, 0.14131804, 0.049315996, -0.2154065, 0.039735377, -0.17840898, -0.20240287, 0.02996427, 0.09300997, 0.042551402, -0.01132431, -0.10021721, -0.074013576, 0.11006038, -0.059889372, -0.20602211, 0.11575688, -0.17448658, -0.0041747484, 0.025578393, 0.08983505, 0.014418679, 0.112753965, 0.013560408, 0.08221759, 0.11740138, -0.013842646, 0.09006788, -0.07624841, -0.03709764, 0.029758295, 0.09112889, 0.10299335, 0.06386409, 0.081051946, 0.043510042, -0.074174635, 0.12623689, -0.12203425, -0.47939616, 0.04521432, 0.0072543398, 0.03566299, -0.17265573, -0.0663778, 0.022427373, 0.04405359, 0.024968244, -0.09703631, -0.112056285, 0.054897614, 0.042865958, -0.04938353, ...]    \n",
              "49380  [0.0059459475, -0.024230087, -0.0236974, -0.027654331, 0.088908404, -0.08185559, -0.057446197, 0.14132003, -0.011702029, 1.8890789, -0.22007647, 0.085759975, 0.027809, -0.112625554, 0.057688225, -0.0016199131, -0.0057336926, 0.72181284, -0.051865768, -0.15806226, -0.039672934, -0.06598448, -0.0015298816, 0.07487336, 0.028076421, -0.17867975, -0.077746674, 0.03807373, 0.06470073, 0.048270408, 0.097415976, 0.17333661, 0.032077253, -0.12950702, 0.13772832, -0.0556987, -0.1429763, -0.060391564, 0.07772454, 0.15917744, 0.048809156, 0.20580238, 0.0054908353, 0.029153228, 0.1331797, -0.020741127, 0.033112347, 0.035499357, 0.14131804, 0.049315996, -0.2154065, 0.039735377, -0.17840898, -0.20240287, 0.02996427, 0.09300997, 0.042551402, -0.01132431, -0.10021721, -0.074013576, 0.11006038, -0.059889372, -0.20602211, 0.11575688, -0.17448658, -0.0041747484, 0.025578393, 0.08983505, 0.014418679, 0.112753965, 0.013560408, 0.08221759, 0.11740138, -0.013842646, 0.09006788, -0.07624841, -0.03709764, 0.029758295, 0.09112889, 0.10299335, 0.06386409, 0.081051946, 0.043510042, -0.074174635, 0.12623689, -0.12203425, -0.47939616, 0.04521432, 0.0072543398, 0.03566299, -0.17265573, -0.0663778, 0.022427373, 0.04405359, 0.024968244, -0.09703631, -0.112056285, 0.054897614, 0.042865958, -0.04938353, ...]    \n",
              "46020  [-0.043899786, 0.046657804, -0.018435983, 0.00027517093, 0.11761673, -0.049097084, -0.026828118, 0.043179497, -0.044437002, 1.7853785, -0.107076995, 0.02510105, 0.031298313, -0.1692128, -0.008811898, -0.027604569, 0.038170047, 0.7620943, -0.09314727, -0.18951796, -0.15272354, -0.05327061, 0.011605505, 0.06519894, 0.060736276, -0.12486969, -0.09155489, 0.05811555, 0.018746031, 0.06463315, 0.040125523, 0.0769625, 0.06216802, -0.07772344, 0.08338715, -0.057581015, -0.06938908, -0.010090071, -0.0379612, 0.08818589, 0.03816488, 0.091017716, 0.060283165, -0.012339168, 0.14346704, 0.040724147, 0.032774117, -0.034447476, 0.15549871, -0.044325776, -0.22439902, 0.07272257, -0.11049128, -0.13731946, -0.013570102, 0.043533824, 0.004625799, 0.06795738, -0.1020274, -0.060102593, 0.10458097, 0.016337262, -0.18254924, 0.29498154, -0.12749563, 0.03109913, 0.034877494, 0.09377497, 0.021981942, 0.12543198, -0.02990705, -0.0015856515, 0.090757415, -0.015390351, 0.03617657, 0.019035405, -0.07148097, 0.12197652, -0.012680915, 0.17406173, 0.052157342, 0.087790936, 0.002715982, -0.06976301, 0.05433901, -0.1914274, -0.55441135, 0.035096344, 0.0783571, -0.0038121957, -0.112908445, -0.14185764, -0.04621668, 0.007740238, 0.10656451, -0.101696365, 0.00795071, 0.024551436, 0.09530894, -0.087068066, ...]   \n",
              "55688  [-0.043899786, 0.046657804, -0.018435983, 0.00027517093, 0.11761673, -0.049097084, -0.026828118, 0.043179497, -0.044437002, 1.7853785, -0.107076995, 0.02510105, 0.031298313, -0.1692128, -0.008811898, -0.027604569, 0.038170047, 0.7620943, -0.09314727, -0.18951796, -0.15272354, -0.05327061, 0.011605505, 0.06519894, 0.060736276, -0.12486969, -0.09155489, 0.05811555, 0.018746031, 0.06463315, 0.040125523, 0.0769625, 0.06216802, -0.07772344, 0.08338715, -0.057581015, -0.06938908, -0.010090071, -0.0379612, 0.08818589, 0.03816488, 0.091017716, 0.060283165, -0.012339168, 0.14346704, 0.040724147, 0.032774117, -0.034447476, 0.15549871, -0.044325776, -0.22439902, 0.07272257, -0.11049128, -0.13731946, -0.013570102, 0.043533824, 0.004625799, 0.06795738, -0.1020274, -0.060102593, 0.10458097, 0.016337262, -0.18254924, 0.29498154, -0.12749563, 0.03109913, 0.034877494, 0.09377497, 0.021981942, 0.12543198, -0.02990705, -0.0015856515, 0.090757415, -0.015390351, 0.03617657, 0.019035405, -0.07148097, 0.12197652, -0.012680915, 0.17406173, 0.052157342, 0.087790936, 0.002715982, -0.06976301, 0.05433901, -0.1914274, -0.55441135, 0.035096344, 0.0783571, -0.0038121957, -0.112908445, -0.14185764, -0.04621668, 0.007740238, 0.10656451, -0.101696365, 0.00795071, 0.024551436, 0.09530894, -0.087068066, ...]   \n",
              "57410  [-0.043899786, 0.046657804, -0.018435983, 0.00027517093, 0.11761673, -0.049097084, -0.026828118, 0.043179497, -0.044437002, 1.7853785, -0.107076995, 0.02510105, 0.031298313, -0.1692128, -0.008811898, -0.027604569, 0.038170047, 0.7620943, -0.09314727, -0.18951796, -0.15272354, -0.05327061, 0.011605505, 0.06519894, 0.060736276, -0.12486969, -0.09155489, 0.05811555, 0.018746031, 0.06463315, 0.040125523, 0.0769625, 0.06216802, -0.07772344, 0.08338715, -0.057581015, -0.06938908, -0.010090071, -0.0379612, 0.08818589, 0.03816488, 0.091017716, 0.060283165, -0.012339168, 0.14346704, 0.040724147, 0.032774117, -0.034447476, 0.15549871, -0.044325776, -0.22439902, 0.07272257, -0.11049128, -0.13731946, -0.013570102, 0.043533824, 0.004625799, 0.06795738, -0.1020274, -0.060102593, 0.10458097, 0.016337262, -0.18254924, 0.29498154, -0.12749563, 0.03109913, 0.034877494, 0.09377497, 0.021981942, 0.12543198, -0.02990705, -0.0015856515, 0.090757415, -0.015390351, 0.03617657, 0.019035405, -0.07148097, 0.12197652, -0.012680915, 0.17406173, 0.052157342, 0.087790936, 0.002715982, -0.06976301, 0.05433901, -0.1914274, -0.55441135, 0.035096344, 0.0783571, -0.0038121957, -0.112908445, -0.14185764, -0.04621668, 0.007740238, 0.10656451, -0.101696365, 0.00795071, 0.024551436, 0.09530894, -0.087068066, ...]   "
            ]
          },
          "metadata": {
            "tags": []
          },
          "execution_count": 66
        }
      ]
    },
    {
      "cell_type": "code",
      "metadata": {
        "id": "vwhTLXRvrpkv",
        "colab_type": "code",
        "colab": {}
      },
      "source": [
        ""
      ],
      "execution_count": 0,
      "outputs": []
    },
    {
      "cell_type": "markdown",
      "metadata": {
        "id": "roJFuch3rrSW",
        "colab_type": "text"
      },
      "source": [
        "###searching document on basis of Query\n"
      ]
    },
    {
      "cell_type": "markdown",
      "metadata": {
        "id": "p9MMWyGx1XSy",
        "colab_type": "text"
      },
      "source": [
        "Giving Directly word embeding of query"
      ]
    },
    {
      "cell_type": "code",
      "metadata": {
        "id": "kDIN6qzGRSxg",
        "colab_type": "code",
        "colab": {}
      },
      "source": [
        "query=test_emb['emb'][0]\n"
      ],
      "execution_count": 0,
      "outputs": []
    },
    {
      "cell_type": "code",
      "metadata": {
        "id": "0r3MHJJj6-Sq",
        "colab_type": "code",
        "colab": {
          "base_uri": "https://localhost:8080/",
          "height": 1000
        },
        "outputId": "5e768148-7c1c-48e0-b1dd-d0b2acec3e6d"
      },
      "source": [
        "query"
      ],
      "execution_count": 119,
      "outputs": [
        {
          "output_type": "execute_result",
          "data": {
            "text/plain": [
              "array([-1.38448924e-01,  1.26048848e-01, -1.67766362e-01, -6.97202310e-02,\n",
              "       -2.41815764e-02, -8.00605342e-02,  8.19962844e-02, -1.45798683e-01,\n",
              "        1.12354025e-01,  1.99725616e+00, -1.70439795e-01,  3.79921608e-02,\n",
              "        1.63352698e-01, -8.52385419e-04, -1.05603293e-01, -1.36074692e-01,\n",
              "        2.91863009e-02,  8.08435440e-01, -2.63251811e-01, -1.55887842e-01,\n",
              "        9.76852477e-02, -2.14096919e-01, -8.62062350e-02, -7.18820617e-02,\n",
              "       -2.13410761e-02,  2.48839766e-01,  3.55032347e-02, -7.25598931e-02,\n",
              "        1.65913831e-02,  1.92661490e-02,  1.93346106e-02,  1.51151374e-01,\n",
              "       -8.80109966e-02,  1.36305854e-01, -7.09730014e-02,  5.01765423e-02,\n",
              "       -2.25990996e-01,  5.72696254e-02, -1.27653867e-01, -8.80419314e-02,\n",
              "        9.29186866e-02,  1.99402243e-01, -4.92241755e-02, -1.21670768e-01,\n",
              "        1.18700139e-01,  1.45065421e-02, -3.19381207e-01,  3.09263587e-01,\n",
              "       -1.04355924e-01, -4.77207638e-02, -1.08648211e-01, -4.43741456e-02,\n",
              "        9.22659934e-02, -3.15261586e-03, -1.41374201e-01, -7.66567662e-02,\n",
              "       -3.42257768e-02, -6.43187687e-02, -1.58394337e-01, -1.99533105e-02,\n",
              "        1.68253317e-01,  1.08449921e-01,  9.63740889e-03,  2.13935077e-01,\n",
              "        9.05904621e-02,  4.51206155e-02,  1.52823985e-01,  6.17031492e-02,\n",
              "        7.08913133e-02,  6.76208809e-02,  1.84529766e-01,  4.33227755e-02,\n",
              "        1.49849996e-01, -6.36263192e-02,  2.07506925e-01,  3.14424634e-02,\n",
              "        3.40993032e-02,  1.14770703e-01,  8.11729431e-02,  3.48202676e-01,\n",
              "        4.90122624e-02,  4.96364571e-02,  9.03235003e-03,  5.15848026e-02,\n",
              "        1.48280919e-01, -1.04514226e-01, -4.45111573e-01, -2.95106210e-02,\n",
              "        1.04768485e-01, -1.09262079e-01, -1.23971611e-01,  4.30306122e-02,\n",
              "       -2.40191206e-01, -4.81765345e-02,  1.00037389e-01, -7.27244690e-02,\n",
              "       -1.08034629e-02, -5.88608459e-02, -8.64913836e-02,  8.58849362e-02,\n",
              "        2.48807669e-02,  3.17580737e-02, -1.14756785e-01, -9.14088413e-02,\n",
              "        1.55297771e-01, -8.17737132e-02,  1.23616252e-02,  5.96667528e-02,\n",
              "        6.33054879e-03, -1.09906986e-01,  1.54388398e-01, -2.56039172e-01,\n",
              "        5.64416088e-02,  8.66231229e-03,  3.18825208e-02, -1.41339200e-02,\n",
              "       -1.57315314e-01,  2.69121230e-01, -5.14880009e-02,  8.35032985e-02,\n",
              "        1.41659886e-01, -4.35899273e-02, -1.35546119e-03, -7.12277219e-02,\n",
              "        1.66159961e-02,  1.42462224e-01, -8.46365392e-02,  2.66350731e-02,\n",
              "       -1.32918572e-02,  1.45342618e-01,  6.92552179e-02, -7.38506392e-02,\n",
              "       -9.41985324e-02,  2.64488743e-04,  5.91814751e-03,  1.89251713e-02,\n",
              "       -5.22994623e-02,  1.23394623e-01,  1.02413639e-01,  3.45613412e-03,\n",
              "       -1.41138721e+00, -3.04962113e-03,  5.11684604e-02, -4.11823057e-02,\n",
              "       -1.10270157e-01, -1.15269385e-01, -1.29633084e-01,  1.38161209e-04,\n",
              "       -1.11758918e-01, -2.42478419e-02,  1.23177931e-01,  8.20618421e-02,\n",
              "        1.04389772e-01,  5.93335554e-02, -1.96793806e-02, -9.37459320e-02,\n",
              "       -7.39900023e-02,  8.83825347e-02, -1.65211242e-02, -1.55027524e-01,\n",
              "       -1.63484626e-02,  1.31167471e-01, -2.34510601e-02, -1.55485153e-01,\n",
              "       -1.77565917e-01, -6.79773986e-02,  1.21295452e-01,  5.91969956e-03,\n",
              "        1.19626798e-01, -8.97943899e-02, -1.88191552e-02, -3.94578427e-02,\n",
              "        2.17948169e-01, -2.63221171e-02, -1.56071484e-01,  8.45198110e-02,\n",
              "        1.34140411e-02,  2.04723850e-02,  5.94082251e-02, -6.26414642e-02,\n",
              "       -5.59124388e-02,  2.47527733e-02, -3.95752415e-02,  4.49487241e-03,\n",
              "       -8.78040642e-02, -8.20593014e-02, -1.42501801e-01,  6.72014430e-02,\n",
              "       -4.42873836e-02,  1.34461612e-01, -3.66887674e-02,  3.31346914e-02,\n",
              "       -7.33499229e-02,  5.64952083e-02,  5.56800701e-03,  7.09340870e-02,\n",
              "       -1.44064531e-01, -7.62312347e-03,  1.78878531e-02,  1.53225929e-01,\n",
              "        1.78445920e-01, -8.71313065e-02, -8.48209113e-02,  6.21514581e-02,\n",
              "        4.23119441e-02, -3.83410528e-02,  1.61314592e-01,  8.77100751e-02,\n",
              "        4.21688035e-02,  1.06759921e-01,  7.24384282e-03,  2.57189237e-02,\n",
              "       -7.61994496e-02, -2.61480153e-01, -5.83938183e-03,  1.79188088e-01,\n",
              "        3.96048389e-02,  4.79048491e-02, -1.39626473e-01,  2.12027896e-02,\n",
              "       -2.85335463e-02, -7.38506168e-02, -2.45183066e-01,  3.67667004e-02,\n",
              "       -1.41814157e-01,  6.69883117e-02,  8.57649297e-02,  1.01114497e-01,\n",
              "        4.42055389e-02,  1.04531579e-01, -1.67664945e-01,  9.25240666e-02,\n",
              "        6.95325434e-02,  5.82677722e-02, -7.38390759e-02, -8.61563012e-02,\n",
              "        1.32411078e-01, -4.76797782e-02, -7.08722174e-02,  7.64670819e-02,\n",
              "       -3.06758508e-02,  1.60106942e-02,  3.46286893e-02,  2.30214018e-02,\n",
              "        1.11516386e-01, -1.97563156e-01,  2.11169291e-03, -1.31996321e-02,\n",
              "       -1.97799101e-01,  1.06587879e-01,  1.00988932e-01, -6.17065392e-02,\n",
              "        4.39966843e-02, -1.13682918e-01,  4.04958390e-02,  2.21251458e-01,\n",
              "        9.65166166e-02, -5.02640083e-02,  2.74605453e-02, -6.18936457e-02,\n",
              "        6.44429997e-02,  2.87015620e-03, -1.15228310e-01,  5.60767651e-02,\n",
              "        1.86500624e-01, -8.90065357e-02,  1.18968688e-01,  1.15266018e-01,\n",
              "        3.52373153e-01, -4.56925295e-02, -1.02485009e-01, -2.28010435e-02,\n",
              "       -5.23136035e-02, -1.94163531e-01, -1.24536000e-01,  6.17348477e-02,\n",
              "       -4.33185026e-02,  9.81338546e-02, -2.49429159e-02,  1.16315611e-01,\n",
              "        7.38906935e-02,  1.14218630e-01,  4.64833155e-02, -2.16109231e-02,\n",
              "        6.51153224e-03,  4.06428017e-02,  3.75000271e-03, -1.01769991e-01,\n",
              "        9.70943868e-02, -1.22597530e-01, -3.67511570e-01,  1.41158774e-01,\n",
              "       -8.19712952e-02, -2.96030892e-03,  2.03554228e-01, -2.70373132e-02,\n",
              "       -1.64292797e-01, -1.16879538e-01,  1.36443913e-01,  1.24862753e-01],\n",
              "      dtype=float32)"
            ]
          },
          "metadata": {
            "tags": []
          },
          "execution_count": 119
        }
      ]
    },
    {
      "cell_type": "markdown",
      "metadata": {
        "id": "ofyjmcKu1hSL",
        "colab_type": "text"
      },
      "source": [
        "Take text as input"
      ]
    },
    {
      "cell_type": "code",
      "metadata": {
        "id": "a159ugd51pcs",
        "colab_type": "code",
        "colab": {}
      },
      "source": [
        "#query=['What is the date that Cyrpus attained independence?']"
      ],
      "execution_count": 0,
      "outputs": []
    },
    {
      "cell_type": "code",
      "metadata": {
        "id": "MgOURe_54rWK",
        "colab_type": "code",
        "colab": {
          "base_uri": "https://localhost:8080/",
          "height": 34
        },
        "outputId": "73f3708b-0d3a-4350-85c5-0a81ecc631cf"
      },
      "source": [
        "ques=input()"
      ],
      "execution_count": 87,
      "outputs": [
        {
          "output_type": "stream",
          "text": [
            "What is the date that Cyrpus attained independence?\n"
          ],
          "name": "stdout"
        }
      ]
    },
    {
      "cell_type": "code",
      "metadata": {
        "id": "_7yKCaZD4yCn",
        "colab_type": "code",
        "colab": {
          "base_uri": "https://localhost:8080/",
          "height": 34
        },
        "outputId": "c9dc898a-04e2-437e-ec24-8c6d1a9f4497"
      },
      "source": [
        "ques"
      ],
      "execution_count": 88,
      "outputs": [
        {
          "output_type": "execute_result",
          "data": {
            "text/plain": [
              "'What is the date that Cyrpus attained independence?'"
            ]
          },
          "metadata": {
            "tags": []
          },
          "execution_count": 88
        }
      ]
    },
    {
      "cell_type": "code",
      "metadata": {
        "id": "eVMoLj8-49vH",
        "colab_type": "code",
        "colab": {}
      },
      "source": [
        "query_question=[ques]"
      ],
      "execution_count": 0,
      "outputs": []
    },
    {
      "cell_type": "code",
      "metadata": {
        "id": "_2X8sSyH5Ggw",
        "colab_type": "code",
        "colab": {
          "base_uri": "https://localhost:8080/",
          "height": 34
        },
        "outputId": "7122fb8a-efc9-43d5-c21a-63e08fd88438"
      },
      "source": [
        "query_question"
      ],
      "execution_count": 96,
      "outputs": [
        {
          "output_type": "execute_result",
          "data": {
            "text/plain": [
              "['What is the date that Cyrpus attained independence?']"
            ]
          },
          "metadata": {
            "tags": []
          },
          "execution_count": 96
        }
      ]
    },
    {
      "cell_type": "code",
      "metadata": {
        "id": "aU7vEOU71lXP",
        "colab_type": "code",
        "colab": {}
      },
      "source": [
        "df = pd.DataFrame(query_question, columns = ['question']) \n"
      ],
      "execution_count": 0,
      "outputs": []
    },
    {
      "cell_type": "code",
      "metadata": {
        "id": "3C42oi0n4GbM",
        "colab_type": "code",
        "colab": {
          "base_uri": "https://localhost:8080/",
          "height": 80
        },
        "outputId": "78580a50-d398-44d5-c5b8-98bec44f4381"
      },
      "source": [
        "df"
      ],
      "execution_count": 98,
      "outputs": [
        {
          "output_type": "execute_result",
          "data": {
            "text/html": [
              "<div>\n",
              "<style scoped>\n",
              "    .dataframe tbody tr th:only-of-type {\n",
              "        vertical-align: middle;\n",
              "    }\n",
              "\n",
              "    .dataframe tbody tr th {\n",
              "        vertical-align: top;\n",
              "    }\n",
              "\n",
              "    .dataframe thead th {\n",
              "        text-align: right;\n",
              "    }\n",
              "</style>\n",
              "<table border=\"1\" class=\"dataframe\">\n",
              "  <thead>\n",
              "    <tr style=\"text-align: right;\">\n",
              "      <th></th>\n",
              "      <th>question</th>\n",
              "    </tr>\n",
              "  </thead>\n",
              "  <tbody>\n",
              "    <tr>\n",
              "      <th>0</th>\n",
              "      <td>What is the date that Cyrpus attained independence?</td>\n",
              "    </tr>\n",
              "  </tbody>\n",
              "</table>\n",
              "</div>"
            ],
            "text/plain": [
              "                                              question\n",
              "0  What is the date that Cyrpus attained independence?"
            ]
          },
          "metadata": {
            "tags": []
          },
          "execution_count": 98
        }
      ]
    },
    {
      "cell_type": "code",
      "metadata": {
        "id": "jqB9gS6j4IQk",
        "colab_type": "code",
        "colab": {}
      },
      "source": [
        "query_df=get_glove_embeddings_test(df)"
      ],
      "execution_count": 0,
      "outputs": []
    },
    {
      "cell_type": "code",
      "metadata": {
        "id": "iG34NSn76rBQ",
        "colab_type": "code",
        "colab": {
          "base_uri": "https://localhost:8080/",
          "height": 233
        },
        "outputId": "1e10878f-6c44-4c98-dfb4-ca5cdd13b634"
      },
      "source": [
        "query_df"
      ],
      "execution_count": 126,
      "outputs": [
        {
          "output_type": "execute_result",
          "data": {
            "text/html": [
              "<div>\n",
              "<style scoped>\n",
              "    .dataframe tbody tr th:only-of-type {\n",
              "        vertical-align: middle;\n",
              "    }\n",
              "\n",
              "    .dataframe tbody tr th {\n",
              "        vertical-align: top;\n",
              "    }\n",
              "\n",
              "    .dataframe thead th {\n",
              "        text-align: right;\n",
              "    }\n",
              "</style>\n",
              "<table border=\"1\" class=\"dataframe\">\n",
              "  <thead>\n",
              "    <tr style=\"text-align: right;\">\n",
              "      <th></th>\n",
              "      <th>question</th>\n",
              "      <th>emb</th>\n",
              "    </tr>\n",
              "  </thead>\n",
              "  <tbody>\n",
              "    <tr>\n",
              "      <th>0</th>\n",
              "      <td>What is the date that Cyrpus attained independence?</td>\n",
              "      <td>[0.15812215, 0.12201713, -0.12852696, -0.10256786, -0.06612493, -0.047272976, -0.05064068, -0.053378705, 0.07506471, 1.8265787, -0.12125795, 0.06593486, 0.03944728, 0.029755142, 0.030007286, -0.13163628, 0.017168859, 0.7449629, -0.019588431, 0.037432294, -0.0347516, -0.16790669, -0.05232243, 0.058641758, -0.099156, -0.017717153, 0.029955281, -0.042981427, -0.27946702, 0.103036284, 0.014840471, 0.08429528, 0.082733974, 0.12671028, 0.069071, 0.116886094, -0.055451572, 0.095991194, -0.03468113, 0.019183276, 0.07399943, 0.13624671, -0.02559014, -0.04277355, 0.09444857, 0.047439713, -0.17555428, -0.07399373, -0.09500928, 0.094579, 0.028075, 0.03624285, -0.09902172, -0.11964486, 0.127359, 0.003420569, 0.17583643, -0.1561373, 0.07287758, -0.16797957, 0.094128035, -0.22965503, 0.04637829, 0.11108285, -0.02612214, 0.07261586, -0.149925, 0.03371986, 0.004611718, -0.07381714, -0.044331543, -0.10875871, 0.061574288, -0.051586572, 0.009338719, 0.061245285, -0.10258114, -0.014926859, -0.15788329, 0.178589, 0.15038785, 0.1687427, -0.141982, 0.18706407, 0.165305, -0.19335784, -0.13641156, -0.17240915, 0.16975673, 0.054332, -0.10444243, 0.088072464, -0.108672276, 0.21072385, 0.186408, 0.08885572, -0.02002974, -0.18862985, 0.14092001, 0.1737837, ...]</td>\n",
              "    </tr>\n",
              "  </tbody>\n",
              "</table>\n",
              "</div>"
            ],
            "text/plain": [
              "                                              question  \\\n",
              "0  What is the date that Cyrpus attained independence?   \n",
              "\n",
              "                                                                                                                                                                                                                                                                                                                                                                                                                                                                                                                                                                                                                                                                                                                                                                                                                                                                                                                                                                                                                                                                                                                                                                                                                                                                                                    emb  \n",
              "0  [0.15812215, 0.12201713, -0.12852696, -0.10256786, -0.06612493, -0.047272976, -0.05064068, -0.053378705, 0.07506471, 1.8265787, -0.12125795, 0.06593486, 0.03944728, 0.029755142, 0.030007286, -0.13163628, 0.017168859, 0.7449629, -0.019588431, 0.037432294, -0.0347516, -0.16790669, -0.05232243, 0.058641758, -0.099156, -0.017717153, 0.029955281, -0.042981427, -0.27946702, 0.103036284, 0.014840471, 0.08429528, 0.082733974, 0.12671028, 0.069071, 0.116886094, -0.055451572, 0.095991194, -0.03468113, 0.019183276, 0.07399943, 0.13624671, -0.02559014, -0.04277355, 0.09444857, 0.047439713, -0.17555428, -0.07399373, -0.09500928, 0.094579, 0.028075, 0.03624285, -0.09902172, -0.11964486, 0.127359, 0.003420569, 0.17583643, -0.1561373, 0.07287758, -0.16797957, 0.094128035, -0.22965503, 0.04637829, 0.11108285, -0.02612214, 0.07261586, -0.149925, 0.03371986, 0.004611718, -0.07381714, -0.044331543, -0.10875871, 0.061574288, -0.051586572, 0.009338719, 0.061245285, -0.10258114, -0.014926859, -0.15788329, 0.178589, 0.15038785, 0.1687427, -0.141982, 0.18706407, 0.165305, -0.19335784, -0.13641156, -0.17240915, 0.16975673, 0.054332, -0.10444243, 0.088072464, -0.108672276, 0.21072385, 0.186408, 0.08885572, -0.02002974, -0.18862985, 0.14092001, 0.1737837, ...]  "
            ]
          },
          "metadata": {
            "tags": []
          },
          "execution_count": 126
        }
      ]
    },
    {
      "cell_type": "code",
      "metadata": {
        "id": "zc4VJw5c4gCJ",
        "colab_type": "code",
        "colab": {}
      },
      "source": [
        "query_emb=query_df['emb'][0]"
      ],
      "execution_count": 0,
      "outputs": []
    },
    {
      "cell_type": "code",
      "metadata": {
        "id": "Y83DN8ox6uKm",
        "colab_type": "code",
        "colab": {
          "base_uri": "https://localhost:8080/",
          "height": 34
        },
        "outputId": "7f0bbc0d-8f42-4a96-b1fa-a4c3679d0e2d"
      },
      "source": [
        "query_emb.size"
      ],
      "execution_count": 128,
      "outputs": [
        {
          "output_type": "execute_result",
          "data": {
            "text/plain": [
              "300"
            ]
          },
          "metadata": {
            "tags": []
          },
          "execution_count": 128
        }
      ]
    },
    {
      "cell_type": "code",
      "metadata": {
        "id": "MF4rfJayTksD",
        "colab_type": "code",
        "colab": {}
      },
      "source": [
        "def get_similar_docs_annoy(ques_emb):\n",
        "    start = time.time()\n",
        "    base_doc_id, base_vector  = doc_repr_df.iloc[ques_emb, [1, 3]]\n",
        "    similar_doc_ids,distances = t.get_nns_by_vector(ques_emb, n=5, search_k=1000, include_distances=True)#n is number of documents to be predicted\n",
        "\n",
        "    end = time.time()\n",
        "    print(f'{(end - start) * 1000} ms')\n",
        "    return base_doc_id, doc_repr_df.iloc[similar_doc_ids[1:]]"
      ],
      "execution_count": 0,
      "outputs": []
    },
    {
      "cell_type": "code",
      "metadata": {
        "id": "IjtRiNUyE2_4",
        "colab_type": "code",
        "colab": {
          "base_uri": "https://localhost:8080/",
          "height": 34
        },
        "outputId": "5f21792a-bddb-4a08-e7fd-227f095a6209"
      },
      "source": [
        "base_doc, similar_docs_df = get_similar_docs_annoy(query_emb)"
      ],
      "execution_count": 136,
      "outputs": [
        {
          "output_type": "stream",
          "text": [
            "2.044677734375 ms\n"
          ],
          "name": "stdout"
        }
      ]
    },
    {
      "cell_type": "code",
      "metadata": {
        "id": "6bLc4pAdaP9B",
        "colab_type": "code",
        "colab": {
          "base_uri": "https://localhost:8080/",
          "height": 1000
        },
        "outputId": "78937d3d-f442-4064-bf4c-c80da992cb2e"
      },
      "source": [
        "similar_docs_df"
      ],
      "execution_count": 137,
      "outputs": [
        {
          "output_type": "execute_result",
          "data": {
            "text/html": [
              "<div>\n",
              "<style scoped>\n",
              "    .dataframe tbody tr th:only-of-type {\n",
              "        vertical-align: middle;\n",
              "    }\n",
              "\n",
              "    .dataframe tbody tr th {\n",
              "        vertical-align: top;\n",
              "    }\n",
              "\n",
              "    .dataframe thead th {\n",
              "        text-align: right;\n",
              "    }\n",
              "</style>\n",
              "<table border=\"1\" class=\"dataframe\">\n",
              "  <thead>\n",
              "    <tr style=\"text-align: right;\">\n",
              "      <th></th>\n",
              "      <th>title</th>\n",
              "      <th>doc_id</th>\n",
              "      <th>document</th>\n",
              "      <th>doc_repr</th>\n",
              "    </tr>\n",
              "  </thead>\n",
              "  <tbody>\n",
              "    <tr>\n",
              "      <th>47662</th>\n",
              "      <td>Mary_(mother_of_Jesus)</td>\n",
              "      <td>429172ea1bfe11ea8f2b656571b1b549</td>\n",
              "      <td>The issue of the parentage of Jesus in the Talmud affects also the view of his mother. However the Talmud does not mention Mary by name and is considerate rather than only polemic. The story about Panthera is also found in the Toledot Yeshu, the literary origins of which can not be traced with any certainty and given that it is unlikely to go before the 4th century, it is far too late to include authentic remembrances of Jesus. The Blackwell Companion to Jesus states that the Toledot Yeshu has no historical facts as such, and was perhaps created as a tool for warding off conversions to Christianity. The name Panthera may be a distortion of the term parthenos (virgin) and Raymond E. Brown considers the story of Panthera a fanciful explanation of the birth of Jesus which includes very little historical evidence. Robert Van Voorst states that given that Toledot Yeshu is a medieval document and due to its lack of a fixed form and orientation towards a popular audience, it is \"most unlikely\" to have reliable historical information.</td>\n",
              "      <td>[0.012199492, 0.046459753, -0.11663603, -0.017170992, 0.045807563, 0.033104267, 0.011868109, 0.0084309485, -0.04416237, 2.0294678, -0.07731328, 0.057624478, 0.07003506, 0.0497763, -0.047735307, -0.06392527, -0.046528425, 0.826876, -0.13091157, -0.12454619, -0.036613505, -0.10205029, -0.08462372, 0.021116314, 0.03843175, 0.061973944, 0.026568143, -0.013403746, -0.08165886, 0.050787557, 0.029575571, 0.15080616, 0.0012734497, 0.054201186, 0.07156173, 0.0022145307, -0.030039042, -0.009289225, -0.054505706, -0.104354694, 0.050101146, 0.1517524, -0.018930316, -0.053746212, 0.09160883, -0.052395407, -0.052066054, -0.08404746, 0.017446727, 0.06376698, -0.06843197, 0.05168622, -0.011231459, 0.03472405, 0.12768398, 0.0019416417, 0.009958824, -0.037797563, -0.04255076, -0.02535756, 0.06434648, -0.012379034, -0.053433027, 0.14873932, -0.06189169, -0.08366789, -0.06567759, 0.009412288, 0.027056066, 0.0893635, -0.011634911, 0.03290664, 0.09598591, -0.08400224, 0.06747061, -0.022897094, 0.003916809, -0.07541174, -0.02730515, 0.1260992, 0.004404872, 0.05438191, -0.074828416, 0.017661607, 0.08383047, -0.29415667, -0.21701898, -0.17778246, 0.08243186, 0.036120288, -0.1316124, -0.009903416, -0.08391937, 0.03594092, 0.11654351, 0.045183387, 0.023836665, -0.028580653, 0.07118443, -0.06514149, ...]</td>\n",
              "    </tr>\n",
              "    <tr>\n",
              "      <th>50122</th>\n",
              "      <td>Mary_(mother_of_Jesus)</td>\n",
              "      <td>429172ea1bfe11ea8f2b656571b1b549</td>\n",
              "      <td>The issue of the parentage of Jesus in the Talmud affects also the view of his mother. However the Talmud does not mention Mary by name and is considerate rather than only polemic. The story about Panthera is also found in the Toledot Yeshu, the literary origins of which can not be traced with any certainty and given that it is unlikely to go before the 4th century, it is far too late to include authentic remembrances of Jesus. The Blackwell Companion to Jesus states that the Toledot Yeshu has no historical facts as such, and was perhaps created as a tool for warding off conversions to Christianity. The name Panthera may be a distortion of the term parthenos (virgin) and Raymond E. Brown considers the story of Panthera a fanciful explanation of the birth of Jesus which includes very little historical evidence. Robert Van Voorst states that given that Toledot Yeshu is a medieval document and due to its lack of a fixed form and orientation towards a popular audience, it is \"most unlikely\" to have reliable historical information.</td>\n",
              "      <td>[0.012199492, 0.046459753, -0.11663603, -0.017170992, 0.045807563, 0.033104267, 0.011868109, 0.0084309485, -0.04416237, 2.0294678, -0.07731328, 0.057624478, 0.07003506, 0.0497763, -0.047735307, -0.06392527, -0.046528425, 0.826876, -0.13091157, -0.12454619, -0.036613505, -0.10205029, -0.08462372, 0.021116314, 0.03843175, 0.061973944, 0.026568143, -0.013403746, -0.08165886, 0.050787557, 0.029575571, 0.15080616, 0.0012734497, 0.054201186, 0.07156173, 0.0022145307, -0.030039042, -0.009289225, -0.054505706, -0.104354694, 0.050101146, 0.1517524, -0.018930316, -0.053746212, 0.09160883, -0.052395407, -0.052066054, -0.08404746, 0.017446727, 0.06376698, -0.06843197, 0.05168622, -0.011231459, 0.03472405, 0.12768398, 0.0019416417, 0.009958824, -0.037797563, -0.04255076, -0.02535756, 0.06434648, -0.012379034, -0.053433027, 0.14873932, -0.06189169, -0.08366789, -0.06567759, 0.009412288, 0.027056066, 0.0893635, -0.011634911, 0.03290664, 0.09598591, -0.08400224, 0.06747061, -0.022897094, 0.003916809, -0.07541174, -0.02730515, 0.1260992, 0.004404872, 0.05438191, -0.074828416, 0.017661607, 0.08383047, -0.29415667, -0.21701898, -0.17778246, 0.08243186, 0.036120288, -0.1316124, -0.009903416, -0.08391937, 0.03594092, 0.11654351, 0.045183387, 0.023836665, -0.028580653, 0.07118443, -0.06514149, ...]</td>\n",
              "    </tr>\n",
              "    <tr>\n",
              "      <th>59359</th>\n",
              "      <td>Mary_(mother_of_Jesus)</td>\n",
              "      <td>429172ea1bfe11ea8f2b656571b1b549</td>\n",
              "      <td>The issue of the parentage of Jesus in the Talmud affects also the view of his mother. However the Talmud does not mention Mary by name and is considerate rather than only polemic. The story about Panthera is also found in the Toledot Yeshu, the literary origins of which can not be traced with any certainty and given that it is unlikely to go before the 4th century, it is far too late to include authentic remembrances of Jesus. The Blackwell Companion to Jesus states that the Toledot Yeshu has no historical facts as such, and was perhaps created as a tool for warding off conversions to Christianity. The name Panthera may be a distortion of the term parthenos (virgin) and Raymond E. Brown considers the story of Panthera a fanciful explanation of the birth of Jesus which includes very little historical evidence. Robert Van Voorst states that given that Toledot Yeshu is a medieval document and due to its lack of a fixed form and orientation towards a popular audience, it is \"most unlikely\" to have reliable historical information.</td>\n",
              "      <td>[0.012199492, 0.046459753, -0.11663603, -0.017170992, 0.045807563, 0.033104267, 0.011868109, 0.0084309485, -0.04416237, 2.0294678, -0.07731328, 0.057624478, 0.07003506, 0.0497763, -0.047735307, -0.06392527, -0.046528425, 0.826876, -0.13091157, -0.12454619, -0.036613505, -0.10205029, -0.08462372, 0.021116314, 0.03843175, 0.061973944, 0.026568143, -0.013403746, -0.08165886, 0.050787557, 0.029575571, 0.15080616, 0.0012734497, 0.054201186, 0.07156173, 0.0022145307, -0.030039042, -0.009289225, -0.054505706, -0.104354694, 0.050101146, 0.1517524, -0.018930316, -0.053746212, 0.09160883, -0.052395407, -0.052066054, -0.08404746, 0.017446727, 0.06376698, -0.06843197, 0.05168622, -0.011231459, 0.03472405, 0.12768398, 0.0019416417, 0.009958824, -0.037797563, -0.04255076, -0.02535756, 0.06434648, -0.012379034, -0.053433027, 0.14873932, -0.06189169, -0.08366789, -0.06567759, 0.009412288, 0.027056066, 0.0893635, -0.011634911, 0.03290664, 0.09598591, -0.08400224, 0.06747061, -0.022897094, 0.003916809, -0.07541174, -0.02730515, 0.1260992, 0.004404872, 0.05438191, -0.074828416, 0.017661607, 0.08383047, -0.29415667, -0.21701898, -0.17778246, 0.08243186, 0.036120288, -0.1316124, -0.009903416, -0.08391937, 0.03594092, 0.11654351, 0.045183387, 0.023836665, -0.028580653, 0.07118443, -0.06514149, ...]</td>\n",
              "    </tr>\n",
              "    <tr>\n",
              "      <th>25877</th>\n",
              "      <td>Hindu_philosophy</td>\n",
              "      <td>4286fd561bfe11ea8f2b656571b1b549</td>\n",
              "      <td>Pāśupata Shaivism (Pāśupata, \"of Paśupati\") is the oldest of the major Shaiva schools. The philosophy of Pashupata sect was systematized by Lakulish in the 2nd century CE. Paśu in Paśupati refers to the effect (or created world), the word designates that which is dependent on something ulterior. Whereas, Pati means the cause (or principium), the word designates the Lord, who is the cause of the universe, the pati, or the ruler. Pashupatas disapproved of Vaishnava theology, known for its doctrine servitude of souls to the Supreme Being, on the grounds that dependence upon anything could not be the means of cessation of pain and other desired ends. They recognised that those depending upon another and longing for independence will not be emancipated because they still depend upon something other than themselves. According to Pāśupatas, soul possesses the attributes of the Supreme Deity when it becomes liberated from the 'germ of every pain'.</td>\n",
              "      <td>[0.06700605, 0.060342643, -0.08435296, -0.06733164, 0.024977893, -0.050960436, -0.003907433, 0.07488985, -0.009305475, 2.1403594, -0.10814771, 0.03648051, 0.08626707, -0.018633995, 0.019810045, -0.05895989, -0.057402838, 0.87957555, -0.1246735, -0.004606761, -0.03689155, -0.10621116, -0.11533095, 0.08765996, 0.030784143, 0.0069327904, 0.018442903, -0.027432762, -0.13579498, 0.07692581, -0.032859266, 0.15580107, -0.052166503, 0.08376052, 0.06739518, 0.0014168399, -0.09556741, 0.005914067, -0.04420383, -0.02935125, 0.03761945, 0.19346312, -0.001204798, -0.0084880935, 0.08305549, -0.033902783, -0.10746161, 0.00839956, -0.047400452, 0.054296687, -0.025949884, 0.045075152, -0.07488177, -0.0013912445, 0.08957668, -0.0044335662, -0.0048427773, -0.062556446, -0.051377404, -0.10679361, 0.025119256, -0.044597875, -0.031154282, 0.14864333, -0.06637475, -0.026148157, -0.021043027, -0.029610433, 0.003857645, -0.004640964, 0.033203844, 0.017693894, 0.09986364, -0.09341881, 0.10209804, -0.036909148, -0.013726711, -0.009795251, -0.044722006, 0.075408764, -0.026030708, 0.11199531, -0.1656165, -0.04351753, 0.16117749, -0.25818202, -0.2651853, -0.16485932, 0.06498252, -0.0049799606, -0.1386101, -0.0031796228, -0.08699615, 0.044956528, 0.06279079, 0.046335712, 0.036312316, -0.08182749, -0.012425634, -0.037036836, ...]</td>\n",
              "    </tr>\n",
              "  </tbody>\n",
              "</table>\n",
              "</div>"
            ],
            "text/plain": [
              "                        title                            doc_id  \\\n",
              "47662  Mary_(mother_of_Jesus)  429172ea1bfe11ea8f2b656571b1b549   \n",
              "50122  Mary_(mother_of_Jesus)  429172ea1bfe11ea8f2b656571b1b549   \n",
              "59359  Mary_(mother_of_Jesus)  429172ea1bfe11ea8f2b656571b1b549   \n",
              "25877  Hindu_philosophy        4286fd561bfe11ea8f2b656571b1b549   \n",
              "\n",
              "                                                                                                                                                                                                                                                                                                                                                                                                                                                                                                                                                                                                                                                                                                                                                                                                                                                                                                                                                                                                                                                                                 document  \\\n",
              "47662  The issue of the parentage of Jesus in the Talmud affects also the view of his mother. However the Talmud does not mention Mary by name and is considerate rather than only polemic. The story about Panthera is also found in the Toledot Yeshu, the literary origins of which can not be traced with any certainty and given that it is unlikely to go before the 4th century, it is far too late to include authentic remembrances of Jesus. The Blackwell Companion to Jesus states that the Toledot Yeshu has no historical facts as such, and was perhaps created as a tool for warding off conversions to Christianity. The name Panthera may be a distortion of the term parthenos (virgin) and Raymond E. Brown considers the story of Panthera a fanciful explanation of the birth of Jesus which includes very little historical evidence. Robert Van Voorst states that given that Toledot Yeshu is a medieval document and due to its lack of a fixed form and orientation towards a popular audience, it is \"most unlikely\" to have reliable historical information.   \n",
              "50122  The issue of the parentage of Jesus in the Talmud affects also the view of his mother. However the Talmud does not mention Mary by name and is considerate rather than only polemic. The story about Panthera is also found in the Toledot Yeshu, the literary origins of which can not be traced with any certainty and given that it is unlikely to go before the 4th century, it is far too late to include authentic remembrances of Jesus. The Blackwell Companion to Jesus states that the Toledot Yeshu has no historical facts as such, and was perhaps created as a tool for warding off conversions to Christianity. The name Panthera may be a distortion of the term parthenos (virgin) and Raymond E. Brown considers the story of Panthera a fanciful explanation of the birth of Jesus which includes very little historical evidence. Robert Van Voorst states that given that Toledot Yeshu is a medieval document and due to its lack of a fixed form and orientation towards a popular audience, it is \"most unlikely\" to have reliable historical information.   \n",
              "59359  The issue of the parentage of Jesus in the Talmud affects also the view of his mother. However the Talmud does not mention Mary by name and is considerate rather than only polemic. The story about Panthera is also found in the Toledot Yeshu, the literary origins of which can not be traced with any certainty and given that it is unlikely to go before the 4th century, it is far too late to include authentic remembrances of Jesus. The Blackwell Companion to Jesus states that the Toledot Yeshu has no historical facts as such, and was perhaps created as a tool for warding off conversions to Christianity. The name Panthera may be a distortion of the term parthenos (virgin) and Raymond E. Brown considers the story of Panthera a fanciful explanation of the birth of Jesus which includes very little historical evidence. Robert Van Voorst states that given that Toledot Yeshu is a medieval document and due to its lack of a fixed form and orientation towards a popular audience, it is \"most unlikely\" to have reliable historical information.   \n",
              "25877  Pāśupata Shaivism (Pāśupata, \"of Paśupati\") is the oldest of the major Shaiva schools. The philosophy of Pashupata sect was systematized by Lakulish in the 2nd century CE. Paśu in Paśupati refers to the effect (or created world), the word designates that which is dependent on something ulterior. Whereas, Pati means the cause (or principium), the word designates the Lord, who is the cause of the universe, the pati, or the ruler. Pashupatas disapproved of Vaishnava theology, known for its doctrine servitude of souls to the Supreme Being, on the grounds that dependence upon anything could not be the means of cessation of pain and other desired ends. They recognised that those depending upon another and longing for independence will not be emancipated because they still depend upon something other than themselves. According to Pāśupatas, soul possesses the attributes of the Supreme Deity when it becomes liberated from the 'germ of every pain'.                                                                                            \n",
              "\n",
              "                                                                                                                                                                                                                                                                                                                                                                                                                                                                                                                                                                                                                                                                                                                                                                                                                                                                                                                                                                                                                                                                                                                                                                                                                                                                                                                                                                      doc_repr  \n",
              "47662  [0.012199492, 0.046459753, -0.11663603, -0.017170992, 0.045807563, 0.033104267, 0.011868109, 0.0084309485, -0.04416237, 2.0294678, -0.07731328, 0.057624478, 0.07003506, 0.0497763, -0.047735307, -0.06392527, -0.046528425, 0.826876, -0.13091157, -0.12454619, -0.036613505, -0.10205029, -0.08462372, 0.021116314, 0.03843175, 0.061973944, 0.026568143, -0.013403746, -0.08165886, 0.050787557, 0.029575571, 0.15080616, 0.0012734497, 0.054201186, 0.07156173, 0.0022145307, -0.030039042, -0.009289225, -0.054505706, -0.104354694, 0.050101146, 0.1517524, -0.018930316, -0.053746212, 0.09160883, -0.052395407, -0.052066054, -0.08404746, 0.017446727, 0.06376698, -0.06843197, 0.05168622, -0.011231459, 0.03472405, 0.12768398, 0.0019416417, 0.009958824, -0.037797563, -0.04255076, -0.02535756, 0.06434648, -0.012379034, -0.053433027, 0.14873932, -0.06189169, -0.08366789, -0.06567759, 0.009412288, 0.027056066, 0.0893635, -0.011634911, 0.03290664, 0.09598591, -0.08400224, 0.06747061, -0.022897094, 0.003916809, -0.07541174, -0.02730515, 0.1260992, 0.004404872, 0.05438191, -0.074828416, 0.017661607, 0.08383047, -0.29415667, -0.21701898, -0.17778246, 0.08243186, 0.036120288, -0.1316124, -0.009903416, -0.08391937, 0.03594092, 0.11654351, 0.045183387, 0.023836665, -0.028580653, 0.07118443, -0.06514149, ...]                        \n",
              "50122  [0.012199492, 0.046459753, -0.11663603, -0.017170992, 0.045807563, 0.033104267, 0.011868109, 0.0084309485, -0.04416237, 2.0294678, -0.07731328, 0.057624478, 0.07003506, 0.0497763, -0.047735307, -0.06392527, -0.046528425, 0.826876, -0.13091157, -0.12454619, -0.036613505, -0.10205029, -0.08462372, 0.021116314, 0.03843175, 0.061973944, 0.026568143, -0.013403746, -0.08165886, 0.050787557, 0.029575571, 0.15080616, 0.0012734497, 0.054201186, 0.07156173, 0.0022145307, -0.030039042, -0.009289225, -0.054505706, -0.104354694, 0.050101146, 0.1517524, -0.018930316, -0.053746212, 0.09160883, -0.052395407, -0.052066054, -0.08404746, 0.017446727, 0.06376698, -0.06843197, 0.05168622, -0.011231459, 0.03472405, 0.12768398, 0.0019416417, 0.009958824, -0.037797563, -0.04255076, -0.02535756, 0.06434648, -0.012379034, -0.053433027, 0.14873932, -0.06189169, -0.08366789, -0.06567759, 0.009412288, 0.027056066, 0.0893635, -0.011634911, 0.03290664, 0.09598591, -0.08400224, 0.06747061, -0.022897094, 0.003916809, -0.07541174, -0.02730515, 0.1260992, 0.004404872, 0.05438191, -0.074828416, 0.017661607, 0.08383047, -0.29415667, -0.21701898, -0.17778246, 0.08243186, 0.036120288, -0.1316124, -0.009903416, -0.08391937, 0.03594092, 0.11654351, 0.045183387, 0.023836665, -0.028580653, 0.07118443, -0.06514149, ...]                        \n",
              "59359  [0.012199492, 0.046459753, -0.11663603, -0.017170992, 0.045807563, 0.033104267, 0.011868109, 0.0084309485, -0.04416237, 2.0294678, -0.07731328, 0.057624478, 0.07003506, 0.0497763, -0.047735307, -0.06392527, -0.046528425, 0.826876, -0.13091157, -0.12454619, -0.036613505, -0.10205029, -0.08462372, 0.021116314, 0.03843175, 0.061973944, 0.026568143, -0.013403746, -0.08165886, 0.050787557, 0.029575571, 0.15080616, 0.0012734497, 0.054201186, 0.07156173, 0.0022145307, -0.030039042, -0.009289225, -0.054505706, -0.104354694, 0.050101146, 0.1517524, -0.018930316, -0.053746212, 0.09160883, -0.052395407, -0.052066054, -0.08404746, 0.017446727, 0.06376698, -0.06843197, 0.05168622, -0.011231459, 0.03472405, 0.12768398, 0.0019416417, 0.009958824, -0.037797563, -0.04255076, -0.02535756, 0.06434648, -0.012379034, -0.053433027, 0.14873932, -0.06189169, -0.08366789, -0.06567759, 0.009412288, 0.027056066, 0.0893635, -0.011634911, 0.03290664, 0.09598591, -0.08400224, 0.06747061, -0.022897094, 0.003916809, -0.07541174, -0.02730515, 0.1260992, 0.004404872, 0.05438191, -0.074828416, 0.017661607, 0.08383047, -0.29415667, -0.21701898, -0.17778246, 0.08243186, 0.036120288, -0.1316124, -0.009903416, -0.08391937, 0.03594092, 0.11654351, 0.045183387, 0.023836665, -0.028580653, 0.07118443, -0.06514149, ...]                        \n",
              "25877  [0.06700605, 0.060342643, -0.08435296, -0.06733164, 0.024977893, -0.050960436, -0.003907433, 0.07488985, -0.009305475, 2.1403594, -0.10814771, 0.03648051, 0.08626707, -0.018633995, 0.019810045, -0.05895989, -0.057402838, 0.87957555, -0.1246735, -0.004606761, -0.03689155, -0.10621116, -0.11533095, 0.08765996, 0.030784143, 0.0069327904, 0.018442903, -0.027432762, -0.13579498, 0.07692581, -0.032859266, 0.15580107, -0.052166503, 0.08376052, 0.06739518, 0.0014168399, -0.09556741, 0.005914067, -0.04420383, -0.02935125, 0.03761945, 0.19346312, -0.001204798, -0.0084880935, 0.08305549, -0.033902783, -0.10746161, 0.00839956, -0.047400452, 0.054296687, -0.025949884, 0.045075152, -0.07488177, -0.0013912445, 0.08957668, -0.0044335662, -0.0048427773, -0.062556446, -0.051377404, -0.10679361, 0.025119256, -0.044597875, -0.031154282, 0.14864333, -0.06637475, -0.026148157, -0.021043027, -0.029610433, 0.003857645, -0.004640964, 0.033203844, 0.017693894, 0.09986364, -0.09341881, 0.10209804, -0.036909148, -0.013726711, -0.009795251, -0.044722006, 0.075408764, -0.026030708, 0.11199531, -0.1656165, -0.04351753, 0.16117749, -0.25818202, -0.2651853, -0.16485932, 0.06498252, -0.0049799606, -0.1386101, -0.0031796228, -0.08699615, 0.044956528, 0.06279079, 0.046335712, 0.036312316, -0.08182749, -0.012425634, -0.037036836, ...]  "
            ]
          },
          "metadata": {
            "tags": []
          },
          "execution_count": 137
        }
      ]
    },
    {
      "cell_type": "code",
      "metadata": {
        "id": "pBuXFsKuQfII",
        "colab_type": "code",
        "colab": {
          "base_uri": "https://localhost:8080/",
          "height": 204
        },
        "outputId": "a47b7ce4-bb1b-4c32-f6db-782e699ac266"
      },
      "source": [
        "t.get_nns_by_vector(query_emb, n=10, search_k=1000, include_distances=True)\n"
      ],
      "execution_count": 141,
      "outputs": [
        {
          "output_type": "execute_result",
          "data": {
            "text/plain": [
              "([45900, 47662, 50122, 59359, 25877, 28008, 34047, 56688, 179, 40585],\n",
              " [1.576735258102417,\n",
              "  1.576735258102417,\n",
              "  1.576735258102417,\n",
              "  1.576735258102417,\n",
              "  1.6043064594268799,\n",
              "  1.6043064594268799,\n",
              "  1.6043064594268799,\n",
              "  1.6043064594268799,\n",
              "  1.634513258934021,\n",
              "  1.634513258934021])"
            ]
          },
          "metadata": {
            "tags": []
          },
          "execution_count": 141
        }
      ]
    },
    {
      "cell_type": "code",
      "metadata": {
        "id": "LbLWygemYx2c",
        "colab_type": "code",
        "colab": {
          "base_uri": "https://localhost:8080/",
          "height": 34
        },
        "outputId": "30ea7860-c0a9-4d7f-f7b5-8ded4cf5adaf"
      },
      "source": [
        "t.get_nns_by_item(0, 5)"
      ],
      "execution_count": 139,
      "outputs": [
        {
          "output_type": "execute_result",
          "data": {
            "text/plain": [
              "[0, 6124, 17937, 44558, 60331]"
            ]
          },
          "metadata": {
            "tags": []
          },
          "execution_count": 139
        }
      ]
    }
  ]
}