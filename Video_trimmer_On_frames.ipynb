{
  "nbformat": 4,
  "nbformat_minor": 0,
  "metadata": {
    "colab": {
      "name": "Video_trimmer_On_frames",
      "provenance": [],
      "authorship_tag": "ABX9TyNY0h0LXgyQF/Uy4KxWAC7f",
      "include_colab_link": true
    },
    "kernelspec": {
      "name": "python3",
      "display_name": "Python 3"
    }
  },
  "cells": [
    {
      "cell_type": "markdown",
      "metadata": {
        "id": "view-in-github",
        "colab_type": "text"
      },
      "source": [
        "<a href=\"https://colab.research.google.com/github/anjalinagel12/Google-colab-notebook/blob/master/Video_trimmer_On_frames.ipynb\" target=\"_parent\"><img src=\"https://colab.research.google.com/assets/colab-badge.svg\" alt=\"Open In Colab\"/></a>"
      ]
    },
    {
      "cell_type": "code",
      "metadata": {
        "id": "oI2bjcZbnjVr",
        "colab_type": "code",
        "colab": {
          "base_uri": "https://localhost:8080/",
          "height": 119
        },
        "outputId": "e399c628-ca16-4d11-c415-de28f51f5cdd"
      },
      "source": [
        "!pip install moviepy"
      ],
      "execution_count": 1,
      "outputs": [
        {
          "output_type": "stream",
          "text": [
            "Requirement already satisfied: moviepy in /usr/local/lib/python3.6/dist-packages (0.2.3.5)\n",
            "Requirement already satisfied: tqdm<5.0,>=4.11.2 in /usr/local/lib/python3.6/dist-packages (from moviepy) (4.28.1)\n",
            "Requirement already satisfied: numpy in /usr/local/lib/python3.6/dist-packages (from moviepy) (1.17.5)\n",
            "Requirement already satisfied: imageio<3.0,>=2.1.2 in /usr/local/lib/python3.6/dist-packages (from moviepy) (2.4.1)\n",
            "Requirement already satisfied: decorator<5.0,>=4.0.2 in /usr/local/lib/python3.6/dist-packages (from moviepy) (4.4.1)\n",
            "Requirement already satisfied: pillow in /usr/local/lib/python3.6/dist-packages (from imageio<3.0,>=2.1.2->moviepy) (6.2.2)\n"
          ],
          "name": "stdout"
        }
      ]
    },
    {
      "cell_type": "code",
      "metadata": {
        "id": "jdtAlAqhnq-3",
        "colab_type": "code",
        "colab": {}
      },
      "source": [
        "from moviepy.video.io.ffmpeg_tools import ffmpeg_extract_subclip"
      ],
      "execution_count": 0,
      "outputs": []
    },
    {
      "cell_type": "code",
      "metadata": {
        "id": "8frMMkPsnue4",
        "colab_type": "code",
        "colab": {}
      },
      "source": [
        "ffmpeg_extract_subclip(\"D:\\VideoTrimmed\\SevennPeopleSitting.avi\", 0, 242 ,targetname=\"D:\\VideoTrimmed\\SevenPeopleSitting.avi\")\n"
      ],
      "execution_count": 0,
      "outputs": []
    }
  ]
}